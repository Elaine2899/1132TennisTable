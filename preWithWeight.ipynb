{
 "cells": [
  {
   "cell_type": "markdown",
   "id": "bb6d2189",
   "metadata": {},
   "source": [
    ".ipynb的介面最上面有一排東西\"+Code\", \"+Markdown\", ...最後有個\"Outline\"打開就可以看到目錄！"
   ]
  },
  {
   "cell_type": "markdown",
   "id": "f7d2a977",
   "metadata": {},
   "source": [
    "## 預處理"
   ]
  },
  {
   "cell_type": "code",
   "execution_count": null,
   "id": "d9b6bec2",
   "metadata": {},
   "outputs": [],
   "source": [
    "import os  # 處理檔案路徑\n",
    "import numpy as np  # 處理數值資料\n",
    "import pandas as pd  # 處理表格型資料\n",
    "from tqdm import tqdm  # 讓迴圈加上進度條\n",
    "from torch.utils.data import Dataset, DataLoader\n",
    "from sklearn.model_selection import train_test_split"
   ]
  },
  {
   "cell_type": "code",
   "execution_count": 36,
   "id": "8f048e43",
   "metadata": {},
   "outputs": [],
   "source": [
    "SEQ_LEN = 2048  # 我們希望每筆資料長度都一樣（2048個時間點）(可以改)\n",
    "\n",
    "DATA_DIR = \"39_Training_Dataset/39_Training_Dataset/train_data\" # 存放 .txt 的資料夾\n",
    "INFO_PATH = \"39_Training_Dataset/39_Training_Dataset/train_info.csv\" # 標籤的 .csv 檔路徑"
   ]
  },
  {
   "cell_type": "code",
   "execution_count": 38,
   "id": "6c1d93d1",
   "metadata": {},
   "outputs": [],
   "source": [
    "def load_and_process_txt(file_path, seq_len=SEQ_LEN):\n",
    "    data = np.loadtxt(file_path)  # 把.txt轉為numpy陣列 (T, 6)\n",
    "    \n",
    "    # 標準化處理：讓每個維度的平均變0，標準差變1\n",
    "    data = (data - data.mean(axis=0)) / (data.std(axis=0) + 1e-8)\n",
    "    \n",
    "    # 裁切或補零：統一長度為 SEQ_LEN\n",
    "    if data.shape[0] >= seq_len:\n",
    "        data = data[:seq_len]  # 裁切\n",
    "    else:\n",
    "        pad_width = seq_len - data.shape[0]\n",
    "        data = np.pad(data, ((0, pad_width), (0, 0)), mode='constant')  # np.pad() 是 NumPy 的補零函式\n",
    "        # (0, pad_width) 表示對列數（時間點）補零在「後面」\n",
    "        # (0, 0) 表示欄位數（6 個感測器維度）不補零\n",
    "        # mode='constant' 用 0 去補\n",
    "    \n",
    "    return data  # shape = (2048, 6)"
   ]
  },
  {
   "cell_type": "code",
   "execution_count": 39,
   "id": "889fd441",
   "metadata": {},
   "outputs": [
    {
     "name": "stderr",
     "output_type": "stream",
     "text": [
      "  0%|          | 0/1955 [00:00<?, ?it/s]"
     ]
    },
    {
     "name": "stderr",
     "output_type": "stream",
     "text": [
      "100%|██████████| 1955/1955 [00:11<00:00, 173.71it/s]\n"
     ]
    }
   ],
   "source": [
    "# 讀取標籤 CSV\n",
    "info_df = pd.read_csv(INFO_PATH)\n",
    "\n",
    "# 預處理 label（從 0 開始）\n",
    "info_df['gender'] -= 1  # gender: 1,2 → 0,1\n",
    "info_df['hand'] = info_df['hold racket handed'] - 1  # 1,2 → 0,1\n",
    "info_df['level'] -= 2  # level: 2~5 → 0~3\n",
    "\n",
    "# 建立空 list 來存處理後的資料\n",
    "X_data = []  # 每筆 (2048, 6) 的時間序列\n",
    "y_gender = []   # 對應性別\n",
    "y_hand = []  # 對應慣用手\n",
    "y_years = []  # 對應球齡（0,1,2）\n",
    "y_level = []  # 對應等級（0~3）\n",
    "\n",
    "# 開始跑全部的 txt 檔\n",
    "for _, row in tqdm(info_df.iterrows(), total=len(info_df)):\n",
    "    uid = row['unique_id']\n",
    "    file_path = os.path.join(DATA_DIR, f\"{uid}.txt\")\n",
    "\n",
    "    if not os.path.exists(file_path):\n",
    "        print(f\"找不到檔案: {file_path}\")\n",
    "        continue  # 若檔案不存在就跳過\n",
    "\n",
    "    # 處理 .txt 檔 → 轉成 (2048, 6) 的陣列\n",
    "    x = load_and_process_txt(file_path)  # 👈 讀 + 標準化 + 補長度\n",
    "    X_data.append(x)  # 放入訓練資料集\n",
    "\n",
    "    # 加入對應的標籤\n",
    "    y_gender.append(row['gender'])\n",
    "    y_hand.append(row['hand'])\n",
    "    y_years.append(row['play years'])  # 不用處理，已經是 0,1,2\n",
    "    y_level.append(row['level'])       # 已經轉為 0~3\n",
    "\n",
    "# 轉成 numpy 陣列\n",
    "X_data = np.array(X_data)\n",
    "y_gender = np.array(y_gender)\n",
    "y_hand = np.array(y_hand)\n",
    "y_years = np.array(y_years)\n",
    "y_level = np.array(y_level)\n"
   ]
  },
  {
   "cell_type": "code",
   "execution_count": null,
   "id": "054ebd11",
   "metadata": {},
   "outputs": [],
   "source": [
    "# 存下來，之後大家可以直接用\n",
    "# 如果你資料預處理有更動的話，下面的檔名也記得改！！！\n",
    "# 更改方案，這些檔案就自己可以存下來，不要上傳到github上\n",
    "np.save(\"X_data.npy\", X_data)\n",
    "np.save(\"y_gender.npy\", y_gender)\n",
    "np.save(\"y_hand.npy\", y_hand)\n",
    "np.save(\"y_years.npy\", y_years)\n",
    "np.save(\"y_level.npy\", y_level)"
   ]
  },
  {
   "cell_type": "markdown",
   "id": "3fe8cffa",
   "metadata": {},
   "source": [
    "## Test\n",
    "看一下資料分布而已，也可以跳過"
   ]
  },
  {
   "cell_type": "code",
   "execution_count": null,
   "id": "f1aaf175",
   "metadata": {},
   "outputs": [],
   "source": [
    "import numpy as np  # 處理數值資料\n",
    "X_data = np.load(\"X_data.npy\")\n",
    "y_gender = np.load(\"y_gender.npy\")\n",
    "y_hand = np.load(\"y_hand.npy\")\n",
    "y_years = np.load(\"y_years.npy\")\n",
    "y_level = np.load(\"y_level.npy\")"
   ]
  },
  {
   "cell_type": "code",
   "execution_count": 40,
   "id": "6d9c98ac",
   "metadata": {},
   "outputs": [
    {
     "name": "stdout",
     "output_type": "stream",
     "text": [
      "男生（0）有幾筆： 1627\n",
      "女生（1）有幾筆： 328\n"
     ]
    }
   ],
   "source": [
    "print(\"男生（0）有幾筆：\", np.sum(y_gender == 0))\n",
    "print(\"女生（1）有幾筆：\", np.sum(y_gender == 1))\n",
    "# 幾乎 5 倍差距 嚴重失衡\n",
    "# 建議使用 oversampling / SMOTE 等技巧\n",
    "\n",
    "# W1 使用 class_weight（推薦！）\n",
    "# W2 上採樣少數類別（如女生）\n",
    "# W3 設計多目標損失時，對 gender 特別調整權重"
   ]
  },
  {
   "cell_type": "code",
   "execution_count": 50,
   "id": "7b1f0e72",
   "metadata": {},
   "outputs": [
    {
     "name": "stdout",
     "output_type": "stream",
     "text": [
      "右手（0）有幾筆： 1589\n",
      "左手（1）有幾筆： 366\n",
      "低球齡有幾筆： 387\n",
      "中球齡有幾筆： 868\n",
      "高球齡有幾筆： 700\n",
      "等級0： 715\n",
      "等級1： 201\n",
      "等級2： 136\n",
      "等級3： 903\n"
     ]
    }
   ],
   "source": [
    "# 檢查持拍手分布\n",
    "print(\"右手（0）有幾筆：\", np.sum(y_hand == 0))\n",
    "print(\"左手（1）有幾筆：\", np.sum(y_hand == 1))\n",
    "# 4.34 倍差距→ 明顯不平衡\n",
    "\n",
    "# 檢查球齡分布\n",
    "print(\"低球齡有幾筆：\", np.sum(y_years == 0))\n",
    "print(\"中球齡有幾筆：\", np.sum(y_years == 1))\n",
    "print(\"高球齡有幾筆：\", np.sum(y_years == 2))\n",
    "# 差 ≈ 2.2 倍 → 輕度不平衡\n",
    "\n",
    "# 檢查等級分布\n",
    "print(\"等級0：\", np.sum(y_level == 0))\n",
    "print(\"等級1：\", np.sum(y_level == 1))\n",
    "print(\"等級2：\", np.sum(y_level == 2))\n",
    "print(\"等級3：\", np.sum(y_level == 3))\n",
    "# 6.6 倍差距 → 明顯不平衡"
   ]
  },
  {
   "cell_type": "markdown",
   "id": "cec53cb4",
   "metadata": {},
   "source": [
    "## 0. 載資料"
   ]
  },
  {
   "cell_type": "code",
   "execution_count": null,
   "id": "3537c6bd",
   "metadata": {},
   "outputs": [],
   "source": [
    "import numpy as np  # 處理數值資料\n",
    "import pandas as pd\n",
    "import os\n",
    "from sklearn.model_selection import train_test_split"
   ]
  },
  {
   "cell_type": "code",
   "execution_count": null,
   "id": "6ec8b247",
   "metadata": {},
   "outputs": [],
   "source": [
    "X_data = np.load(\"X_data.npy\")\n",
    "y_gender = np.load(\"y_gender.npy\")\n",
    "y_hand = np.load(\"y_hand.npy\")\n",
    "y_years = np.load(\"y_years.npy\")\n",
    "y_level = np.load(\"y_level.npy\")"
   ]
  },
  {
   "cell_type": "code",
   "execution_count": null,
   "id": "1c27efb6",
   "metadata": {},
   "outputs": [],
   "source": [
    "# 切分訓練與驗證資料（80% 訓練, 20% 驗證）\n",
    "X_train, X_val, y_gender_train, y_gender_val, y_hand_train, y_hand_val, y_years_train, y_years_val, y_level_train, y_level_val = train_test_split(\n",
    "    X_data, y_gender, y_hand, y_years, y_level, test_size=0.2, random_state=42\n",
    ")"
   ]
  },
  {
   "cell_type": "markdown",
   "id": "075be328",
   "metadata": {},
   "source": [
    "## Optional. 權重處理"
   ]
  },
  {
   "cell_type": "code",
   "execution_count": null,
   "id": "7fd28983",
   "metadata": {},
   "outputs": [
    {
     "name": "stdout",
     "output_type": "stream",
     "text": [
      "class weights_years: {0: np.float64(1.6838931955211025), 1: np.float64(0.750768049155146), 2: np.float64(0.930952380952381)}\n",
      "class weights_gender: {0: np.float64(0.60079901659496), 1: np.float64(2.980182926829268)}\n",
      "class weights_hands: {0: np.float64(0.6151667715544368), 1: np.float64(2.670765027322404)}\n",
      "class weights_level: {0: np.float64(0.6835664335664335), 1: np.float64(2.431592039800995), 2: np.float64(3.59375), 3: np.float64(0.54125138427464)}\n"
     ]
    }
   ],
   "source": [
    "# 處理球齡資料不平衡\n",
    "from sklearn.utils.class_weight import compute_class_weight\n",
    "\n",
    "weights_years = compute_class_weight(class_weight='balanced', classes=np.unique(y_years), y=y_years)\n",
    "weights_gender = compute_class_weight(class_weight='balanced', classes=np.unique(y_gender), y=y_gender)\n",
    "weights_hands = compute_class_weight(class_weight='balanced', classes=np.unique(y_hand), y=y_hand)\n",
    "weights_level = compute_class_weight(class_weight='balanced', classes=np.unique(y_level), y=y_level)\n",
    "print(\"class weights_years:\", dict(enumerate(weights_years)))\n",
    "print(\"class weights_gender:\", dict(enumerate(weights_gender)))\n",
    "print(\"class weights_hands:\", dict(enumerate(weights_hands)))\n",
    "print(\"class weights_level:\", dict(enumerate(weights_level)))\n",
    "\n",
    "import torch\n",
    "import torch.nn as nn\n",
    "\n",
    "pos_weight_gender = torch.tensor([weights_gender[1]], dtype=torch.float32)\n",
    "pos_weight_hand   = torch.tensor([weights_hands[1]], dtype=torch.float32)\n",
    "ce_weight_years   = torch.tensor(weights_years, dtype=torch.float32)\n",
    "ce_weight_level   = torch.tensor(weights_level, dtype=torch.float32)"
   ]
  },
  {
   "cell_type": "markdown",
   "id": "a993ccff",
   "metadata": {},
   "source": [
    "## 1. 定義資料集"
   ]
  },
  {
   "cell_type": "code",
   "execution_count": 2,
   "id": "75df97e7",
   "metadata": {},
   "outputs": [],
   "source": [
    "# Dataset\n",
    "# 自定義一個能被 DataLoader 使用的資料類別\n",
    "# 當 DataLoader 做 batch 時會呼叫這個函式\n",
    "from torch.utils.data import Dataset, DataLoader\n",
    "\n",
    "class TableTennisDataset(Dataset):\n",
    "    def __init__(self, X, y_gender, y_hand, y_years, y_level):\n",
    "        self.X = torch.tensor(X, dtype=torch.float32)\n",
    "        self.y_gender = torch.tensor(y_gender, dtype=torch.float32)\n",
    "        self.y_hand = torch.tensor(y_hand, dtype=torch.float32)\n",
    "        self.y_years = torch.tensor(y_years, dtype=torch.long)\n",
    "        self.y_level = torch.tensor(y_level, dtype=torch.long)\n",
    "\n",
    "    def __len__(self):\n",
    "        return len(self.X)\n",
    "\n",
    "    def __getitem__(self, idx):\n",
    "        return self.X[idx], {\n",
    "            'gender': self.y_gender[idx],\n",
    "            'hand': self.y_hand[idx],\n",
    "            'years': self.y_years[idx],\n",
    "            'level': self.y_level[idx]\n",
    "        }"
   ]
  },
  {
   "cell_type": "markdown",
   "id": "3a547ab2",
   "metadata": {},
   "source": [
    "## 2. 定義模型"
   ]
  },
  {
   "cell_type": "code",
   "execution_count": 3,
   "id": "04c48481",
   "metadata": {},
   "outputs": [],
   "source": [
    "import torch\n",
    "import torch.nn as nn\n",
    "import torch.nn.functional as F\n",
    "from tqdm import tqdm\n",
    "\n",
    "# 定義損失函數\n",
    "# 要不要加權\n",
    "use_class_weight = False\n",
    "# use_class_weight = True\n",
    "\n",
    "if use_class_weight:\n",
    "    # binary 分類：性別 & 手 → BCEWithLogitsLoss + pos_weight\n",
    "    loss_gender = nn.BCEWithLogitsLoss(pos_weight=pos_weight_gender)\n",
    "    loss_hand   = nn.BCEWithLogitsLoss(pos_weight=pos_weight_hand)\n",
    "\n",
    "    # 多類別分類：球齡 & 等級 → CrossEntropyLoss + weight\n",
    "    loss_years = nn.CrossEntropyLoss(weight=ce_weight_years)\n",
    "    loss_level = nn.CrossEntropyLoss(weight=ce_weight_level)\n",
    "else:\n",
    "    loss_gender = nn.BCEWithLogitsLoss()\n",
    "    loss_hand   = nn.BCEWithLogitsLoss()\n",
    "    loss_years  = nn.CrossEntropyLoss()\n",
    "    loss_level  = nn.CrossEntropyLoss()"
   ]
  },
  {
   "cell_type": "code",
   "execution_count": 4,
   "id": "905e56c2",
   "metadata": {},
   "outputs": [],
   "source": [
    "# 模型\n",
    "class MultiTaskCNN(nn.Module):\n",
    "    def __init__(self):\n",
    "        super(MultiTaskCNN, self).__init__()\n",
    "\n",
    "        # 1D CNN feature extractor\n",
    "        self.feature_extractor = nn.Sequential(\n",
    "            nn.Conv1d(in_channels=6, out_channels=64, kernel_size=5, padding=2),  # (B, 64, 2048)\n",
    "            nn.ReLU(),\n",
    "            nn.MaxPool1d(kernel_size=2),  # (B, 64, 1024)\n",
    "\n",
    "            nn.Conv1d(64, 128, kernel_size=5, padding=2),  # (B, 128, 1024)\n",
    "            nn.ReLU(),\n",
    "            nn.MaxPool1d(2),  # (B, 128, 512)\n",
    "\n",
    "            nn.Conv1d(128, 256, kernel_size=3, padding=1),  # (B, 256, 512)\n",
    "            nn.ReLU(),\n",
    "            nn.AdaptiveAvgPool1d(1)  # (B, 256, 1)\n",
    "        )\n",
    "\n",
    "        # flatten\n",
    "        self.flatten = nn.Flatten()\n",
    "\n",
    "        # 預測 head（共用 CNN 特徵）\n",
    "        self.gender_head = nn.Linear(256, 1)   # binary\n",
    "        self.hand_head   = nn.Linear(256, 1)   # binary\n",
    "        self.years_head  = nn.Linear(256, 3)   # 3 類\n",
    "        self.level_head  = nn.Linear(256, 4)   # 4 類\n",
    "\n",
    "    def forward(self, x):  # x: (B, 2048, 6)\n",
    "        x = x.permute(0, 2, 1)  # 轉成 (B, 6, 2048) → CNN 要求的格式\n",
    "        feat = self.feature_extractor(x)  # (B, 256, 1)\n",
    "        feat = self.flatten(feat)  # (B, 256)\n",
    "\n",
    "        return {\n",
    "            'gender': self.gender_head(feat).squeeze(-1),  # (B,)\n",
    "            'hand': self.hand_head(feat).squeeze(-1),\n",
    "            'years': self.years_head(feat),  # (B, 3)\n",
    "            'level': self.level_head(feat)   # (B, 4)\n",
    "        }"
   ]
  },
  {
   "cell_type": "markdown",
   "id": "9f909d93",
   "metadata": {},
   "source": [
    "## 3. 定義模型訓練"
   ]
  },
  {
   "cell_type": "code",
   "execution_count": 5,
   "id": "76e53451",
   "metadata": {},
   "outputs": [],
   "source": [
    "# train\n",
    "def train_one_epoch(model, dataloader, optimizer, device):\n",
    "    model.train()\n",
    "    total_loss = 0\n",
    "    correct_gender, correct_hand, correct_years, correct_level = 0, 0, 0, 0\n",
    "    total_samples = 0\n",
    "\n",
    "    for x, y in tqdm(dataloader):\n",
    "        x = x.to(device)\n",
    "        y_gender = y['gender'].to(device)\n",
    "        y_hand = y['hand'].to(device)\n",
    "        y_years = y['years'].to(device)\n",
    "        y_level = y['level'].to(device)\n",
    "\n",
    "        optimizer.zero_grad()\n",
    "        out = model(x)\n",
    "\n",
    "        # 計算 loss\n",
    "        loss_g = loss_gender(out['gender'], y_gender)\n",
    "        loss_h = loss_hand(out['hand'], y_hand)\n",
    "        loss_y = loss_years(out['years'], y_years)\n",
    "        loss_l = loss_level(out['level'], y_level)\n",
    "        loss = loss_g + loss_h + loss_y + loss_l\n",
    "        loss.backward()\n",
    "        optimizer.step()\n",
    "        total_loss += loss.item()\n",
    "\n",
    "        # ➕ 準確率計算\n",
    "        total_samples += x.size(0)\n",
    "\n",
    "        # gender 預測（>0 → 1, 否則 0）\n",
    "        pred_gender = (torch.sigmoid(out['gender']) > 0.5).float()\n",
    "        correct_gender += (pred_gender == y_gender).sum().item()\n",
    "\n",
    "        # hand 預測\n",
    "        pred_hand = (torch.sigmoid(out['hand']) > 0.5).float()\n",
    "        correct_hand += (pred_hand == y_hand).sum().item()\n",
    "\n",
    "        # years 預測\n",
    "        pred_years = torch.argmax(out['years'], dim=1)\n",
    "        correct_years += (pred_years == y_years).sum().item()\n",
    "\n",
    "        # level 預測\n",
    "        pred_level = torch.argmax(out['level'], dim=1)\n",
    "        correct_level += (pred_level == y_level).sum().item()\n",
    "\n",
    "    acc_gender = correct_gender / total_samples\n",
    "    acc_hand = correct_hand / total_samples\n",
    "    acc_years = correct_years / total_samples\n",
    "    acc_level = correct_level / total_samples\n",
    "    avg_loss = total_loss / len(dataloader)\n",
    "\n",
    "    print(f\"Loss: {avg_loss:.4f} | acc_gender: {acc_gender:.3f} | acc_hand: {acc_hand:.3f} | acc_years: {acc_years:.3f} | acc_level: {acc_level:.3f}\")\n",
    "    return avg_loss\n"
   ]
  },
  {
   "cell_type": "markdown",
   "id": "9964ed83",
   "metadata": {},
   "source": [
    "## 4. 定義驗證函數"
   ]
  },
  {
   "cell_type": "code",
   "execution_count": 6,
   "id": "f35f8eae",
   "metadata": {},
   "outputs": [],
   "source": [
    "def evaluate_model(model, dataloader, device):\n",
    "    model.eval()\n",
    "    total_loss = 0\n",
    "    correct_gender, correct_hand, correct_years, correct_level = 0, 0, 0, 0\n",
    "    total_samples = 0\n",
    "\n",
    "    with torch.no_grad():\n",
    "        for x, y in dataloader:\n",
    "            x = x.to(device)\n",
    "            y_gender = y['gender'].to(device)\n",
    "            y_hand = y['hand'].to(device)\n",
    "            y_years = y['years'].to(device)\n",
    "            y_level = y['level'].to(device)\n",
    "\n",
    "            out = model(x)\n",
    "\n",
    "            loss_g = loss_gender(out['gender'], y_gender)\n",
    "            loss_h = loss_hand(out['hand'], y_hand)\n",
    "            loss_y = loss_years(out['years'], y_years)\n",
    "            loss_l = loss_level(out['level'], y_level)\n",
    "            loss = loss_g + loss_h + loss_y + loss_l\n",
    "            total_loss += loss.item()\n",
    "\n",
    "            total_samples += x.size(0)\n",
    "\n",
    "            pred_gender = (torch.sigmoid(out['gender']) > 0.5).float()\n",
    "            correct_gender += (pred_gender == y_gender).sum().item()\n",
    "\n",
    "            pred_hand = (torch.sigmoid(out['hand']) > 0.5).float()\n",
    "            correct_hand += (pred_hand == y_hand).sum().item()\n",
    "\n",
    "            pred_years = torch.argmax(out['years'], dim=1)\n",
    "            correct_years += (pred_years == y_years).sum().item()\n",
    "\n",
    "            pred_level = torch.argmax(out['level'], dim=1)\n",
    "            correct_level += (pred_level == y_level).sum().item()\n",
    "\n",
    "    acc_gender = correct_gender / total_samples\n",
    "    acc_hand = correct_hand / total_samples\n",
    "    acc_years = correct_years / total_samples\n",
    "    acc_level = correct_level / total_samples\n",
    "    avg_loss = total_loss / len(dataloader)\n",
    "\n",
    "    print(f\"\\n[Validation] Loss: {avg_loss:.4f} | acc_gender: {acc_gender:.3f} | acc_hand: {acc_hand:.3f} | acc_years: {acc_years:.3f} | acc_level: {acc_level:.3f}\")\n",
    "    return avg_loss"
   ]
  },
  {
   "cell_type": "markdown",
   "id": "1b2ac21a",
   "metadata": {},
   "source": [
    "## 主程式"
   ]
  },
  {
   "cell_type": "code",
   "execution_count": null,
   "id": "758f78dc",
   "metadata": {},
   "outputs": [
    {
     "name": "stdout",
     "output_type": "stream",
     "text": [
      "\n",
      "🟢 Epoch 1\n"
     ]
    },
    {
     "name": "stderr",
     "output_type": "stream",
     "text": [
      "100%|██████████| 49/49 [00:19<00:00,  2.50it/s]\n"
     ]
    },
    {
     "name": "stdout",
     "output_type": "stream",
     "text": [
      "Loss: 2.9471 | acc_gender: 0.810 | acc_hand: 0.813 | acc_years: 0.554 | acc_level: 0.559\n",
      "\n",
      "[Validation] Loss: 2.5980 | acc_gender: 0.859 | acc_hand: 0.813 | acc_years: 0.563 | acc_level: 0.614\n",
      "\n",
      "🟢 Epoch 2\n"
     ]
    },
    {
     "name": "stderr",
     "output_type": "stream",
     "text": [
      "100%|██████████| 49/49 [00:20<00:00,  2.38it/s]\n"
     ]
    },
    {
     "name": "stdout",
     "output_type": "stream",
     "text": [
      "Loss: 2.2027 | acc_gender: 0.826 | acc_hand: 0.964 | acc_years: 0.636 | acc_level: 0.662\n",
      "\n",
      "[Validation] Loss: 2.2410 | acc_gender: 0.872 | acc_hand: 0.985 | acc_years: 0.573 | acc_level: 0.637\n",
      "\n",
      "🟢 Epoch 3\n"
     ]
    },
    {
     "name": "stderr",
     "output_type": "stream",
     "text": [
      "100%|██████████| 49/49 [00:21<00:00,  2.29it/s]\n"
     ]
    },
    {
     "name": "stdout",
     "output_type": "stream",
     "text": [
      "Loss: 1.9364 | acc_gender: 0.871 | acc_hand: 0.985 | acc_years: 0.646 | acc_level: 0.689\n",
      "\n",
      "[Validation] Loss: 1.9613 | acc_gender: 0.905 | acc_hand: 0.990 | acc_years: 0.621 | acc_level: 0.673\n",
      "\n",
      "🟢 Epoch 4\n"
     ]
    },
    {
     "name": "stderr",
     "output_type": "stream",
     "text": [
      "100%|██████████| 49/49 [00:19<00:00,  2.52it/s]\n"
     ]
    },
    {
     "name": "stdout",
     "output_type": "stream",
     "text": [
      "Loss: 1.7146 | acc_gender: 0.896 | acc_hand: 0.997 | acc_years: 0.707 | acc_level: 0.715\n",
      "\n",
      "[Validation] Loss: 1.7173 | acc_gender: 0.949 | acc_hand: 0.992 | acc_years: 0.657 | acc_level: 0.708\n",
      "\n",
      "🟢 Epoch 5\n"
     ]
    },
    {
     "name": "stderr",
     "output_type": "stream",
     "text": [
      "100%|██████████| 49/49 [00:17<00:00,  2.81it/s]\n"
     ]
    },
    {
     "name": "stdout",
     "output_type": "stream",
     "text": [
      "Loss: 1.4520 | acc_gender: 0.926 | acc_hand: 0.999 | acc_years: 0.728 | acc_level: 0.776\n",
      "\n",
      "[Validation] Loss: 1.5160 | acc_gender: 0.957 | acc_hand: 0.995 | acc_years: 0.721 | acc_level: 0.783\n",
      "\n",
      "🟢 Epoch 6\n"
     ]
    },
    {
     "name": "stderr",
     "output_type": "stream",
     "text": [
      "100%|██████████| 49/49 [00:16<00:00,  2.89it/s]\n"
     ]
    },
    {
     "name": "stdout",
     "output_type": "stream",
     "text": [
      "Loss: 1.2003 | acc_gender: 0.940 | acc_hand: 1.000 | acc_years: 0.793 | acc_level: 0.827\n",
      "\n",
      "[Validation] Loss: 1.2413 | acc_gender: 0.951 | acc_hand: 0.995 | acc_years: 0.829 | acc_level: 0.808\n",
      "\n",
      "🟢 Epoch 7\n"
     ]
    },
    {
     "name": "stderr",
     "output_type": "stream",
     "text": [
      "100%|██████████| 49/49 [00:17<00:00,  2.80it/s]\n"
     ]
    },
    {
     "name": "stdout",
     "output_type": "stream",
     "text": [
      "Loss: 1.0356 | acc_gender: 0.944 | acc_hand: 1.000 | acc_years: 0.813 | acc_level: 0.857\n",
      "\n",
      "[Validation] Loss: 1.0716 | acc_gender: 0.962 | acc_hand: 0.992 | acc_years: 0.844 | acc_level: 0.849\n",
      "\n",
      "🟢 Epoch 8\n"
     ]
    },
    {
     "name": "stderr",
     "output_type": "stream",
     "text": [
      "100%|██████████| 49/49 [00:18<00:00,  2.58it/s]\n"
     ]
    },
    {
     "name": "stdout",
     "output_type": "stream",
     "text": [
      "Loss: 0.8832 | acc_gender: 0.949 | acc_hand: 1.000 | acc_years: 0.862 | acc_level: 0.886\n",
      "\n",
      "[Validation] Loss: 0.9649 | acc_gender: 0.962 | acc_hand: 0.992 | acc_years: 0.834 | acc_level: 0.885\n",
      "\n",
      "🟢 Epoch 9\n"
     ]
    },
    {
     "name": "stderr",
     "output_type": "stream",
     "text": [
      "100%|██████████| 49/49 [00:20<00:00,  2.38it/s]\n"
     ]
    },
    {
     "name": "stdout",
     "output_type": "stream",
     "text": [
      "Loss: 0.7980 | acc_gender: 0.954 | acc_hand: 1.000 | acc_years: 0.859 | acc_level: 0.898\n",
      "\n",
      "[Validation] Loss: 0.8241 | acc_gender: 0.967 | acc_hand: 0.992 | acc_years: 0.885 | acc_level: 0.867\n",
      "\n",
      "🟢 Epoch 10\n"
     ]
    },
    {
     "name": "stderr",
     "output_type": "stream",
     "text": [
      "100%|██████████| 49/49 [00:19<00:00,  2.49it/s]\n"
     ]
    },
    {
     "name": "stdout",
     "output_type": "stream",
     "text": [
      "Loss: 0.7448 | acc_gender: 0.958 | acc_hand: 1.000 | acc_years: 0.875 | acc_level: 0.900\n",
      "\n",
      "[Validation] Loss: 0.7340 | acc_gender: 0.969 | acc_hand: 0.992 | acc_years: 0.854 | acc_level: 0.910\n"
     ]
    }
   ],
   "source": [
    "device = torch.device(\"cuda\" if torch.cuda.is_available() else \"cpu\") # 讓你能自動使用 GPU（有就用，沒有就 CPU）\n",
    "model = MultiTaskCNN().to(device)\n",
    "optimizer = torch.optim.Adam(model.parameters(), lr=1e-3) # 學習率learning_rate為 1e-3（預設很好用）\n",
    "\n",
    "# 建立 Dataset 物件\n",
    "dataset_train = TableTennisDataset(X_train, y_gender_train, y_hand_train, y_years_train, y_level_train)\n",
    "dataset_val = TableTennisDataset(X_val, y_gender_val, y_hand_val, y_years_val, y_level_val)\n",
    "\n",
    "\n",
    "# 建立 DataLoader（訓練與驗證）\n",
    "dataloader_train = DataLoader(dataset_train, batch_size=32, shuffle=True)\n",
    "dataloader_val = DataLoader(dataset_val, batch_size=32, shuffle=False)\n",
    "\n",
    "# 修改訓練流程：每一輪後加上驗證\n",
    "for epoch in range(10):\n",
    "    print(f\"\\n🟢 Epoch {epoch+1}\")\n",
    "    train_loss = train_one_epoch(model, dataloader_train, optimizer, device)\n",
    "    val_loss = evaluate_model(model, dataloader_val, device)\n",
    "\n"
   ]
  },
  {
   "cell_type": "markdown",
   "id": "ca24d696",
   "metadata": {},
   "source": [
    "## 儲存模型"
   ]
  },
  {
   "cell_type": "code",
   "execution_count": 8,
   "id": "4f648120",
   "metadata": {},
   "outputs": [],
   "source": [
    "torch.save(model.state_dict(), 'modelNoWeight042400.pth')"
   ]
  },
  {
   "cell_type": "markdown",
   "id": "9b03d23f",
   "metadata": {},
   "source": [
    "## 測資"
   ]
  },
  {
   "cell_type": "code",
   "execution_count": 20,
   "id": "070a177f",
   "metadata": {},
   "outputs": [],
   "source": [
    "SEQ_LEN = 2048\n",
    "# 1. 載入測試資料\n",
    "def load_test_data(test_info_path, test_data_dir, seq_len=SEQ_LEN):\n",
    "    test_info = pd.read_csv(test_info_path)\n",
    "    X_test = []\n",
    "    uids = []\n",
    "\n",
    "    for _, row in tqdm(test_info.iterrows(), total=len(test_info)):\n",
    "        uid = row['unique_id']\n",
    "        file_path = os.path.join(test_data_dir, f\"{uid}.txt\")\n",
    "        if not os.path.exists(file_path):\n",
    "            continue\n",
    "        x = load_and_process_txt(file_path, seq_len)\n",
    "        X_test.append(x)\n",
    "        uids.append(uid)\n",
    "\n",
    "    X_test = np.array(X_test)\n",
    "    return uids, torch.tensor(X_test, dtype=torch.float32)"
   ]
  },
  {
   "cell_type": "code",
   "execution_count": 21,
   "id": "b5540113",
   "metadata": {},
   "outputs": [],
   "source": [
    "# 2. 預測函式\n",
    "def predict(model, X_test_tensor, device):\n",
    "    model.eval()\n",
    "    preds = []\n",
    "\n",
    "    with torch.no_grad():\n",
    "        for x in tqdm(X_test_tensor):\n",
    "            x = x.unsqueeze(0).to(device)\n",
    "            out = model(x)\n",
    "\n",
    "            gender = torch.sigmoid(out['gender']).item()\n",
    "            hand = torch.sigmoid(out['hand']).item()\n",
    "            years = torch.softmax(out['years'], dim=1).squeeze().cpu().numpy()\n",
    "            level = torch.softmax(out['level'], dim=1).squeeze().cpu().numpy()\n",
    "\n",
    "            preds.append([gender, hand] + years.tolist() + level.tolist())\n",
    "\n",
    "    return preds"
   ]
  },
  {
   "cell_type": "code",
   "execution_count": 22,
   "id": "99722fcf",
   "metadata": {},
   "outputs": [],
   "source": [
    "def load_and_process_txt(file_path, seq_len=SEQ_LEN):\n",
    "    data = np.loadtxt(file_path)  # 把.txt轉為numpy陣列 (T, 6)\n",
    "    \n",
    "    # 標準化處理：讓每個維度的平均變0，標準差變1\n",
    "    data = (data - data.mean(axis=0)) / (data.std(axis=0) + 1e-8)\n",
    "    \n",
    "    # 裁切或補零：統一長度為 SEQ_LEN\n",
    "    if data.shape[0] >= seq_len:\n",
    "        data = data[:seq_len]  # 裁切\n",
    "    else:\n",
    "        pad_width = seq_len - data.shape[0]\n",
    "        data = np.pad(data, ((0, pad_width), (0, 0)), mode='constant')  # np.pad() 是 NumPy 的補零函式\n",
    "        # (0, pad_width) 表示對列數（時間點）補零在「後面」\n",
    "        # (0, 0) 表示欄位數（6 個感測器維度）不補零\n",
    "        # mode='constant' 用 0 去補\n",
    "    \n",
    "    return data  # shape = (2048, 6)"
   ]
  },
  {
   "cell_type": "code",
   "execution_count": 23,
   "id": "9059a52a",
   "metadata": {},
   "outputs": [],
   "source": [
    "from decimal import Decimal, ROUND_HALF_UP\n",
    "def create_submission(uids, preds, save_path='submission.csv'):\n",
    "    def format_float(val):\n",
    "        return str(Decimal(val).quantize(Decimal('0.000001'), rounding=ROUND_HALF_UP))\n",
    "\n",
    "    df = pd.DataFrame(preds, columns=[\n",
    "        'gender', 'hold racket handed',\n",
    "        'play years_0', 'play years_1', 'play years_2',\n",
    "        'level_2', 'level_3', 'level_4', 'level_5'\n",
    "    ])\n",
    "    df.insert(0, 'unique_id', uids)\n",
    "    for col in df.columns[1:]:\n",
    "        df[col] = df[col].apply(format_float)\n",
    "    with open(save_path, \"w\", encoding=\"utf-8\", newline='\\n') as f:\n",
    "        df.to_csv(f, index=False)\n",
    "    print(f\"✔️ Submission saved to {save_path}\")"
   ]
  },
  {
   "cell_type": "code",
   "execution_count": 26,
   "id": "e78720ec",
   "metadata": {},
   "outputs": [
    {
     "name": "stderr",
     "output_type": "stream",
     "text": [
      "  0%|          | 0/1430 [00:00<?, ?it/s]"
     ]
    },
    {
     "name": "stderr",
     "output_type": "stream",
     "text": [
      "100%|██████████| 1430/1430 [00:10<00:00, 141.25it/s]\n",
      "100%|██████████| 1430/1430 [00:08<00:00, 170.49it/s]"
     ]
    },
    {
     "name": "stdout",
     "output_type": "stream",
     "text": [
      "✔️ Submission saved to submission042402.csv\n"
     ]
    },
    {
     "name": "stderr",
     "output_type": "stream",
     "text": [
      "\n"
     ]
    }
   ],
   "source": [
    "# 修改成你自己的 test 檔案路徑\n",
    "TEST_INFO = \"39_Test_Dataset/39_Test_Dataset/test_info.csv\"\n",
    "TEST_DATA = \"39_Test_Dataset/39_Test_Dataset/test_data\"\n",
    "\n",
    "# 1. 載入 test data\n",
    "uids, X_test_tensor = load_test_data(TEST_INFO, TEST_DATA)\n",
    "\n",
    "\n",
    "model = MultiTaskCNN().to(device)\n",
    "model.load_state_dict(torch.load(\"modelNoWeight042400.pth\"))\n",
    "model.eval()\n",
    "\n",
    "# 2. 預測\n",
    "preds = predict(model, X_test_tensor, device)\n",
    "\n",
    "submissionCSV = \"submission042402.csv\" # 記得改\n",
    "# 3. 產出 CSV\n",
    "create_submission(uids, preds, save_path=submissionCSV)\n"
   ]
  }
 ],
 "metadata": {
  "kernelspec": {
   "display_name": "Python 3",
   "language": "python",
   "name": "python3"
  },
  "language_info": {
   "codemirror_mode": {
    "name": "ipython",
    "version": 3
   },
   "file_extension": ".py",
   "mimetype": "text/x-python",
   "name": "python",
   "nbconvert_exporter": "python",
   "pygments_lexer": "ipython3",
   "version": "3.10.10"
  }
 },
 "nbformat": 4,
 "nbformat_minor": 5
}
