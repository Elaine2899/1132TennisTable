{
  "cells": [
    {
      "cell_type": "markdown",
      "id": "bb6d2189",
      "metadata": {
        "id": "bb6d2189"
      },
      "source": [
        ".ipynb的介面最上面有一排東西\"+Code\", \"+Markdown\", ...最後有個\"Outline\"打開就可以看到目錄！"
      ]
    },
    {
      "cell_type": "markdown",
      "id": "f7d2a977",
      "metadata": {
        "id": "f7d2a977"
      },
      "source": [
        "## 預處理"
      ]
    },
    {
      "cell_type": "code",
      "source": [
        "import os  # 處理檔案路徑\n",
        "import numpy as np  # 處理數值資料\n",
        "import pandas as pd  # 處理表格型資料\n",
        "from tqdm import tqdm  # 讓迴圈加上進度條\n",
        "import torch\n",
        "import torch.nn as nn\n",
        "import torch.optim as optim\n",
        "import torch.nn.functional as F\n",
        "from torch.utils.data import Dataset, DataLoader\n",
        "from sklearn.model_selection import train_test_split\n",
        "from sklearn.utils.class_weight import compute_class_weight\n",
        "from decimal import Decimal, ROUND_HALF_UP\n",
        "from sklearn.metrics import accuracy_score\n",
        "\n",
        "from google.colab import drive\n",
        "drive.mount('/content/drive')\n"
      ],
      "metadata": {
        "id": "Q8tPzByo0Pmx",
        "colab": {
          "base_uri": "https://localhost:8080/"
        },
        "outputId": "ecd58517-940d-4274-d5d4-27803d53404f"
      },
      "id": "Q8tPzByo0Pmx",
      "execution_count": null,
      "outputs": [
        {
          "output_type": "stream",
          "name": "stdout",
          "text": [
            "Mounted at /content/drive\n"
          ]
        }
      ]
    },
    {
      "cell_type": "code",
      "source": [
        "DATA_DIR = \"/content/drive/MyDrive/39_Training_Dataset/39_Training_Dataset/train_data\" # 存放 .txt 的資料夾\n",
        "INFO_PATH = \"/content/drive/MyDrive/39_Training_Dataset/39_Training_Dataset/train_info.csv\" # 標籤的 .csv 檔路徑"
      ],
      "metadata": {
        "id": "uzlemC9Z0Yg2"
      },
      "id": "uzlemC9Z0Yg2",
      "execution_count": null,
      "outputs": []
    },
    {
      "cell_type": "code",
      "source": [
        "# 前處理：切割每筆資料的 27 次揮拍並提取統計特徵\n",
        "from scipy.stats import kurtosis, skew\n",
        "from scipy.signal import welch\n",
        "from scipy.stats import entropy\n",
        "\n",
        "def segment_swing(data, cut_points):\n",
        "    return [data[cut_points[i]:cut_points[i+1]] for i in range(27)]\n",
        "\n",
        "def extract_features(segment):\n",
        "    feats = []\n",
        "\n",
        "    acc = segment[:, 0:3]  # Ax, Ay, Az\n",
        "    gyro = segment[:, 3:6] # Gx, Gy, Gz\n",
        "\n",
        "    # 三軸平均值（共6）\n",
        "    feats += list(acc.mean(axis=0))  # ax_mean, ay_mean, az_mean\n",
        "    feats += list(gyro.mean(axis=0))  # gx_mean, gy_mean, gz_mean\n",
        "\n",
        "    # 三軸變異數（共6）\n",
        "    feats += list(acc.var(axis=0))  # ax_var, ...\n",
        "    feats += list(gyro.var(axis=0))\n",
        "\n",
        "    # 三軸 RMS（平方根平均）（共6）\n",
        "    feats += list(np.sqrt((acc ** 2).mean(axis=0)))\n",
        "    feats += list(np.sqrt((gyro ** 2).mean(axis=0)))\n",
        "\n",
        "    # 加速度總量 & 角速度總量（不考慮方向）\n",
        "    acc_total = np.linalg.norm(acc, axis=1)\n",
        "    gyro_total = np.linalg.norm(gyro, axis=1)\n",
        "\n",
        "    feats += [acc_total.max(), acc_total.min(), acc_total.mean()]  # 3\n",
        "    feats += [gyro_total.max(), gyro_total.min(), gyro_total.mean()]  # 3\n",
        "\n",
        "    # skewness + kurtosis + spectral entropy（各軸加總，共 6）\n",
        "    for i in range(3):\n",
        "        a = acc[:, i]\n",
        "        g = gyro[:, i]\n",
        "\n",
        "        # Skewness & Kurtosis\n",
        "        feats += [skew(a), kurtosis(a)]\n",
        "        feats += [skew(g), kurtosis(g)]\n",
        "\n",
        "        # Spectral entropy (用 Welch 頻譜估計)\n",
        "        for signal in [a, g]:\n",
        "            f, Pxx = welch(signal, nperseg=min(len(signal), 64))\n",
        "            Pxx /= Pxx.sum() + 1e-8\n",
        "            feats += [entropy(Pxx)]\n",
        "\n",
        "    return feats\n",
        "\n",
        "def preprocess_dataset(info_csv_path, data_dir, is_train=True):\n",
        "    df_info = pd.read_csv(info_csv_path)\n",
        "    feature_list = []\n",
        "    meta_list = []\n",
        "\n",
        "    for idx, row in df_info.iterrows():\n",
        "        uid = row[\"unique_id\"]\n",
        "        txt_path = os.path.join(data_dir, f\"{uid}.txt\")\n",
        "        if not os.path.exists(txt_path):\n",
        "            continue\n",
        "        try:\n",
        "            data = np.loadtxt(txt_path)\n",
        "            cut_str = row[\"cut_point\"]\n",
        "            cut_points = list(map(int, cut_str.strip(\"[]\").split()))\n",
        "            if len(cut_points) != 28:\n",
        "                continue  # 要切出27段，需28個點\n",
        "            swings = segment_swing(data, cut_points)\n",
        "            # 原有的特徵擷取\n",
        "            all_feats = [extract_features(s) for s in swings]\n",
        "            flatten_feats = np.concatenate(all_feats)  # shape: (1134,)\n",
        "\n",
        "            # ➕ 加入清單\n",
        "            feature_list.append(flatten_feats)\n",
        "\n",
        "            if is_train:\n",
        "                meta_list.append({\n",
        "                    \"unique_id\": uid,\n",
        "                    \"gender\": 1 if row[\"gender\"] == 2 else 0,\n",
        "                    \"hand\": 1 if row[\"hold racket handed\"] == 2 else 0,\n",
        "                    \"years\": row[\"play years\"],\n",
        "                    \"level\": row[\"level\"] - 2  # 轉成 0~3\n",
        "                })\n",
        "            else:\n",
        "                meta_list.append({\"unique_id\": uid})\n",
        "        except:\n",
        "            continue  # 忽略格式錯誤或缺失\n",
        "\n",
        "    df_feat = pd.DataFrame(feature_list, columns=[f\"f{i}\" for i in range(len(feature_list[0]))])\n",
        "    df_meta = pd.DataFrame(meta_list)\n",
        "    df_result = pd.concat([df_meta, df_feat], axis=1)\n",
        "    return df_result\n",
        "\n",
        "# ⏬ 執行前處理\n",
        "train_df = preprocess_dataset(INFO_PATH, DATA_DIR, is_train=True)\n",
        "test_df = preprocess_dataset(\"/content/drive/MyDrive/39_Test_Dataset/39_Test_Dataset/test_info.csv\",\"/content/drive/MyDrive/39_Test_Dataset/39_Test_Dataset/test_data\", is_train=False)\n",
        "\n",
        "train_df.to_csv(\"train_features.csv\", index=False)\n",
        "test_df.to_csv(\"test_features.csv\", index=False)\n",
        "print(\"✅ train_features.csv和test_features.csv 已完成前處理\")\n"
      ],
      "metadata": {
        "id": "5N_wf3j6zn7f",
        "colab": {
          "base_uri": "https://localhost:8080/"
        },
        "outputId": "d18fed89-deaa-425b-d5b2-3884a75196da"
      },
      "id": "5N_wf3j6zn7f",
      "execution_count": null,
      "outputs": [
        {
          "output_type": "stream",
          "name": "stderr",
          "text": [
            "<ipython-input-3-b5817131eb55>:41: RuntimeWarning: Precision loss occurred in moment calculation due to catastrophic cancellation. This occurs when the data are nearly identical. Results may be unreliable.\n",
            "  feats += [skew(g), kurtosis(g)]\n"
          ]
        },
        {
          "output_type": "stream",
          "name": "stdout",
          "text": [
            "✅ train_features.csv和test_features.csv 已完成前處理\n"
          ]
        }
      ]
    },
    {
      "cell_type": "markdown",
      "id": "075be328",
      "metadata": {
        "id": "075be328"
      },
      "source": [
        "## Optional. 權重處理"
      ]
    },
    {
      "cell_type": "code",
      "source": [
        "# 讀取資料\n",
        "train_df = pd.read_csv(\"train_features.csv\")\n",
        "test_df = pd.read_csv(\"test_features.csv\")\n",
        "uids = test_df[\"unique_id\"].tolist()\n",
        "\n",
        "# 特徵與標籤\n",
        "X = train_df.drop(columns=[\"unique_id\", \"gender\", \"hand\", \"years\", \"level\"]).fillna(0)\n",
        "y_gender = train_df[\"gender\"]\n",
        "y_hand = train_df[\"hand\"]\n",
        "y_years = train_df[\"years\"]\n",
        "y_level = train_df[\"level\"]\n",
        "\n",
        "print(\"👨 男生有幾筆：\", np.sum(y_gender == 0))\n",
        "print(\"👩 女生有幾筆：\", np.sum(y_gender == 1))\n",
        "print(\"🫱 右手持拍有幾筆：\", np.sum(y_hand == 0))\n",
        "print(\"🫲 左手持拍有幾筆：\", np.sum(y_hand == 1))\n",
        "# 幾乎 5 倍差距 嚴重失衡\n",
        "# 建議使用 oversampling / SMOTE 等技巧\n",
        "\n",
        "\n",
        "# 檢查持拍手分布\n",
        "# 4.34 倍差距→ 明顯不平衡\n",
        "\n",
        "# 檢查球齡分布\n",
        "print(\"低球齡有幾筆：\", np.sum(y_years == 0))\n",
        "print(\"中球齡有幾筆：\", np.sum(y_years == 1))\n",
        "print(\"高球齡有幾筆：\", np.sum(y_years == 2))\n",
        "# 差 ≈ 2.2 倍 → 輕度不平衡\n",
        "\n",
        "# 檢查等級分布\n",
        "print(\"等級0：\", np.sum(y_level == 0))\n",
        "print(\"等級1：\", np.sum(y_level == 1))\n",
        "print(\"等級2：\", np.sum(y_level == 2))\n",
        "print(\"等級3：\", np.sum(y_level == 3))\n",
        "# 6.6 倍差距 → 明顯不平衡\n",
        "print(y_gender[1390])\n",
        "print(y_hand[1390])\n",
        "print(y_years[1390])"
      ],
      "metadata": {
        "colab": {
          "base_uri": "https://localhost:8080/"
        },
        "id": "4uUQ3vJEaXPg",
        "outputId": "790a0733-a80a-4a6d-a8f9-833b796dc90e"
      },
      "id": "4uUQ3vJEaXPg",
      "execution_count": null,
      "outputs": [
        {
          "output_type": "stream",
          "name": "stdout",
          "text": [
            "👨 男生有幾筆： 1627\n",
            "👩 女生有幾筆： 328\n",
            "🫱 右手持拍有幾筆： 1589\n",
            "🫲 左手持拍有幾筆： 366\n",
            "低球齡有幾筆： 387\n",
            "中球齡有幾筆： 868\n",
            "高球齡有幾筆： 700\n",
            "等級0： 715\n",
            "等級1： 201\n",
            "等級2： 136\n",
            "等級3： 903\n",
            "0\n",
            "1\n",
            "0\n"
          ]
        }
      ]
    },
    {
      "cell_type": "markdown",
      "id": "1b2ac21a",
      "metadata": {
        "id": "1b2ac21a"
      },
      "source": [
        "## 主程式"
      ]
    },
    {
      "cell_type": "code",
      "execution_count": null,
      "id": "758f78dc",
      "metadata": {
        "id": "758f78dc",
        "outputId": "9b99bc4c-3251-40b8-a05a-19337ebda971",
        "colab": {
          "base_uri": "https://localhost:8080/"
        }
      },
      "outputs": [
        {
          "output_type": "stream",
          "name": "stdout",
          "text": [
            "🎯 Gender acc: 0.9718670076726342\n",
            "🎯 Hand acc: 0.9974424552429667\n",
            "X軸特徵 Only acc: 1.0\n",
            "🎯 Years acc: 0.9028132992327366\n",
            "🎯 Level acc: 0.9104859335038363\n"
          ]
        }
      ],
      "source": [
        "import pandas as pd\n",
        "from xgboost import XGBClassifier\n",
        "from sklearn.utils.class_weight import compute_sample_weight\n",
        "from decimal import Decimal, ROUND_HALF_UP\n",
        "\n",
        "# 切分訓練/驗證集\n",
        "X_train, X_val, y_gender_train, y_gender_val = train_test_split(X, y_gender, test_size=0.2, random_state=42)\n",
        "_, _, y_hand_train, y_hand_val = train_test_split(X, y_hand, test_size=0.2, random_state=42)\n",
        "_, _, y_years_train, y_years_val = train_test_split(X, y_years, test_size=0.2, random_state=42)\n",
        "_, _, y_level_train, y_level_val = train_test_split(X, y_level, test_size=0.2, random_state=42)\n",
        "\n",
        "\n",
        "# 模型訓練\n",
        "\n",
        "# Class Weights\n",
        "gender_weights = compute_sample_weight(class_weight=\"balanced\", y=y_gender_train)\n",
        "hand_weights = compute_sample_weight(class_weight=\"balanced\", y=y_hand_train)\n",
        "years_weights = compute_sample_weight(class_weight=\"balanced\", y=y_years_train)\n",
        "level_weights = compute_sample_weight(class_weight=\"balanced\", y=y_level_train)\n",
        "\n",
        "# 計算 scale_pos_weight for gender / hand\n",
        "scale_pos_gender = (y_gender_train == 0).sum() / (y_gender_train == 1).sum()\n",
        "scale_pos_hand = (y_hand_train == 0).sum() / (y_hand_train == 1).sum()\n",
        "\n",
        "# 訓練 Gender 模型\n",
        "xgb_gender = XGBClassifier(eval_metric='logloss')#, scale_pos_weight=scale_pos_gender\n",
        "xgb_gender.fit(X_train, y_gender_train,sample_weight = gender_weights)#性別加上weights\n",
        "y_pred_gender = xgb_gender.predict(X_val)\n",
        "print(\"🎯 Gender acc:\", accuracy_score(y_gender_val, y_pred_gender))\n",
        "\n",
        "# 訓練 Hand 模型\n",
        "xgb_hand = XGBClassifier(eval_metric='logloss')#, scale_pos_weight=scale_pos_hand\n",
        "xgb_hand.fit(X_train, y_hand_train,sample_weight = hand_weights)#手加上weights\n",
        "y_pred_hand = xgb_hand.predict(X_val)\n",
        "print(\"🎯 Hand acc:\", accuracy_score(y_hand_val, y_pred_hand))\n",
        "\n",
        "x_axis_indices = []\n",
        "for i in range(27):\n",
        "    base = i * 42\n",
        "    x_axis_indices += [base + 0, base + 3, base + 6, base + 9]  # Ax mean, Gx mean, Ax var, Gx var\n",
        "\n",
        "X_xaxis_train = X_train.iloc[:, x_axis_indices]\n",
        "X_xaxis_val = X_val.iloc[:, x_axis_indices]\n",
        "\n",
        "# X軸特徵 模型\n",
        "\n",
        "xgb_hand_x = XGBClassifier(eval_metric='logloss')\n",
        "xgb_hand_x.fit(X_xaxis_train, y_hand_train,sample_weight = hand_weights)\n",
        "print(\"X軸特徵 Only acc:\", accuracy_score(y_hand_val, xgb_hand_x.predict(X_xaxis_val)))\n",
        "\n",
        "# Years 模型\n",
        "xgb_years = XGBClassifier(eval_metric='mlogloss', num_class=3)\n",
        "xgb_years.fit(X_train, y_years_train, sample_weight=years_weights)\n",
        "y_pred_years = xgb_years.predict(X_val)\n",
        "print(\"🎯 Years acc:\", accuracy_score(y_years_val, y_pred_years))\n",
        "\n",
        "# Level 模型\n",
        "xgb_level = XGBClassifier(eval_metric='mlogloss', num_class=4)\n",
        "xgb_level.fit(X_train, y_level_train, sample_weight=level_weights)\n",
        "y_pred_level = xgb_level.predict(X_val)\n",
        "print(\"🎯 Level acc:\", accuracy_score(y_level_val, y_pred_level))\n"
      ]
    },
    {
      "cell_type": "code",
      "source": [
        "# 預測\n",
        "X_test = test_df.drop(columns=[\"unique_id\"], errors=\"ignore\").fillna(0)\n",
        "X_xaxis_test = X_test.iloc[:, x_axis_indices]\n",
        "\n",
        "gender_pred = xgb_gender.predict_proba(X_test)[:, 1]\n",
        "hand_pred = xgb_hand_x.predict_proba(X_xaxis_test)[:, 1] #xgb_hand.predict_proba(X_test)[:, 1]# xgb_hand_x.predict_proba(X_test)[:, 1]\n",
        "years_pred = xgb_years.predict_proba(X_test)\n",
        "level_pred = xgb_level.predict_proba(X_test)"
      ],
      "metadata": {
        "id": "zTWwC_Z516GW"
      },
      "id": "zTWwC_Z516GW",
      "execution_count": null,
      "outputs": []
    },
    {
      "cell_type": "code",
      "source": [
        "print(X_test)"
      ],
      "metadata": {
        "id": "KlAzv2-2Ytvg",
        "outputId": "bbe70ad1-8af0-4783-a2d5-6227c2b03c06",
        "colab": {
          "base_uri": "https://localhost:8080/"
        }
      },
      "id": "KlAzv2-2Ytvg",
      "execution_count": null,
      "outputs": [
        {
          "output_type": "stream",
          "name": "stdout",
          "text": [
            "               f0           f1           f2           f3           f4  \\\n",
            "0     1394.294737  1149.168421  -691.821053 -2895.084211 -4766.031579   \n",
            "1     3150.474747  -982.111111  -496.494949  -364.474747  1501.060606   \n",
            "2     3945.687500 -1513.137500   146.212500  -842.912500  2293.300000   \n",
            "3     3232.700000 -2123.400000  -573.957143    52.771429  2189.971429   \n",
            "4     3976.363636 -1927.500000 -1202.227273  -356.409091  1199.238636   \n",
            "...           ...          ...          ...          ...          ...   \n",
            "1425  3301.483516 -2525.890110   284.362637   589.208791  2436.340659   \n",
            "1426  2678.644444 -1519.500000  -750.533333 -1111.344444  1201.344444   \n",
            "1427  2989.430108  -344.268817  -628.301075 -4936.344086  2537.591398   \n",
            "1428  4225.342857 -3032.514286 -1703.400000  -642.266667  1176.333333   \n",
            "1429  3506.988764 -3023.134831  -860.595506  -111.011236  1719.550562   \n",
            "\n",
            "               f5            f6            f7            f8            f9  \\\n",
            "0     3710.505263  2.211002e+04  2.145752e+05  3.626936e+05  3.514829e+07   \n",
            "1     -658.464646  3.703600e+06  2.422004e+06  5.747064e+06  9.977166e+06   \n",
            "2    -1005.512500  6.185562e+06  6.963930e+06  6.514689e+06  2.318559e+07   \n",
            "3    -1104.014286  8.157629e+06  1.357391e+07  3.062236e+06  1.224801e+07   \n",
            "4      104.761364  1.077164e+07  9.619251e+06  1.099214e+06  1.148948e+07   \n",
            "...           ...           ...           ...           ...           ...   \n",
            "1425  -625.560440  5.098118e+06  8.629058e+06  6.310730e+06  3.735189e+07   \n",
            "1426  1489.800000  4.380451e+06  4.582087e+06  2.356909e+06  1.348882e+07   \n",
            "1427  5061.731183  1.230264e+07  4.358821e+06  8.214848e+06  3.323082e+08   \n",
            "1428  -986.123810  2.091187e+07  2.055777e+07  6.916117e+06  4.405630e+06   \n",
            "1429  -401.696629  8.067525e+06  7.503633e+06  2.254175e+06  9.381768e+06   \n",
            "\n",
            "      ...     f1124     f1125     f1126     f1127     f1128     f1129  \\\n",
            "0     ...  0.529599 -0.947595  1.475724  2.167000  0.874316  1.684707   \n",
            "1     ...  0.489265 -0.477357  1.335730  2.218996  0.385120  0.449209   \n",
            "2     ... -0.057562 -0.279613  1.096548  1.960436  0.915018  0.507519   \n",
            "3     ...  0.138849 -1.085671  0.931645  1.537885  0.454854 -0.604461   \n",
            "4     ...  1.747050  3.281819  1.327112  1.709001 -0.178688  0.675167   \n",
            "...   ...       ...       ...       ...       ...       ...       ...   \n",
            "1425  ... -0.053177 -0.487859  1.146865  1.755109  0.253591  0.291499   \n",
            "1426  ...  0.573793 -0.621709  1.425533  2.121564 -0.504999 -0.452577   \n",
            "1427  ...  0.449727 -0.473615  1.345716  1.167149  0.096987  4.335429   \n",
            "1428  ...  1.820466  6.163145  0.972209  1.930924 -1.782735  6.064913   \n",
            "1429  ...  1.165012  0.695691  1.211242  2.028785  0.444365  0.005906   \n",
            "\n",
            "         f1130     f1131     f1132     f1133  \n",
            "0    -0.371585 -1.590109  1.889865  1.193864  \n",
            "1    -0.470076 -1.062059  1.523734  1.092208  \n",
            "2    -0.317751 -1.269205  1.618127  0.839609  \n",
            "3     0.345702 -0.938555  1.286790  0.852220  \n",
            "4    -1.124336  0.378681  2.002985  1.452654  \n",
            "...        ...       ...       ...       ...  \n",
            "1425 -0.161406 -1.298724  1.439994  1.039838  \n",
            "1426 -0.398785 -1.450033  1.251774  1.110499  \n",
            "1427 -0.996557 -0.607083  1.816471  0.974246  \n",
            "1428 -0.917858  0.494629  2.080561  1.099145  \n",
            "1429 -0.625056 -0.819810  1.722395  1.175516  \n",
            "\n",
            "[1430 rows x 1134 columns]\n"
          ]
        }
      ]
    },
    {
      "cell_type": "code",
      "execution_count": null,
      "id": "e78720ec",
      "metadata": {
        "id": "e78720ec",
        "outputId": "9a2c8616-b445-451d-e1ec-cea3faa92eda",
        "colab": {
          "base_uri": "https://localhost:8080/"
        }
      },
      "outputs": [
        {
          "output_type": "stream",
          "name": "stdout",
          "text": [
            "✅ submission_xgb_final.csv saved.\n"
          ]
        }
      ],
      "source": [
        "# 輸出 submission\n",
        "def format_float(val):\n",
        "    return str(Decimal(val).quantize(Decimal('0.000001'), rounding=ROUND_HALF_UP))\n",
        "\n",
        "submission_df = pd.DataFrame({\n",
        "    \"unique_id\": uids,\n",
        "    \"gender\": gender_pred,\n",
        "    \"hold racket handed\": hand_pred,\n",
        "    \"play years_0\": years_pred[:, 0],\n",
        "    \"play years_1\": years_pred[:, 1],\n",
        "    \"play years_2\": years_pred[:, 2],\n",
        "    \"level_2\": level_pred[:, 0],\n",
        "    \"level_3\": level_pred[:, 1],\n",
        "    \"level_4\": level_pred[:, 2],\n",
        "    \"level_5\": level_pred[:, 3],\n",
        "})\n",
        "\n",
        "for col in submission_df.columns[1:]:\n",
        "    submission_df[col] = submission_df[col].apply(format_float)\n",
        "\n",
        "submission_df.to_csv(\"submission_xgb_final.csv\", index=False)\n",
        "print(\"✅ submission_xgb_final.csv saved.\")\n",
        "\n"
      ]
    },
    {
      "cell_type": "code",
      "execution_count": null,
      "id": "0032a1d3",
      "metadata": {
        "id": "0032a1d3",
        "outputId": "b879fffe-bce4-4014-970c-9e82e0840a12",
        "colab": {
          "base_uri": "https://localhost:8080/"
        }
      },
      "outputs": [
        {
          "output_type": "stream",
          "name": "stdout",
          "text": [
            "✅ ground_truth.csv 已成功生成，共 1430 筆資料。\n"
          ]
        }
      ],
      "source": [
        "def generate_ground_truth_csv(filename='ground_truth.csv', num_samples=1430, seed=42):\n",
        "    np.random.seed(seed)\n",
        "\n",
        "    data = {\n",
        "        'unique_id': [1000 + i for i in range(1, num_samples + 1)],\n",
        "        'gender': np.random.randint(0, 2, size=num_samples),  # 0 or 1\n",
        "        'hold racket handed': np.random.randint(0, 2, size=num_samples),  # 0 or 1\n",
        "        'play years': np.random.randint(0, 3, size=num_samples),  # 0, 1, 2\n",
        "        'level': np.random.randint(2, 6, size=num_samples),  # 2, 3, 4, 5\n",
        "    }\n",
        "\n",
        "    df = pd.DataFrame(data)\n",
        "    df.to_csv(filename, index=False)\n",
        "    print(f\"✅ ground_truth.csv 已成功生成，共 {num_samples} 筆資料。\")\n",
        "\n",
        "# 執行生成測資\n",
        "generate_ground_truth_csv()"
      ]
    },
    {
      "cell_type": "code",
      "execution_count": null,
      "id": "ce6c1a20",
      "metadata": {
        "id": "ce6c1a20",
        "outputId": "b5121e63-b11f-4e6b-f51b-4e3d7def96ca",
        "colab": {
          "base_uri": "https://localhost:8080/"
        }
      },
      "outputs": [
        {
          "output_type": "stream",
          "name": "stdout",
          "text": [
            " ROC AUC - Gender: 0.4987\n",
            " ROC AUC - Hand:   0.5139\n",
            " ROC AUC - Years:  0.5029\n",
            " ROC AUC - Level:  0.5045\n",
            "\n",
            " Final Score:     0.5050\n"
          ]
        },
        {
          "output_type": "execute_result",
          "data": {
            "text/plain": [
              "np.float64(0.5050118588045522)"
            ]
          },
          "metadata": {},
          "execution_count": 23
        }
      ],
      "source": [
        "from sklearn.metrics import roc_auc_score\n",
        "\n",
        "\n",
        "def evaluate_submission(submission_path, ground_truth_path):\n",
        "    # 讀取資料\n",
        "    pred = pd.read_csv(submission_path)\n",
        "    true = pd.read_csv(ground_truth_path)\n",
        "\n",
        "    # 二元類別\n",
        "    gender_auc = roc_auc_score(true['gender'], pred['gender'])\n",
        "    hand_auc = roc_auc_score(true['hold racket handed'], pred['hold racket handed'])\n",
        "\n",
        "    # 多類別 - One-vs-Rest (Macro-average)\n",
        "    years_true = true['play years']\n",
        "    years_pred = pred[['play years_0', 'play years_1', 'play years_2']]\n",
        "    years_auc = roc_auc_score(years_true, years_pred, multi_class='ovr', average='macro')\n",
        "\n",
        "    level_true = true['level']\n",
        "    level_pred = pred[['level_2', 'level_3', 'level_4', 'level_5']]\n",
        "    level_auc = roc_auc_score(level_true, level_pred, multi_class='ovr', average='macro')\n",
        "\n",
        "    # 最終分數\n",
        "    final_score = (gender_auc + hand_auc + years_auc + level_auc) / 4\n",
        "\n",
        "    print(f\" ROC AUC - Gender: {gender_auc:.4f}\")\n",
        "    print(f\" ROC AUC - Hand:   {hand_auc:.4f}\")\n",
        "    print(f\" ROC AUC - Years:  {years_auc:.4f}\")\n",
        "    print(f\" ROC AUC - Level:  {level_auc:.4f}\")\n",
        "    print(f\"\\n Final Score:     {final_score:.4f}\")\n",
        "\n",
        "    return final_score\n",
        "\n",
        "evaluate_submission(\"submission_xgb_final.csv\", \"ground_truth.csv\")\n"
      ]
    }
  ],
  "metadata": {
    "kernelspec": {
      "display_name": "Python 3",
      "name": "python3"
    },
    "language_info": {
      "codemirror_mode": {
        "name": "ipython",
        "version": 3
      },
      "file_extension": ".py",
      "mimetype": "text/x-python",
      "name": "python",
      "nbconvert_exporter": "python",
      "pygments_lexer": "ipython3",
      "version": "3.8.20"
    },
    "colab": {
      "provenance": [],
      "gpuType": "T4"
    },
    "accelerator": "GPU"
  },
  "nbformat": 4,
  "nbformat_minor": 5
}