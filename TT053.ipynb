{
  "cells": [
    {
      "cell_type": "markdown",
      "id": "bb6d2189",
      "metadata": {
        "id": "bb6d2189"
      },
      "source": [
        ".ipynb的介面最上面有一排東西\"+Code\", \"+Markdown\", ...最後有個\"Outline\"打開就可以看到目錄！"
      ]
    },
    {
      "cell_type": "markdown",
      "id": "f7d2a977",
      "metadata": {
        "id": "f7d2a977"
      },
      "source": [
        "## 預處理"
      ]
    },
    {
      "cell_type": "code",
      "execution_count": null,
      "id": "Q8tPzByo0Pmx",
      "metadata": {
        "id": "Q8tPzByo0Pmx"
      },
      "outputs": [],
      "source": [
        "import os  # 處理檔案路徑\n",
        "import numpy as np  # 處理數值資料\n",
        "import pandas as pd  # 處理表格型資料\n",
        "from tqdm import tqdm  # 讓迴圈加上進度條\n",
        "import torch\n",
        "import torch.nn as nn\n",
        "import torch.optim as optim\n",
        "import torch.nn.functional as F\n",
        "from torch.utils.data import Dataset, DataLoader\n",
        "from sklearn.model_selection import train_test_split\n",
        "from sklearn.utils.class_weight import compute_class_weight\n",
        "from decimal import Decimal, ROUND_HALF_UP\n",
        "from sklearn.metrics import accuracy_score\n",
        "\n",
        "\n",
        "\n",
        "\n",
        "#有看到\n"
      ]
    },
    {
      "cell_type": "code",
      "execution_count": null,
      "id": "uzlemC9Z0Yg2",
      "metadata": {
        "id": "uzlemC9Z0Yg2"
      },
      "outputs": [],
      "source": [
        "DATA_DIR = \"/content/drive/MyDrive/39_Training_Dataset/39_Training_Dataset/train_data\" # 存放 .txt 的資料夾\n",
        "INFO_PATH = \"/content/drive/MyDrive/39_Training_Dataset/39_Training_Dataset/train_info.csv\" # 標籤的 .csv 檔路徑"
      ]
    },
    {
      "cell_type": "code",
      "execution_count": null,
      "id": "5N_wf3j6zn7f",
      "metadata": {
        "id": "5N_wf3j6zn7f"
      },
      "outputs": [],
      "source": [
        "# 前處理：切割每筆資料的 27 次揮拍並提取統計特徵\n",
        "from scipy.stats import kurtosis, skew\n",
        "from scipy.signal import welch\n",
        "from scipy.stats import entropy\n",
        "\n",
        "def segment_swing(data, cut_points):\n",
        "    return [data[cut_points[i]:cut_points[i+1]] for i in range(27)]\n",
        "\n",
        "def extract_features(segment):\n",
        "    feats = []\n",
        "\n",
        "    acc = segment[:, 0:3]  # Ax, Ay, Az\n",
        "    gyro = segment[:, 3:6] # Gx, Gy, Gz\n",
        "\n",
        "    # 三軸平均值（共6）\n",
        "    feats += list(acc.mean(axis=0))  # ax_mean, ay_mean, az_mean\n",
        "    feats += list(gyro.mean(axis=0))  # gx_mean, gy_mean, gz_mean\n",
        "\n",
        "    # 三軸變異數（共6）\n",
        "    feats += list(acc.var(axis=0))  # ax_var, ...\n",
        "    feats += list(gyro.var(axis=0))\n",
        "\n",
        "    # 三軸 RMS（平方根平均）（共6）\n",
        "    feats += list(np.sqrt((acc ** 2).mean(axis=0)))\n",
        "    feats += list(np.sqrt((gyro ** 2).mean(axis=0)))\n",
        "\n",
        "    # 加速度總量 & 角速度總量（不考慮方向）\n",
        "    acc_total = np.linalg.norm(acc, axis=1)\n",
        "    gyro_total = np.linalg.norm(gyro, axis=1)\n",
        "\n",
        "    feats += [acc_total.max(), acc_total.min(), acc_total.mean()]  # 3\n",
        "    feats += [gyro_total.max(), gyro_total.min(), gyro_total.mean()]  # 3\n",
        "\n",
        "    # skewness + kurtosis + spectral entropy（各軸加總，共 6）\n",
        "    for i in range(3):\n",
        "        a = acc[:, i]\n",
        "        g = gyro[:, i]\n",
        "\n",
        "        # Skewness & Kurtosis\n",
        "        feats += [skew(a), kurtosis(a)]\n",
        "        feats += [skew(g), kurtosis(g)]\n",
        "\n",
        "        # Spectral entropy (用 Welch 頻譜估計)\n",
        "        for signal in [a, g]:\n",
        "            f, Pxx = welch(signal, nperseg=min(len(signal), 64))\n",
        "            Pxx /= Pxx.sum() + 1e-8\n",
        "            feats += [entropy(Pxx)]\n",
        "\n",
        "    return feats\n",
        "\n",
        "def preprocess_dataset(info_csv_path, data_dir, is_train=True):\n",
        "    df_info = pd.read_csv(info_csv_path)\n",
        "    feature_list = []\n",
        "    meta_list = []\n",
        "\n",
        "    for idx, row in df_info.iterrows():\n",
        "        uid = row[\"unique_id\"]\n",
        "        txt_path = os.path.join(data_dir, f\"{uid}.txt\")\n",
        "        if not os.path.exists(txt_path):\n",
        "            continue\n",
        "        try:\n",
        "            data = np.loadtxt(txt_path)\n",
        "            cut_str = row[\"cut_point\"]\n",
        "            cut_points = list(map(int, cut_str.strip(\"[]\").split()))\n",
        "            if len(cut_points) != 28:\n",
        "                continue  # 要切出27段，需28個點\n",
        "            swings = segment_swing(data, cut_points)\n",
        "            # 原有的特徵擷取\n",
        "            all_feats = [extract_features(s) for s in swings]\n",
        "            flatten_feats = np.concatenate(all_feats)  # shape: (1134,)\n",
        "\n",
        "            # 🔁 新增 mode 特徵（10 維 one-hot）\n",
        "            mode_idx = int(row[\"mode\"]) - 1  # 從 1~10 → 0~9\n",
        "            mode_onehot = np.zeros(10)\n",
        "            if 0 <= mode_idx < 10:\n",
        "                mode_onehot[mode_idx] = 1\n",
        "\n",
        "            # ➕ 合併進整體特徵\n",
        "            full_feat = np.concatenate([flatten_feats, mode_onehot])  # shape: (1144,)\n",
        "\n",
        "            # ➕ 加入清單\n",
        "            feature_list.append(full_feat)\n",
        "\n",
        "            if is_train:\n",
        "                meta_list.append({\n",
        "                    \"unique_id\": uid,\n",
        "                    \"gender\": 1 if row[\"gender\"] == 2 else 0,\n",
        "                    \"hold racket handed\": 1 if row[\"hold racket handed\"] == 2 else 0,\n",
        "                    \"play years\": row[\"play years\"],\n",
        "                    \"level\": row[\"level\"] - 2  # 轉成 0~3\n",
        "                })\n",
        "            else:\n",
        "                meta_list.append({\"unique_id\": uid})\n",
        "        except:\n",
        "            continue  # 忽略格式錯誤或缺失\n",
        "\n",
        "    df_feat = pd.DataFrame(feature_list, columns=[f\"f{i}\" for i in range(len(feature_list[0]))])\n",
        "    df_meta = pd.DataFrame(meta_list)\n",
        "    df_result = pd.concat([df_meta, df_feat], axis=1)\n",
        "    return df_result\n",
        "\n",
        "# ⏬ 執行前處理\n",
        "train_df = preprocess_dataset(INFO_PATH, DATA_DIR, is_train=True)\n",
        "test_df = preprocess_dataset(\"/content/drive/MyDrive/39_Test_Dataset/39_Test_Dataset/test_info.csv\",\"/content/drive/MyDrive/39_Test_Dataset/39_Test_Dataset/test_data\", is_train=False)\n",
        "\n",
        "train_df.to_csv(\"train_features.csv\", index=False)\n",
        "test_df.to_csv(\"test_features.csv\", index=False)\n",
        "print(\"✅ train_features.csv和test_features.csv 已完成前處理\")\n"
      ]
    },
    {
      "cell_type": "code",
      "execution_count": null,
      "id": "ng8cRBZj1dd7",
      "metadata": {
        "colab": {
          "base_uri": "https://localhost:8080/"
        },
        "id": "ng8cRBZj1dd7",
        "outputId": "fbd4d1b6-e5ed-4f77-8d5e-4707f86b2453"
      },
      "outputs": [
        {
          "name": "stdout",
          "output_type": "stream",
          "text": [
            "      unique_id  gender  hold racket handed  play years  level           f0  \\\n",
            "0             1       0                   0           1      3  3797.098361   \n",
            "1             2       0                   0           1      3  1956.189189   \n",
            "2             3       0                   0           1      3  1892.689320   \n",
            "3             4       0                   0           1      3  1960.603960   \n",
            "4             5       0                   0           1      3  1965.714286   \n",
            "...         ...     ...                 ...         ...    ...          ...   \n",
            "1950       1963       0                   0           0      2 -2235.329268   \n",
            "1951       1964       0                   0           0      2 -3345.952941   \n",
            "1952       1965       0                   0           0      2 -3284.554217   \n",
            "1953       1966       0                   0           0      2 -3066.012346   \n",
            "1954       1967       0                   0           0      2 -2877.564103   \n",
            "\n",
            "               f1           f2            f3           f4  ...  f1134  f1135  \\\n",
            "0    -1592.229508  1148.786885  -8406.344262  -385.737705  ...    1.0    0.0   \n",
            "1      275.756757   301.175676   -188.243243  -461.851351  ...    0.0    1.0   \n",
            "2      171.902913   527.087379  -1896.145631  -257.873786  ...    0.0    0.0   \n",
            "3     -122.623762   237.485149  -5270.524752 -2724.960396  ...    0.0    0.0   \n",
            "4     -163.371429   385.180952  -5446.609524 -3104.638095  ...    0.0    0.0   \n",
            "...           ...          ...           ...          ...  ...    ...    ...   \n",
            "1950 -1150.280488    79.219512  20223.426829  3843.890244  ...    0.0    0.0   \n",
            "1951 -2832.247059  -364.658824   6491.847059  9183.882353  ...    0.0    0.0   \n",
            "1952 -2037.048193  -139.518072  11637.819277  7565.301205  ...    0.0    0.0   \n",
            "1953 -1646.469136   303.000000   7656.703704  8169.851852  ...    0.0    0.0   \n",
            "1954  -309.256410   112.166667   1187.666667  9144.038462  ...    0.0    0.0   \n",
            "\n",
            "      f1136  f1137  f1138  f1139  f1140  f1141  f1142  f1143  \n",
            "0       0.0    0.0    0.0    0.0    0.0    0.0    0.0    0.0  \n",
            "1       0.0    0.0    0.0    0.0    0.0    0.0    0.0    0.0  \n",
            "2       1.0    0.0    0.0    0.0    0.0    0.0    0.0    0.0  \n",
            "3       0.0    1.0    0.0    0.0    0.0    0.0    0.0    0.0  \n",
            "4       0.0    0.0    1.0    0.0    0.0    0.0    0.0    0.0  \n",
            "...     ...    ...    ...    ...    ...    ...    ...    ...  \n",
            "1950    0.0    0.0    0.0    0.0    0.0    0.0    0.0    1.0  \n",
            "1951    0.0    0.0    0.0    0.0    0.0    0.0    0.0    1.0  \n",
            "1952    0.0    0.0    0.0    0.0    0.0    0.0    0.0    1.0  \n",
            "1953    0.0    0.0    0.0    0.0    0.0    0.0    0.0    1.0  \n",
            "1954    0.0    0.0    0.0    0.0    0.0    0.0    0.0    1.0  \n",
            "\n",
            "[1955 rows x 1149 columns]\n"
          ]
        }
      ],
      "source": [
        "print(train_df)"
      ]
    },
    {
      "cell_type": "code",
      "execution_count": null,
      "id": "PbWtpYDNg72b",
      "metadata": {
        "colab": {
          "base_uri": "https://localhost:8080/"
        },
        "id": "PbWtpYDNg72b",
        "outputId": "bf66c33d-8af7-4fb3-ab48-7f2e832aebc5"
      },
      "outputs": [
        {
          "name": "stdout",
          "output_type": "stream",
          "text": [
            "      unique_id           f0           f1           f2           f3  \\\n",
            "0          1968  1394.294737  1149.168421  -691.821053 -2895.084211   \n",
            "1          1969  3150.474747  -982.111111  -496.494949  -364.474747   \n",
            "2          1970  3945.687500 -1513.137500   146.212500  -842.912500   \n",
            "3          1971  3232.700000 -2123.400000  -573.957143    52.771429   \n",
            "4          1972  3976.363636 -1927.500000 -1202.227273  -356.409091   \n",
            "...         ...          ...          ...          ...          ...   \n",
            "1425       3407  3301.483516 -2525.890110   284.362637   589.208791   \n",
            "1426       3408  2678.644444 -1519.500000  -750.533333 -1111.344444   \n",
            "1427       3409  2989.430108  -344.268817  -628.301075 -4936.344086   \n",
            "1428       3410  4225.342857 -3032.514286 -1703.400000  -642.266667   \n",
            "1429       3411  3506.988764 -3023.134831  -860.595506  -111.011236   \n",
            "\n",
            "               f4           f5            f6            f7            f8  ...  \\\n",
            "0    -4766.031579  3710.505263  2.211002e+04  2.145752e+05  3.626936e+05  ...   \n",
            "1     1501.060606  -658.464646  3.703600e+06  2.422004e+06  5.747064e+06  ...   \n",
            "2     2293.300000 -1005.512500  6.185562e+06  6.963930e+06  6.514689e+06  ...   \n",
            "3     2189.971429 -1104.014286  8.157629e+06  1.357391e+07  3.062236e+06  ...   \n",
            "4     1199.238636   104.761364  1.077164e+07  9.619251e+06  1.099214e+06  ...   \n",
            "...           ...          ...           ...           ...           ...  ...   \n",
            "1425  2436.340659  -625.560440  5.098118e+06  8.629058e+06  6.310730e+06  ...   \n",
            "1426  1201.344444  1489.800000  4.380451e+06  4.582087e+06  2.356909e+06  ...   \n",
            "1427  2537.591398  5061.731183  1.230264e+07  4.358821e+06  8.214848e+06  ...   \n",
            "1428  1176.333333  -986.123810  2.091187e+07  2.055777e+07  6.916117e+06  ...   \n",
            "1429  1719.550562  -401.696629  8.067525e+06  7.503633e+06  2.254175e+06  ...   \n",
            "\n",
            "      f1134  f1135  f1136  f1137  f1138  f1139  f1140  f1141  f1142  f1143  \n",
            "0       0.0    0.0    0.0    0.0    0.0    0.0    0.0    0.0    1.0    0.0  \n",
            "1       0.0    0.0    0.0    0.0    0.0    0.0    0.0    0.0    1.0    0.0  \n",
            "2       0.0    0.0    0.0    0.0    0.0    0.0    0.0    0.0    1.0    0.0  \n",
            "3       0.0    0.0    0.0    0.0    0.0    0.0    0.0    0.0    0.0    1.0  \n",
            "4       0.0    0.0    0.0    0.0    0.0    0.0    0.0    0.0    1.0    0.0  \n",
            "...     ...    ...    ...    ...    ...    ...    ...    ...    ...    ...  \n",
            "1425    0.0    0.0    0.0    0.0    0.0    0.0    0.0    0.0    0.0    1.0  \n",
            "1426    0.0    0.0    0.0    0.0    0.0    0.0    0.0    0.0    0.0    1.0  \n",
            "1427    0.0    0.0    0.0    0.0    0.0    0.0    0.0    0.0    1.0    0.0  \n",
            "1428    0.0    0.0    0.0    0.0    0.0    1.0    0.0    0.0    0.0    0.0  \n",
            "1429    0.0    0.0    0.0    0.0    0.0    0.0    0.0    0.0    0.0    1.0  \n",
            "\n",
            "[1430 rows x 1145 columns]\n"
          ]
        }
      ],
      "source": [
        "print(test_df)"
      ]
    },
    {
      "cell_type": "code",
      "execution_count": 3,
      "id": "OnD3sD2YI5Up",
      "metadata": {
        "id": "OnD3sD2YI5Up"
      },
      "outputs": [],
      "source": [
        "# 讀取前處理好的特徵資料（每筆 918 維 + 標籤）\n",
        "info_df = pd.read_csv(\"train_features.csv\")\n",
        "\n",
        "# 分離特徵與標籤\n",
        "X_data = info_df.drop(columns=[\"unique_id\", \"gender\", \"hold racket handed\", \"play years\", \"level\"]).values\n",
        "\n",
        "# 提取各任務的標籤\n",
        "y_gender = info_df[\"gender\"].values\n",
        "y_hand   = info_df[\"hold racket handed\"].values\n",
        "y_years  = info_df[\"play years\"].values\n",
        "y_level  = info_df[\"level\"].values"
      ]
    },
    {
      "cell_type": "code",
      "execution_count": 4,
      "id": "_n_v6WgcJwOu",
      "metadata": {
        "colab": {
          "base_uri": "https://localhost:8080/"
        },
        "id": "_n_v6WgcJwOu",
        "outputId": "41f720ff-0fe6-4484-f193-073c1686a045"
      },
      "outputs": [
        {
          "name": "stdout",
          "output_type": "stream",
          "text": [
            "👨 男生有幾筆： 1627\n",
            "👩 女生有幾筆： 328\n",
            "🫱 右手持拍有幾筆： 1589\n",
            "🫲 左手持拍有幾筆： 366\n",
            "低球齡有幾筆： 387\n",
            "中球齡有幾筆： 868\n",
            "高球齡有幾筆： 700\n",
            "等級0： 715\n",
            "等級1： 201\n",
            "等級2： 136\n",
            "等級3： 903\n"
          ]
        }
      ],
      "source": [
        "print(\"👨 男生有幾筆：\", np.sum(y_gender == 0))\n",
        "print(\"👩 女生有幾筆：\", np.sum(y_gender == 1))\n",
        "print(\"🫱 右手持拍有幾筆：\", np.sum(y_hand == 0))\n",
        "print(\"🫲 左手持拍有幾筆：\", np.sum(y_hand == 1))\n",
        "# 幾乎 5 倍差距 嚴重失衡\n",
        "# 建議使用 oversampling / SMOTE 等技巧\n",
        "\n",
        "# W1 使用 class_weight（推薦！）\n",
        "# W2 上採樣少數類別（如女生）\n",
        "# W3 設計多目標損失時，對 gender 特別調整權重\n",
        "\n",
        "# 檢查持拍手分布\n",
        "# 4.34 倍差距→ 明顯不平衡\n",
        "\n",
        "# 檢查球齡分布\n",
        "print(\"低球齡有幾筆：\", np.sum(y_years == 0))\n",
        "print(\"中球齡有幾筆：\", np.sum(y_years == 1))\n",
        "print(\"高球齡有幾筆：\", np.sum(y_years == 2))\n",
        "# 差 ≈ 2.2 倍 → 輕度不平衡\n",
        "\n",
        "# 檢查等級分布\n",
        "print(\"等級0：\", np.sum(y_level == 0))\n",
        "print(\"等級1：\", np.sum(y_level == 1))\n",
        "print(\"等級2：\", np.sum(y_level == 2))\n",
        "print(\"等級3：\", np.sum(y_level == 3))\n",
        "# 6.6 倍差距 → 明顯不平衡"
      ]
    },
    {
      "cell_type": "code",
      "execution_count": 5,
      "id": "054ebd11",
      "metadata": {
        "id": "054ebd11"
      },
      "outputs": [],
      "source": [
        "# 存下來，之後大家可以直接用\n",
        "# 如果你資料預處理有更動的話，下面的檔名也記得改！！！\n",
        "# 更改方案，這些檔案就自己可以存下來，不要上傳到github上\n",
        "np.save(\"/content/X_data.npy\", X_data)\n",
        "np.save(\"/content/y_gender.npy\", y_gender)\n",
        "np.save(\"/content/y_hand.npy\", y_hand)\n",
        "np.save(\"/content/y_years.npy\", y_years)\n",
        "np.save(\"/content/y_level.npy\", y_level)"
      ]
    },
    {
      "cell_type": "markdown",
      "id": "3fe8cffa",
      "metadata": {
        "id": "3fe8cffa"
      },
      "source": [
        "## Test\n",
        "看一下資料分布而已，也可以跳過"
      ]
    },
    {
      "cell_type": "markdown",
      "id": "cec53cb4",
      "metadata": {
        "id": "cec53cb4"
      },
      "source": [
        "## 0. 載資料"
      ]
    },
    {
      "cell_type": "code",
      "execution_count": 65,
      "id": "1c27efb6",
      "metadata": {
        "id": "1c27efb6"
      },
      "outputs": [],
      "source": [
        "# 切分訓練與驗證資料（80% 訓練, 20% 驗證）\n",
        "X_train, X_val, y_gender_train, y_gender_val, y_hand_train, y_hand_val, y_years_train, y_years_val, y_level_train, y_level_val = train_test_split(\n",
        "    X_data, y_gender, y_hand, y_years, y_level, test_size=0.2, random_state=42\n",
        ")"
      ]
    },
    {
      "cell_type": "markdown",
      "id": "075be328",
      "metadata": {
        "id": "075be328"
      },
      "source": [
        "## Optional. 權重處理"
      ]
    },
    {
      "cell_type": "code",
      "execution_count": 66,
      "id": "7fd28983",
      "metadata": {
        "colab": {
          "base_uri": "https://localhost:8080/"
        },
        "id": "7fd28983",
        "outputId": "384103b6-4fdb-4836-9f4e-9c4343e3f903"
      },
      "outputs": [
        {
          "name": "stdout",
          "output_type": "stream",
          "text": [
            "class weights_years: {0: np.float64(1.6838931955211025), 1: np.float64(0.750768049155146), 2: np.float64(0.930952380952381)}\n",
            "class weights_gender: {0: np.float64(0.60079901659496), 1: np.float64(2.980182926829268)}\n",
            "class weights_hands: {0: np.float64(0.6151667715544368), 1: np.float64(2.670765027322404)}\n",
            "class weights_level: {0: np.float64(0.6835664335664335), 1: np.float64(2.431592039800995), 2: np.float64(3.59375), 3: np.float64(0.54125138427464)}\n",
            "pos_weight_gender = 2.9801828861236572\n",
            "pos_weight_hand = 2.670764923095703\n"
          ]
        }
      ],
      "source": [
        "# 處理球齡資料不平衡\n",
        "\n",
        "\n",
        "weights_years = compute_class_weight(class_weight='balanced', classes=np.unique(y_years), y=y_years)\n",
        "weights_gender = compute_class_weight(class_weight='balanced', classes=np.unique(y_gender), y=y_gender)\n",
        "weights_hands = compute_class_weight(class_weight='balanced', classes=np.unique(y_hand), y=y_hand)\n",
        "weights_level = compute_class_weight(class_weight='balanced', classes=np.unique(y_level), y=y_level)\n",
        "print(\"class weights_years:\", dict(enumerate(weights_years)))\n",
        "print(\"class weights_gender:\", dict(enumerate(weights_gender)))\n",
        "print(\"class weights_hands:\", dict(enumerate(weights_hands)))\n",
        "print(\"class weights_level:\", dict(enumerate(weights_level)))\n",
        "\n",
        "pos_weight_gender = torch.tensor([weights_gender[1]], dtype=torch.float32)\n",
        "pos_weight_hand   = torch.tensor([weights_hands[1]], dtype=torch.float32)\n",
        "ce_weight_years   = torch.tensor(weights_years, dtype=torch.float32)\n",
        "ce_weight_level   = torch.tensor(weights_level, dtype=torch.float32)\n",
        "\n",
        "print(\"pos_weight_gender =\", pos_weight_gender.item())\n",
        "print(\"pos_weight_hand =\", pos_weight_hand.item())"
      ]
    },
    {
      "cell_type": "markdown",
      "id": "a993ccff",
      "metadata": {
        "id": "a993ccff"
      },
      "source": [
        "## 1. 定義資料集"
      ]
    },
    {
      "cell_type": "code",
      "execution_count": 67,
      "id": "75df97e7",
      "metadata": {
        "id": "75df97e7"
      },
      "outputs": [],
      "source": [
        "# Dataset\n",
        "# 自定義一個能被 DataLoader 使用的資料類別\n",
        "# 當 DataLoader 做 batch 時會呼叫這個函式\n",
        "\n",
        "class TableTennisDataset(Dataset):\n",
        "    def __init__(self, X, y_gender, y_hand, y_years, y_level):\n",
        "        self.X = torch.tensor(X, dtype=torch.float32)\n",
        "        self.y_gender = torch.tensor(y_gender, dtype=torch.float32)\n",
        "        self.y_hand = torch.tensor(y_hand, dtype=torch.float32)\n",
        "        self.y_years = torch.tensor(y_years, dtype=torch.long)\n",
        "        self.y_level = torch.tensor(y_level, dtype=torch.long)\n",
        "\n",
        "    def __len__(self):\n",
        "        return len(self.X)\n",
        "\n",
        "    def __getitem__(self, idx):\n",
        "        return self.X[idx], {\n",
        "            'gender': self.y_gender[idx],\n",
        "            'hand': self.y_hand[idx],\n",
        "            'years': self.y_years[idx],\n",
        "            'level': self.y_level[idx]\n",
        "        }"
      ]
    },
    {
      "cell_type": "markdown",
      "id": "3a547ab2",
      "metadata": {
        "id": "3a547ab2"
      },
      "source": [
        "## 2. 定義模型"
      ]
    },
    {
      "cell_type": "code",
      "execution_count": 68,
      "id": "04c48481",
      "metadata": {
        "id": "04c48481"
      },
      "outputs": [],
      "source": [
        "# 定義損失函數\n",
        "# 要不要加權\n",
        "# use_class_weight = False\n",
        "use_class_weight = True\n",
        "\n",
        "if use_class_weight:\n",
        "    # binary 分類：性別 & 手 → BCEWithLogitsLoss + pos_weight\n",
        "    loss_gender = nn.BCEWithLogitsLoss(pos_weight=pos_weight_gender)\n",
        "    loss_hand   = nn.BCEWithLogitsLoss(pos_weight=pos_weight_hand)\n",
        "\n",
        "    # 多類別分類：球齡 & 等級 → CrossEntropyLoss + weight\n",
        "    loss_years = nn.CrossEntropyLoss(weight=ce_weight_years)\n",
        "    loss_level = nn.CrossEntropyLoss(weight=ce_weight_level)\n",
        "else:\n",
        "    loss_gender = nn.BCEWithLogitsLoss()\n",
        "    loss_hand   = nn.BCEWithLogitsLoss()\n",
        "    loss_years  = nn.CrossEntropyLoss()\n",
        "    loss_level  = nn.CrossEntropyLoss()\n",
        "\n",
        "# def compute_loss(preds, targets):\n",
        "#     loss_gender = loss_gender(preds['gender'], targets['gender'])\n",
        "#     loss_hand = loss_hand(preds['hand'], targets['hand'])\n",
        "#     loss_years = loss_years(preds['years'], targets['years'])\n",
        "#     loss_level = loss_level(preds['level'], targets['level'])\n",
        "\n",
        "#     total_loss = loss_gender + loss_hand + loss_years + loss_level\n",
        "#     return total_loss"
      ]
    },
    {
      "cell_type": "code",
      "execution_count": 69,
      "id": "7b38013e",
      "metadata": {
        "id": "7b38013e"
      },
      "outputs": [],
      "source": [
        "from collections import deque\n",
        "\n",
        "class TaskLossTracker:\n",
        "    def __init__(self, max_len=100):\n",
        "        self.history = {\n",
        "            'gender': deque(maxlen=max_len),\n",
        "            'hand': deque(maxlen=max_len),\n",
        "            'years': deque(maxlen=max_len),\n",
        "            'level': deque(maxlen=max_len),\n",
        "        }\n",
        "\n",
        "    def update(self, loss_g, loss_h, loss_y, loss_l):\n",
        "        self.history['gender'].append(loss_g.item())\n",
        "        self.history['hand'].append(loss_h.item())\n",
        "        self.history['years'].append(loss_y.item())\n",
        "        self.history['level'].append(loss_l.item())\n",
        "\n",
        "    def get_weights(self):\n",
        "        # 若某項為空，給一個預設值避免除以 0\n",
        "        avg = {\n",
        "            k: sum(v) / len(v) if len(v) > 0 else 1.0\n",
        "            for k, v in self.history.items()\n",
        "        }\n",
        "\n",
        "        inv = {k: 1.0 / v for k, v in avg.items()}\n",
        "        total_inv = sum(inv.values())\n",
        "        weights = {k: v / total_inv for k, v in inv.items()}\n",
        "        return weights\n"
      ]
    },
    {
      "cell_type": "code",
      "execution_count": 74,
      "id": "905e56c2",
      "metadata": {
        "id": "905e56c2"
      },
      "outputs": [],
      "source": [
        "import torch.nn as nn\n",
        "\n",
        "class TableTennisMLP(nn.Module):\n",
        "    def __init__(self, input_size=1144, hidden_size=256):\n",
        "        super().__init__()\n",
        "        self.shared = nn.Sequential(\n",
        "          nn.Linear(input_size, 512),\n",
        "          nn.BatchNorm1d(512),\n",
        "          nn.ReLU(),\n",
        "          nn.Dropout(0.2),\n",
        "          nn.Linear(512, 256),\n",
        "          nn.BatchNorm1d(256),\n",
        "          nn.ReLU(),\n",
        "          nn.Dropout(0.2)\n",
        "      )\n",
        "\n",
        "        # 多輸出 heads\n",
        "        self.fc_gender = nn.Sequential(\n",
        "            nn.Linear(hidden_size, 64),\n",
        "            nn.ReLU(),\n",
        "            nn.Linear(64, 1)\n",
        "        )  # sigmoid\n",
        "        self.fc_hand = nn.Sequential(\n",
        "            nn.Linear(hidden_size, 64),\n",
        "            nn.ReLU(),\n",
        "            nn.Linear(64, 1)\n",
        "        )\n",
        "        self.fc_years  = nn.Linear(hidden_size, 3)  # softmax\n",
        "        self.fc_level  = nn.Linear(hidden_size, 4)  # softmax\n",
        "\n",
        "    def forward(self, x):  # x shape: (batch, 918)\n",
        "        x = self.shared(x)\n",
        "\n",
        "        gender = self.fc_gender(x).view(-1)#gender = torch.sigmoid(self.fc_gender(x)).squeeze(1)\n",
        "        hand   = self.fc_hand(x).view(-1)# hand   = torch.sigmoid(self.fc_hand(x)).squeeze(1)\n",
        "        years  = self.fc_years(x)\n",
        "        level  = self.fc_level(x)\n",
        "\n",
        "        return {\n",
        "            \"gender\": gender,\n",
        "            \"hand\": hand,\n",
        "            \"years\": years,\n",
        "            \"level\": level\n",
        "        }\n"
      ]
    },
    {
      "cell_type": "markdown",
      "id": "9f909d93",
      "metadata": {
        "id": "9f909d93"
      },
      "source": [
        "## 3. 定義模型訓練"
      ]
    },
    {
      "cell_type": "code",
      "execution_count": 75,
      "id": "76e53451",
      "metadata": {
        "id": "76e53451"
      },
      "outputs": [],
      "source": [
        "# train\n",
        "def train(model, train_loader, optimizer, device):\n",
        "      model.train()\n",
        "      total_loss = 0\n",
        "      correct_gender, correct_hand, correct_years, correct_level = 0, 0, 0, 0\n",
        "      total_samples = 0\n",
        "\n",
        "      for x, y in tqdm(train_loader):\n",
        "            x = x.to(device)\n",
        "            y_gender = y['gender'].float().to(device)  # ✅ for BCEWithLogitsLoss\n",
        "            y_hand = y['hand'].float().to(device)\n",
        "            y_years = y['years'].to(device)\n",
        "            y_level = y['level'].to(device)\n",
        "            # y = {k: v.to(device) for k, v in y.items()}\n",
        "\n",
        "            optimizer.zero_grad()\n",
        "            # 初始化追蹤器\n",
        "            loss_tracker = TaskLossTracker(max_len=100)\n",
        "            out = model(x)\n",
        "\n",
        "\n",
        "            # 個別損失\n",
        "            loss_g = loss_gender(out['gender'], y_gender)\n",
        "            loss_h = loss_hand(out['hand'], y_hand)\n",
        "            loss_y = loss_years(out['years'], y_years)\n",
        "            loss_l = loss_level(out['level'], y_level)\n",
        "            # loss = loss_g + loss_h + loss_y + loss_l\n",
        "            # 更新 tracker\n",
        "            loss_tracker.update(loss_g, loss_h, loss_y, loss_l)\n",
        "\n",
        "            # 動態權重\n",
        "            weights = loss_tracker.get_weights()\n",
        "\n",
        "            # 加權總 loss\n",
        "            loss = (\n",
        "                  80 * weights['gender'] * loss_g +\n",
        "                  80 * weights['hand']  * loss_h +\n",
        "                  weights['years']  * loss_y +\n",
        "                  weights['level']  * loss_l\n",
        "            )\n",
        "            loss.backward()\n",
        "            optimizer.step()\n",
        "            total_loss += loss.item()\n",
        "\n",
        "            # ➕ 準確率計算\n",
        "            total_samples += x.size(0)\n",
        "\n",
        "            pred_gender = (torch.sigmoid(out['gender']) > 0.5).float()\n",
        "            correct_gender += (pred_gender == y_gender).sum().item()\n",
        "\n",
        "            pred_hand = (torch.sigmoid(out['hand']) > 0.5).float()\n",
        "            correct_hand += (pred_hand == y_hand).sum().item()\n",
        "\n",
        "            pred_years = torch.argmax(out['years'], dim=1)\n",
        "            correct_years += (pred_years == y_years).sum().item()\n",
        "\n",
        "            pred_level = torch.argmax(out['level'], dim=1)\n",
        "            correct_level += (pred_level == y_level).sum().item()\n",
        "\n",
        "            # 訓練結果統計\n",
        "            acc_gender = correct_gender / total_samples\n",
        "            acc_hand = correct_hand / total_samples\n",
        "            acc_years = correct_years / total_samples\n",
        "            acc_level = correct_level / total_samples\n",
        "            avg_loss = total_loss / len(train_loader)\n",
        "\n",
        "      print(f\"Train Loss: {avg_loss:.4f} | Train Acc - \"\n",
        "            f\"Gender: {acc_gender:.3f}, Hand: {acc_hand:.3f}, \"\n",
        "            f\"Years: {acc_years:.3f}, Level: {acc_level:.3f}\")\n",
        "      print(\"out['gender'] shape:\", out['gender'].shape)\n",
        "      print(\"y_gender shape:\", y_gender.shape)\n",
        "      print(\"y_gender unique values:\", y_gender.unique())\n",
        "      print(\"pred_gender probs:\", torch.sigmoid(out['gender']).mean().item())\n",
        "      return avg_loss"
      ]
    },
    {
      "cell_type": "markdown",
      "id": "9964ed83",
      "metadata": {
        "id": "9964ed83"
      },
      "source": [
        "## 4. 定義驗證函數"
      ]
    },
    {
      "cell_type": "code",
      "execution_count": 76,
      "id": "f35f8eae",
      "metadata": {
        "id": "f35f8eae"
      },
      "outputs": [],
      "source": [
        "def evaluate(model, dataloader, device):\n",
        "    model.eval()\n",
        "    total_loss = 0\n",
        "    total_samples = 0\n",
        "    correct = {'gender': 0, 'hand': 0, 'years': 0, 'level': 0}\n",
        "    all_preds, all_labels = {k: [] for k in correct}, {k: [] for k in correct}\n",
        "\n",
        "    with torch.no_grad():\n",
        "        for x, y in dataloader:\n",
        "            x = x.to(device)\n",
        "            y = {\n",
        "                \"gender\": y[\"gender\"].float().to(device),\n",
        "                \"hand\": y[\"hand\"].float().to(device),\n",
        "                \"years\": y[\"years\"].to(device),\n",
        "                \"level\": y[\"level\"].to(device)\n",
        "            }\n",
        "            out = model(x)\n",
        "\n",
        "            # loss（若你想統計）\n",
        "            loss_g = loss_gender(out['gender'], y['gender'])\n",
        "            loss_h = loss_hand(out['hand'], y['hand'])\n",
        "            loss_y = loss_years(out['years'], y['years'])\n",
        "            loss_l = loss_level(out['level'], y['level'])\n",
        "            total_loss += (loss_g + loss_h + loss_y + loss_l).item()\n",
        "\n",
        "            total_samples += x.size(0)\n",
        "\n",
        "            # 預測 + 收集\n",
        "            for key in ['gender', 'hand']:\n",
        "                pred = (torch.sigmoid(out[key]) > 0.5).int()\n",
        "                correct[key] += (pred == y[key].int()).sum().item()\n",
        "                all_preds[key].extend(pred.cpu().numpy())\n",
        "                all_labels[key].extend(y[key].int().cpu().numpy())\n",
        "\n",
        "            for key in ['years', 'level']:\n",
        "                pred = torch.argmax(out[key], dim=1)\n",
        "                correct[key] += (pred == y[key]).sum().item()\n",
        "                all_preds[key].extend(pred.cpu().numpy())\n",
        "                all_labels[key].extend(y[key].cpu().numpy())\n",
        "\n",
        "    accs = {k: correct[k] / total_samples for k in correct}\n",
        "    avg_loss = total_loss / len(dataloader)\n",
        "\n",
        "    print(f\"\\n[Validation] Loss: {avg_loss:.4f} | \" +\n",
        "          \" | \".join([f\"acc_{k}: {v:.3f}\" for k, v in accs.items()]))\n",
        "\n",
        "    return accs, all_preds, all_labels\n"
      ]
    },
    {
      "cell_type": "markdown",
      "id": "1b2ac21a",
      "metadata": {
        "id": "1b2ac21a"
      },
      "source": [
        "## 主程式"
      ]
    },
    {
      "cell_type": "code",
      "execution_count": 77,
      "id": "758f78dc",
      "metadata": {
        "colab": {
          "base_uri": "https://localhost:8080/"
        },
        "id": "758f78dc",
        "outputId": "4e5159ab-c5e6-4595-f7d4-a55f9b0ac8d6"
      },
      "outputs": [
        {
          "name": "stdout",
          "output_type": "stream",
          "text": [
            "\n",
            "🟢[Epoch 0]\n"
          ]
        },
        {
          "name": "stderr",
          "output_type": "stream",
          "text": [
            "100%|██████████| 49/49 [00:00<00:00, 207.83it/s]\n"
          ]
        },
        {
          "name": "stdout",
          "output_type": "stream",
          "text": [
            "Train Loss: 41.3568 | Train Acc - Gender: 0.708, Hand: 0.776, Years: 0.311, Level: 0.339\n",
            "out['gender'] shape: torch.Size([28])\n",
            "y_gender shape: torch.Size([28])\n",
            "y_gender unique values: tensor([0., 1.], device='cuda:0')\n",
            "pred_gender probs: 0.3794592618942261\n",
            "\n",
            "[Validation] Loss: 4.0750 | acc_gender: 0.870 | acc_hand: 0.806 | acc_years: 0.458 | acc_level: 0.343\n",
            "\n",
            "🟢[Epoch 1]\n"
          ]
        },
        {
          "name": "stderr",
          "output_type": "stream",
          "text": [
            "100%|██████████| 49/49 [00:00<00:00, 210.32it/s]\n"
          ]
        },
        {
          "name": "stdout",
          "output_type": "stream",
          "text": [
            "Train Loss: 37.8721 | Train Acc - Gender: 0.854, Hand: 0.811, Years: 0.431, Level: 0.379\n",
            "out['gender'] shape: torch.Size([28])\n",
            "y_gender shape: torch.Size([28])\n",
            "y_gender unique values: tensor([0., 1.], device='cuda:0')\n",
            "pred_gender probs: 0.33970609307289124\n",
            "\n",
            "[Validation] Loss: 3.8203 | acc_gender: 0.880 | acc_hand: 0.798 | acc_years: 0.522 | acc_level: 0.391\n",
            "\n",
            "🟢[Epoch 2]\n"
          ]
        },
        {
          "name": "stderr",
          "output_type": "stream",
          "text": [
            "100%|██████████| 49/49 [00:00<00:00, 161.50it/s]\n"
          ]
        },
        {
          "name": "stdout",
          "output_type": "stream",
          "text": [
            "Train Loss: 35.8481 | Train Acc - Gender: 0.855, Hand: 0.823, Years: 0.480, Level: 0.374\n",
            "out['gender'] shape: torch.Size([28])\n",
            "y_gender shape: torch.Size([28])\n",
            "y_gender unique values: tensor([0., 1.], device='cuda:0')\n",
            "pred_gender probs: 0.3348536193370819\n",
            "\n",
            "[Validation] Loss: 3.7095 | acc_gender: 0.862 | acc_hand: 0.772 | acc_years: 0.509 | acc_level: 0.343\n",
            "\n",
            "🟢[Epoch 3]\n"
          ]
        },
        {
          "name": "stderr",
          "output_type": "stream",
          "text": [
            "100%|██████████| 49/49 [00:00<00:00, 160.94it/s]\n"
          ]
        },
        {
          "name": "stdout",
          "output_type": "stream",
          "text": [
            "Train Loss: 34.2017 | Train Acc - Gender: 0.843, Hand: 0.824, Years: 0.504, Level: 0.441\n",
            "out['gender'] shape: torch.Size([28])\n",
            "y_gender shape: torch.Size([28])\n",
            "y_gender unique values: tensor([0., 1.], device='cuda:0')\n",
            "pred_gender probs: 0.3203044831752777\n",
            "\n",
            "[Validation] Loss: 3.6299 | acc_gender: 0.831 | acc_hand: 0.806 | acc_years: 0.540 | acc_level: 0.501\n",
            "\n",
            "🟢[Epoch 4]\n"
          ]
        },
        {
          "name": "stderr",
          "output_type": "stream",
          "text": [
            "100%|██████████| 49/49 [00:00<00:00, 208.98it/s]\n"
          ]
        },
        {
          "name": "stdout",
          "output_type": "stream",
          "text": [
            "Train Loss: 32.8176 | Train Acc - Gender: 0.853, Hand: 0.834, Years: 0.520, Level: 0.434\n",
            "out['gender'] shape: torch.Size([28])\n",
            "y_gender shape: torch.Size([28])\n",
            "y_gender unique values: tensor([0., 1.], device='cuda:0')\n",
            "pred_gender probs: 0.2911999225616455\n",
            "\n",
            "[Validation] Loss: 3.5234 | acc_gender: 0.870 | acc_hand: 0.818 | acc_years: 0.565 | acc_level: 0.478\n",
            "\n",
            "🟢[Epoch 5]\n"
          ]
        },
        {
          "name": "stderr",
          "output_type": "stream",
          "text": [
            "100%|██████████| 49/49 [00:00<00:00, 187.32it/s]\n"
          ]
        },
        {
          "name": "stdout",
          "output_type": "stream",
          "text": [
            "Train Loss: 32.0140 | Train Acc - Gender: 0.847, Hand: 0.839, Years: 0.536, Level: 0.405\n",
            "out['gender'] shape: torch.Size([28])\n",
            "y_gender shape: torch.Size([28])\n",
            "y_gender unique values: tensor([0., 1.], device='cuda:0')\n",
            "pred_gender probs: 0.3121723532676697\n",
            "\n",
            "[Validation] Loss: 3.5201 | acc_gender: 0.839 | acc_hand: 0.844 | acc_years: 0.575 | acc_level: 0.478\n",
            "\n",
            "🟢[Epoch 6]\n"
          ]
        },
        {
          "name": "stderr",
          "output_type": "stream",
          "text": [
            "100%|██████████| 49/49 [00:00<00:00, 208.36it/s]\n"
          ]
        },
        {
          "name": "stdout",
          "output_type": "stream",
          "text": [
            "Train Loss: 30.6902 | Train Acc - Gender: 0.859, Hand: 0.818, Years: 0.515, Level: 0.465\n",
            "out['gender'] shape: torch.Size([28])\n",
            "y_gender shape: torch.Size([28])\n",
            "y_gender unique values: tensor([0., 1.], device='cuda:0')\n",
            "pred_gender probs: 0.3233758807182312\n",
            "\n",
            "[Validation] Loss: 3.5555 | acc_gender: 0.783 | acc_hand: 0.829 | acc_years: 0.573 | acc_level: 0.545\n",
            "\n",
            "🟢[Epoch 7]\n"
          ]
        },
        {
          "name": "stderr",
          "output_type": "stream",
          "text": [
            "100%|██████████| 49/49 [00:00<00:00, 182.44it/s]\n"
          ]
        },
        {
          "name": "stdout",
          "output_type": "stream",
          "text": [
            "Train Loss: 30.6135 | Train Acc - Gender: 0.850, Hand: 0.844, Years: 0.527, Level: 0.473\n",
            "out['gender'] shape: torch.Size([28])\n",
            "y_gender shape: torch.Size([28])\n",
            "y_gender unique values: tensor([0., 1.], device='cuda:0')\n",
            "pred_gender probs: 0.298883318901062\n",
            "\n",
            "[Validation] Loss: 3.4822 | acc_gender: 0.852 | acc_hand: 0.821 | acc_years: 0.593 | acc_level: 0.555\n",
            "\n",
            "🟢[Epoch 8]\n"
          ]
        },
        {
          "name": "stderr",
          "output_type": "stream",
          "text": [
            "100%|██████████| 49/49 [00:00<00:00, 211.17it/s]\n"
          ]
        },
        {
          "name": "stdout",
          "output_type": "stream",
          "text": [
            "Train Loss: 29.4432 | Train Acc - Gender: 0.869, Hand: 0.848, Years: 0.558, Level: 0.503\n",
            "out['gender'] shape: torch.Size([28])\n",
            "y_gender shape: torch.Size([28])\n",
            "y_gender unique values: tensor([0., 1.], device='cuda:0')\n",
            "pred_gender probs: 0.287863552570343\n",
            "\n",
            "[Validation] Loss: 3.4566 | acc_gender: 0.841 | acc_hand: 0.826 | acc_years: 0.588 | acc_level: 0.547\n",
            "\n",
            "🟢[Epoch 9]\n"
          ]
        },
        {
          "name": "stderr",
          "output_type": "stream",
          "text": [
            "100%|██████████| 49/49 [00:00<00:00, 197.49it/s]\n"
          ]
        },
        {
          "name": "stdout",
          "output_type": "stream",
          "text": [
            "Train Loss: 28.5950 | Train Acc - Gender: 0.870, Hand: 0.834, Years: 0.554, Level: 0.469\n",
            "out['gender'] shape: torch.Size([28])\n",
            "y_gender shape: torch.Size([28])\n",
            "y_gender unique values: tensor([0., 1.], device='cuda:0')\n",
            "pred_gender probs: 0.2934653162956238\n",
            "\n",
            "[Validation] Loss: 3.5613 | acc_gender: 0.737 | acc_hand: 0.808 | acc_years: 0.601 | acc_level: 0.555\n",
            "\n",
            "🟢[Epoch 10]\n"
          ]
        },
        {
          "name": "stderr",
          "output_type": "stream",
          "text": [
            "100%|██████████| 49/49 [00:00<00:00, 208.88it/s]\n"
          ]
        },
        {
          "name": "stdout",
          "output_type": "stream",
          "text": [
            "Train Loss: 27.9869 | Train Acc - Gender: 0.877, Hand: 0.847, Years: 0.566, Level: 0.449\n",
            "out['gender'] shape: torch.Size([28])\n",
            "y_gender shape: torch.Size([28])\n",
            "y_gender unique values: tensor([0., 1.], device='cuda:0')\n",
            "pred_gender probs: 0.28699183464050293\n",
            "\n",
            "[Validation] Loss: 3.4417 | acc_gender: 0.788 | acc_hand: 0.824 | acc_years: 0.606 | acc_level: 0.407\n",
            "\n",
            "🟢[Epoch 11]\n"
          ]
        },
        {
          "name": "stderr",
          "output_type": "stream",
          "text": [
            "100%|██████████| 49/49 [00:00<00:00, 213.36it/s]\n"
          ]
        },
        {
          "name": "stdout",
          "output_type": "stream",
          "text": [
            "Train Loss: 26.4849 | Train Acc - Gender: 0.883, Hand: 0.863, Years: 0.574, Level: 0.494\n",
            "out['gender'] shape: torch.Size([28])\n",
            "y_gender shape: torch.Size([28])\n",
            "y_gender unique values: tensor([0., 1.], device='cuda:0')\n",
            "pred_gender probs: 0.2590467631816864\n",
            "\n",
            "[Validation] Loss: 3.4100 | acc_gender: 0.849 | acc_hand: 0.813 | acc_years: 0.611 | acc_level: 0.573\n",
            "\n",
            "🟢[Epoch 12]\n"
          ]
        },
        {
          "name": "stderr",
          "output_type": "stream",
          "text": [
            "100%|██████████| 49/49 [00:00<00:00, 176.46it/s]\n"
          ]
        },
        {
          "name": "stdout",
          "output_type": "stream",
          "text": [
            "Train Loss: 26.3459 | Train Acc - Gender: 0.880, Hand: 0.866, Years: 0.588, Level: 0.482\n",
            "out['gender'] shape: torch.Size([28])\n",
            "y_gender shape: torch.Size([28])\n",
            "y_gender unique values: tensor([0., 1.], device='cuda:0')\n",
            "pred_gender probs: 0.26150545477867126\n",
            "\n",
            "[Validation] Loss: 3.4166 | acc_gender: 0.859 | acc_hand: 0.803 | acc_years: 0.598 | acc_level: 0.399\n",
            "\n",
            "🟢[Epoch 13]\n"
          ]
        },
        {
          "name": "stderr",
          "output_type": "stream",
          "text": [
            "100%|██████████| 49/49 [00:00<00:00, 204.08it/s]\n"
          ]
        },
        {
          "name": "stdout",
          "output_type": "stream",
          "text": [
            "Train Loss: 25.2526 | Train Acc - Gender: 0.902, Hand: 0.861, Years: 0.598, Level: 0.481\n",
            "out['gender'] shape: torch.Size([28])\n",
            "y_gender shape: torch.Size([28])\n",
            "y_gender unique values: tensor([0., 1.], device='cuda:0')\n",
            "pred_gender probs: 0.2748628556728363\n",
            "\n",
            "[Validation] Loss: 3.4386 | acc_gender: 0.824 | acc_hand: 0.793 | acc_years: 0.624 | acc_level: 0.412\n",
            "\n",
            "🟢[Epoch 14]\n"
          ]
        },
        {
          "name": "stderr",
          "output_type": "stream",
          "text": [
            "100%|██████████| 49/49 [00:00<00:00, 208.71it/s]\n"
          ]
        },
        {
          "name": "stdout",
          "output_type": "stream",
          "text": [
            "Train Loss: 24.2195 | Train Acc - Gender: 0.908, Hand: 0.847, Years: 0.594, Level: 0.469\n",
            "out['gender'] shape: torch.Size([28])\n",
            "y_gender shape: torch.Size([28])\n",
            "y_gender unique values: tensor([0., 1.], device='cuda:0')\n",
            "pred_gender probs: 0.28484049439430237\n",
            "\n",
            "[Validation] Loss: 3.3925 | acc_gender: 0.870 | acc_hand: 0.824 | acc_years: 0.627 | acc_level: 0.417\n",
            "\n",
            "🟢[Epoch 15]\n"
          ]
        },
        {
          "name": "stderr",
          "output_type": "stream",
          "text": [
            "100%|██████████| 49/49 [00:00<00:00, 217.79it/s]\n"
          ]
        },
        {
          "name": "stdout",
          "output_type": "stream",
          "text": [
            "Train Loss: 23.4892 | Train Acc - Gender: 0.914, Hand: 0.876, Years: 0.590, Level: 0.476\n",
            "out['gender'] shape: torch.Size([28])\n",
            "y_gender shape: torch.Size([28])\n",
            "y_gender unique values: tensor([0., 1.], device='cuda:0')\n",
            "pred_gender probs: 0.2237616777420044\n",
            "\n",
            "[Validation] Loss: 3.3801 | acc_gender: 0.867 | acc_hand: 0.775 | acc_years: 0.604 | acc_level: 0.404\n",
            "\n",
            "🟢[Epoch 16]\n"
          ]
        },
        {
          "name": "stderr",
          "output_type": "stream",
          "text": [
            "100%|██████████| 49/49 [00:00<00:00, 201.59it/s]\n"
          ]
        },
        {
          "name": "stdout",
          "output_type": "stream",
          "text": [
            "Train Loss: 23.2995 | Train Acc - Gender: 0.902, Hand: 0.863, Years: 0.591, Level: 0.494\n",
            "out['gender'] shape: torch.Size([28])\n",
            "y_gender shape: torch.Size([28])\n",
            "y_gender unique values: tensor([0., 1.], device='cuda:0')\n",
            "pred_gender probs: 0.23401755094528198\n",
            "\n",
            "[Validation] Loss: 3.4034 | acc_gender: 0.877 | acc_hand: 0.734 | acc_years: 0.609 | acc_level: 0.350\n",
            "\n",
            "🟢[Epoch 17]\n"
          ]
        },
        {
          "name": "stderr",
          "output_type": "stream",
          "text": [
            "100%|██████████| 49/49 [00:00<00:00, 183.47it/s]\n"
          ]
        },
        {
          "name": "stdout",
          "output_type": "stream",
          "text": [
            "Train Loss: 23.6268 | Train Acc - Gender: 0.907, Hand: 0.857, Years: 0.592, Level: 0.501\n",
            "out['gender'] shape: torch.Size([28])\n",
            "y_gender shape: torch.Size([28])\n",
            "y_gender unique values: tensor([0., 1.], device='cuda:0')\n",
            "pred_gender probs: 0.23353660106658936\n",
            "\n",
            "[Validation] Loss: 3.3649 | acc_gender: 0.880 | acc_hand: 0.749 | acc_years: 0.621 | acc_level: 0.471\n",
            "\n",
            "🟢[Epoch 18]\n"
          ]
        },
        {
          "name": "stderr",
          "output_type": "stream",
          "text": [
            "100%|██████████| 49/49 [00:00<00:00, 210.08it/s]\n"
          ]
        },
        {
          "name": "stdout",
          "output_type": "stream",
          "text": [
            "Train Loss: 22.8202 | Train Acc - Gender: 0.910, Hand: 0.845, Years: 0.600, Level: 0.527\n",
            "out['gender'] shape: torch.Size([28])\n",
            "y_gender shape: torch.Size([28])\n",
            "y_gender unique values: tensor([0., 1.], device='cuda:0')\n",
            "pred_gender probs: 0.2509499490261078\n",
            "\n",
            "[Validation] Loss: 3.3504 | acc_gender: 0.890 | acc_hand: 0.770 | acc_years: 0.619 | acc_level: 0.514\n",
            "\n",
            "🟢[Epoch 19]\n"
          ]
        },
        {
          "name": "stderr",
          "output_type": "stream",
          "text": [
            "100%|██████████| 49/49 [00:00<00:00, 140.01it/s]\n"
          ]
        },
        {
          "name": "stdout",
          "output_type": "stream",
          "text": [
            "Train Loss: 21.3978 | Train Acc - Gender: 0.918, Hand: 0.883, Years: 0.606, Level: 0.561\n",
            "out['gender'] shape: torch.Size([28])\n",
            "y_gender shape: torch.Size([28])\n",
            "y_gender unique values: tensor([0., 1.], device='cuda:0')\n",
            "pred_gender probs: 0.26500174403190613\n",
            "\n",
            "[Validation] Loss: 3.3915 | acc_gender: 0.887 | acc_hand: 0.785 | acc_years: 0.593 | acc_level: 0.550\n",
            "\n",
            "🟢[Epoch 20]\n"
          ]
        },
        {
          "name": "stderr",
          "output_type": "stream",
          "text": [
            "100%|██████████| 49/49 [00:00<00:00, 133.44it/s]\n"
          ]
        },
        {
          "name": "stdout",
          "output_type": "stream",
          "text": [
            "Train Loss: 21.2852 | Train Acc - Gender: 0.924, Hand: 0.870, Years: 0.603, Level: 0.509\n",
            "out['gender'] shape: torch.Size([28])\n",
            "y_gender shape: torch.Size([28])\n",
            "y_gender unique values: tensor([0., 1.], device='cuda:0')\n",
            "pred_gender probs: 0.21961887180805206\n",
            "\n",
            "[Validation] Loss: 3.4293 | acc_gender: 0.854 | acc_hand: 0.801 | acc_years: 0.614 | acc_level: 0.491\n",
            "\n",
            "🟢[Epoch 21]\n"
          ]
        },
        {
          "name": "stderr",
          "output_type": "stream",
          "text": [
            "100%|██████████| 49/49 [00:00<00:00, 175.80it/s]\n"
          ]
        },
        {
          "name": "stdout",
          "output_type": "stream",
          "text": [
            "Train Loss: 20.0864 | Train Acc - Gender: 0.927, Hand: 0.879, Years: 0.615, Level: 0.522\n",
            "out['gender'] shape: torch.Size([28])\n",
            "y_gender shape: torch.Size([28])\n",
            "y_gender unique values: tensor([0., 1.], device='cuda:0')\n",
            "pred_gender probs: 0.22543062269687653\n",
            "\n",
            "[Validation] Loss: 3.3941 | acc_gender: 0.877 | acc_hand: 0.788 | acc_years: 0.624 | acc_level: 0.514\n",
            "\n",
            "🟢[Epoch 22]\n"
          ]
        },
        {
          "name": "stderr",
          "output_type": "stream",
          "text": [
            "100%|██████████| 49/49 [00:00<00:00, 160.12it/s]\n"
          ]
        },
        {
          "name": "stdout",
          "output_type": "stream",
          "text": [
            "Train Loss: 19.9372 | Train Acc - Gender: 0.933, Hand: 0.880, Years: 0.605, Level: 0.526\n",
            "out['gender'] shape: torch.Size([28])\n",
            "y_gender shape: torch.Size([28])\n",
            "y_gender unique values: tensor([0., 1.], device='cuda:0')\n",
            "pred_gender probs: 0.22265852987766266\n",
            "\n",
            "[Validation] Loss: 3.3355 | acc_gender: 0.885 | acc_hand: 0.829 | acc_years: 0.609 | acc_level: 0.558\n",
            "\n",
            "🟢[Epoch 23]\n"
          ]
        },
        {
          "name": "stderr",
          "output_type": "stream",
          "text": [
            "100%|██████████| 49/49 [00:00<00:00, 147.45it/s]\n"
          ]
        },
        {
          "name": "stdout",
          "output_type": "stream",
          "text": [
            "Train Loss: 19.3871 | Train Acc - Gender: 0.940, Hand: 0.880, Years: 0.602, Level: 0.528\n",
            "out['gender'] shape: torch.Size([28])\n",
            "y_gender shape: torch.Size([28])\n",
            "y_gender unique values: tensor([0., 1.], device='cuda:0')\n",
            "pred_gender probs: 0.2903550863265991\n",
            "\n",
            "[Validation] Loss: 3.5106 | acc_gender: 0.882 | acc_hand: 0.788 | acc_years: 0.573 | acc_level: 0.501\n",
            "\n",
            "🟢[Epoch 24]\n"
          ]
        },
        {
          "name": "stderr",
          "output_type": "stream",
          "text": [
            "100%|██████████| 49/49 [00:00<00:00, 135.85it/s]\n"
          ]
        },
        {
          "name": "stdout",
          "output_type": "stream",
          "text": [
            "Train Loss: 19.5154 | Train Acc - Gender: 0.930, Hand: 0.887, Years: 0.606, Level: 0.555\n",
            "out['gender'] shape: torch.Size([28])\n",
            "y_gender shape: torch.Size([28])\n",
            "y_gender unique values: tensor([0., 1.], device='cuda:0')\n",
            "pred_gender probs: 0.22605137526988983\n",
            "\n",
            "[Validation] Loss: 3.2825 | acc_gender: 0.870 | acc_hand: 0.821 | acc_years: 0.614 | acc_level: 0.578\n",
            "\n",
            "🟢[Epoch 25]\n"
          ]
        },
        {
          "name": "stderr",
          "output_type": "stream",
          "text": [
            "100%|██████████| 49/49 [00:00<00:00, 197.21it/s]\n"
          ]
        },
        {
          "name": "stdout",
          "output_type": "stream",
          "text": [
            "Train Loss: 19.3642 | Train Acc - Gender: 0.947, Hand: 0.867, Years: 0.616, Level: 0.533\n",
            "out['gender'] shape: torch.Size([28])\n",
            "y_gender shape: torch.Size([28])\n",
            "y_gender unique values: tensor([0., 1.], device='cuda:0')\n",
            "pred_gender probs: 0.22403408586978912\n",
            "\n",
            "[Validation] Loss: 3.3794 | acc_gender: 0.898 | acc_hand: 0.816 | acc_years: 0.606 | acc_level: 0.422\n",
            "\n",
            "🟢[Epoch 26]\n"
          ]
        },
        {
          "name": "stderr",
          "output_type": "stream",
          "text": [
            "100%|██████████| 49/49 [00:00<00:00, 209.52it/s]\n"
          ]
        },
        {
          "name": "stdout",
          "output_type": "stream",
          "text": [
            "Train Loss: 19.7663 | Train Acc - Gender: 0.939, Hand: 0.880, Years: 0.613, Level: 0.495\n",
            "out['gender'] shape: torch.Size([28])\n",
            "y_gender shape: torch.Size([28])\n",
            "y_gender unique values: tensor([0., 1.], device='cuda:0')\n",
            "pred_gender probs: 0.2266559600830078\n",
            "\n",
            "[Validation] Loss: 3.4488 | acc_gender: 0.852 | acc_hand: 0.834 | acc_years: 0.614 | acc_level: 0.427\n",
            "\n",
            "🟢[Epoch 27]\n"
          ]
        },
        {
          "name": "stderr",
          "output_type": "stream",
          "text": [
            "100%|██████████| 49/49 [00:00<00:00, 216.38it/s]\n"
          ]
        },
        {
          "name": "stdout",
          "output_type": "stream",
          "text": [
            "Train Loss: 17.7734 | Train Acc - Gender: 0.946, Hand: 0.889, Years: 0.629, Level: 0.481\n",
            "out['gender'] shape: torch.Size([28])\n",
            "y_gender shape: torch.Size([28])\n",
            "y_gender unique values: tensor([0., 1.], device='cuda:0')\n",
            "pred_gender probs: 0.20651671290397644\n",
            "\n",
            "[Validation] Loss: 3.4513 | acc_gender: 0.895 | acc_hand: 0.849 | acc_years: 0.616 | acc_level: 0.465\n",
            "\n",
            "🟢[Epoch 28]\n"
          ]
        },
        {
          "name": "stderr",
          "output_type": "stream",
          "text": [
            "100%|██████████| 49/49 [00:00<00:00, 203.55it/s]\n"
          ]
        },
        {
          "name": "stdout",
          "output_type": "stream",
          "text": [
            "Train Loss: 18.4161 | Train Acc - Gender: 0.936, Hand: 0.883, Years: 0.626, Level: 0.551\n",
            "out['gender'] shape: torch.Size([28])\n",
            "y_gender shape: torch.Size([28])\n",
            "y_gender unique values: tensor([0., 1.], device='cuda:0')\n",
            "pred_gender probs: 0.24888326227664948\n",
            "\n",
            "[Validation] Loss: 3.3957 | acc_gender: 0.882 | acc_hand: 0.821 | acc_years: 0.616 | acc_level: 0.627\n",
            "\n",
            "🟢[Epoch 29]\n"
          ]
        },
        {
          "name": "stderr",
          "output_type": "stream",
          "text": [
            "100%|██████████| 49/49 [00:00<00:00, 168.85it/s]\n"
          ]
        },
        {
          "name": "stdout",
          "output_type": "stream",
          "text": [
            "Train Loss: 18.0111 | Train Acc - Gender: 0.939, Hand: 0.884, Years: 0.625, Level: 0.556\n",
            "out['gender'] shape: torch.Size([28])\n",
            "y_gender shape: torch.Size([28])\n",
            "y_gender unique values: tensor([0., 1.], device='cuda:0')\n",
            "pred_gender probs: 0.16278250515460968\n",
            "\n",
            "[Validation] Loss: 3.4431 | acc_gender: 0.895 | acc_hand: 0.742 | acc_years: 0.634 | acc_level: 0.519\n",
            "\n",
            "🟢[Epoch 30]\n"
          ]
        },
        {
          "name": "stderr",
          "output_type": "stream",
          "text": [
            "100%|██████████| 49/49 [00:00<00:00, 216.37it/s]\n"
          ]
        },
        {
          "name": "stdout",
          "output_type": "stream",
          "text": [
            "Train Loss: 17.5671 | Train Acc - Gender: 0.948, Hand: 0.887, Years: 0.636, Level: 0.504\n",
            "out['gender'] shape: torch.Size([28])\n",
            "y_gender shape: torch.Size([28])\n",
            "y_gender unique values: tensor([0., 1.], device='cuda:0')\n",
            "pred_gender probs: 0.18025073409080505\n",
            "\n",
            "[Validation] Loss: 3.4028 | acc_gender: 0.887 | acc_hand: 0.798 | acc_years: 0.611 | acc_level: 0.430\n",
            "\n",
            "🟢[Epoch 31]\n"
          ]
        },
        {
          "name": "stderr",
          "output_type": "stream",
          "text": [
            "100%|██████████| 49/49 [00:00<00:00, 214.31it/s]\n"
          ]
        },
        {
          "name": "stdout",
          "output_type": "stream",
          "text": [
            "Train Loss: 17.0169 | Train Acc - Gender: 0.943, Hand: 0.893, Years: 0.636, Level: 0.514\n",
            "out['gender'] shape: torch.Size([28])\n",
            "y_gender shape: torch.Size([28])\n",
            "y_gender unique values: tensor([0., 1.], device='cuda:0')\n",
            "pred_gender probs: 0.20491938292980194\n",
            "\n",
            "[Validation] Loss: 3.5048 | acc_gender: 0.890 | acc_hand: 0.762 | acc_years: 0.614 | acc_level: 0.402\n",
            "\n",
            "🟢[Epoch 32]\n"
          ]
        },
        {
          "name": "stderr",
          "output_type": "stream",
          "text": [
            "100%|██████████| 49/49 [00:00<00:00, 201.46it/s]\n"
          ]
        },
        {
          "name": "stdout",
          "output_type": "stream",
          "text": [
            "Train Loss: 17.2021 | Train Acc - Gender: 0.944, Hand: 0.896, Years: 0.631, Level: 0.524\n",
            "out['gender'] shape: torch.Size([28])\n",
            "y_gender shape: torch.Size([28])\n",
            "y_gender unique values: tensor([0., 1.], device='cuda:0')\n",
            "pred_gender probs: 0.16693474352359772\n",
            "\n",
            "[Validation] Loss: 3.4147 | acc_gender: 0.882 | acc_hand: 0.801 | acc_years: 0.616 | acc_level: 0.442\n",
            "\n",
            "🟢[Epoch 33]\n"
          ]
        },
        {
          "name": "stderr",
          "output_type": "stream",
          "text": [
            "100%|██████████| 49/49 [00:00<00:00, 209.36it/s]\n"
          ]
        },
        {
          "name": "stdout",
          "output_type": "stream",
          "text": [
            "Train Loss: 15.5050 | Train Acc - Gender: 0.959, Hand: 0.896, Years: 0.637, Level: 0.521\n",
            "out['gender'] shape: torch.Size([28])\n",
            "y_gender shape: torch.Size([28])\n",
            "y_gender unique values: tensor([0., 1.], device='cuda:0')\n",
            "pred_gender probs: 0.21489205956459045\n",
            "\n",
            "[Validation] Loss: 3.4016 | acc_gender: 0.870 | acc_hand: 0.836 | acc_years: 0.593 | acc_level: 0.445\n",
            "\n",
            "🟢[Epoch 34]\n"
          ]
        },
        {
          "name": "stderr",
          "output_type": "stream",
          "text": [
            "100%|██████████| 49/49 [00:00<00:00, 212.95it/s]\n"
          ]
        },
        {
          "name": "stdout",
          "output_type": "stream",
          "text": [
            "Train Loss: 14.3375 | Train Acc - Gender: 0.962, Hand: 0.896, Years: 0.645, Level: 0.534\n",
            "out['gender'] shape: torch.Size([28])\n",
            "y_gender shape: torch.Size([28])\n",
            "y_gender unique values: tensor([0., 1.], device='cuda:0')\n",
            "pred_gender probs: 0.2277829647064209\n",
            "\n",
            "[Validation] Loss: 3.3655 | acc_gender: 0.887 | acc_hand: 0.816 | acc_years: 0.629 | acc_level: 0.404\n",
            "\n",
            "🟢[Epoch 35]\n"
          ]
        },
        {
          "name": "stderr",
          "output_type": "stream",
          "text": [
            "100%|██████████| 49/49 [00:00<00:00, 166.87it/s]\n"
          ]
        },
        {
          "name": "stdout",
          "output_type": "stream",
          "text": [
            "Train Loss: 15.7199 | Train Acc - Gender: 0.948, Hand: 0.905, Years: 0.623, Level: 0.543\n",
            "out['gender'] shape: torch.Size([28])\n",
            "y_gender shape: torch.Size([28])\n",
            "y_gender unique values: tensor([0., 1.], device='cuda:0')\n",
            "pred_gender probs: 0.2392115741968155\n",
            "\n",
            "[Validation] Loss: 3.4670 | acc_gender: 0.898 | acc_hand: 0.806 | acc_years: 0.621 | acc_level: 0.532\n",
            "\n",
            "🟢[Epoch 36]\n"
          ]
        },
        {
          "name": "stderr",
          "output_type": "stream",
          "text": [
            "100%|██████████| 49/49 [00:00<00:00, 176.96it/s]\n"
          ]
        },
        {
          "name": "stdout",
          "output_type": "stream",
          "text": [
            "Train Loss: 14.5955 | Train Acc - Gender: 0.960, Hand: 0.906, Years: 0.632, Level: 0.512\n",
            "out['gender'] shape: torch.Size([28])\n",
            "y_gender shape: torch.Size([28])\n",
            "y_gender unique values: tensor([0., 1.], device='cuda:0')\n",
            "pred_gender probs: 0.15093712508678436\n",
            "\n",
            "[Validation] Loss: 3.3937 | acc_gender: 0.880 | acc_hand: 0.808 | acc_years: 0.616 | acc_level: 0.435\n",
            "\n",
            "🟢[Epoch 37]\n"
          ]
        },
        {
          "name": "stderr",
          "output_type": "stream",
          "text": [
            "100%|██████████| 49/49 [00:00<00:00, 219.26it/s]\n"
          ]
        },
        {
          "name": "stdout",
          "output_type": "stream",
          "text": [
            "Train Loss: 14.4621 | Train Acc - Gender: 0.964, Hand: 0.899, Years: 0.655, Level: 0.488\n",
            "out['gender'] shape: torch.Size([28])\n",
            "y_gender shape: torch.Size([28])\n",
            "y_gender unique values: tensor([0., 1.], device='cuda:0')\n",
            "pred_gender probs: 0.20998504757881165\n",
            "\n",
            "[Validation] Loss: 3.4272 | acc_gender: 0.867 | acc_hand: 0.818 | acc_years: 0.598 | acc_level: 0.407\n",
            "\n",
            "🟢[Epoch 38]\n"
          ]
        },
        {
          "name": "stderr",
          "output_type": "stream",
          "text": [
            "100%|██████████| 49/49 [00:00<00:00, 218.75it/s]\n"
          ]
        },
        {
          "name": "stdout",
          "output_type": "stream",
          "text": [
            "Train Loss: 14.5375 | Train Acc - Gender: 0.955, Hand: 0.897, Years: 0.627, Level: 0.538\n",
            "out['gender'] shape: torch.Size([28])\n",
            "y_gender shape: torch.Size([28])\n",
            "y_gender unique values: tensor([0., 1.], device='cuda:0')\n",
            "pred_gender probs: 0.21088387072086334\n",
            "\n",
            "[Validation] Loss: 3.4264 | acc_gender: 0.893 | acc_hand: 0.829 | acc_years: 0.624 | acc_level: 0.419\n",
            "\n",
            "🟢[Epoch 39]\n"
          ]
        },
        {
          "name": "stderr",
          "output_type": "stream",
          "text": [
            "100%|██████████| 49/49 [00:00<00:00, 201.98it/s]\n"
          ]
        },
        {
          "name": "stdout",
          "output_type": "stream",
          "text": [
            "Train Loss: 14.5039 | Train Acc - Gender: 0.961, Hand: 0.894, Years: 0.647, Level: 0.513\n",
            "out['gender'] shape: torch.Size([28])\n",
            "y_gender shape: torch.Size([28])\n",
            "y_gender unique values: tensor([0., 1.], device='cuda:0')\n",
            "pred_gender probs: 0.19182488322257996\n",
            "\n",
            "[Validation] Loss: 3.5982 | acc_gender: 0.854 | acc_hand: 0.836 | acc_years: 0.601 | acc_level: 0.445\n",
            "\n",
            "🟢[Epoch 40]\n"
          ]
        },
        {
          "name": "stderr",
          "output_type": "stream",
          "text": [
            "100%|██████████| 49/49 [00:00<00:00, 178.79it/s]\n"
          ]
        },
        {
          "name": "stdout",
          "output_type": "stream",
          "text": [
            "Train Loss: 13.9026 | Train Acc - Gender: 0.962, Hand: 0.903, Years: 0.630, Level: 0.518\n",
            "out['gender'] shape: torch.Size([28])\n",
            "y_gender shape: torch.Size([28])\n",
            "y_gender unique values: tensor([0., 1.], device='cuda:0')\n",
            "pred_gender probs: 0.19282832741737366\n",
            "\n",
            "[Validation] Loss: 3.5282 | acc_gender: 0.895 | acc_hand: 0.813 | acc_years: 0.596 | acc_level: 0.399\n",
            "\n",
            "🟢[Epoch 41]\n"
          ]
        },
        {
          "name": "stderr",
          "output_type": "stream",
          "text": [
            "100%|██████████| 49/49 [00:00<00:00, 210.68it/s]\n"
          ]
        },
        {
          "name": "stdout",
          "output_type": "stream",
          "text": [
            "Train Loss: 15.7125 | Train Acc - Gender: 0.953, Hand: 0.899, Years: 0.619, Level: 0.524\n",
            "out['gender'] shape: torch.Size([28])\n",
            "y_gender shape: torch.Size([28])\n",
            "y_gender unique values: tensor([0., 1.], device='cuda:0')\n",
            "pred_gender probs: 0.2504585087299347\n",
            "\n",
            "[Validation] Loss: 3.4172 | acc_gender: 0.859 | acc_hand: 0.793 | acc_years: 0.614 | acc_level: 0.540\n",
            "\n",
            "🟢[Epoch 42]\n"
          ]
        },
        {
          "name": "stderr",
          "output_type": "stream",
          "text": [
            "100%|██████████| 49/49 [00:00<00:00, 212.21it/s]\n"
          ]
        },
        {
          "name": "stdout",
          "output_type": "stream",
          "text": [
            "Train Loss: 14.1558 | Train Acc - Gender: 0.958, Hand: 0.910, Years: 0.639, Level: 0.527\n",
            "out['gender'] shape: torch.Size([28])\n",
            "y_gender shape: torch.Size([28])\n",
            "y_gender unique values: tensor([0., 1.], device='cuda:0')\n",
            "pred_gender probs: 0.17072603106498718\n",
            "\n",
            "[Validation] Loss: 3.5580 | acc_gender: 0.893 | acc_hand: 0.762 | acc_years: 0.621 | acc_level: 0.402\n",
            "\n",
            "🟢[Epoch 43]\n"
          ]
        },
        {
          "name": "stderr",
          "output_type": "stream",
          "text": [
            "100%|██████████| 49/49 [00:00<00:00, 195.27it/s]\n"
          ]
        },
        {
          "name": "stdout",
          "output_type": "stream",
          "text": [
            "Train Loss: 13.1874 | Train Acc - Gender: 0.964, Hand: 0.914, Years: 0.642, Level: 0.523\n",
            "out['gender'] shape: torch.Size([28])\n",
            "y_gender shape: torch.Size([28])\n",
            "y_gender unique values: tensor([0., 1.], device='cuda:0')\n",
            "pred_gender probs: 0.3047836422920227\n",
            "\n",
            "[Validation] Loss: 3.5477 | acc_gender: 0.867 | acc_hand: 0.831 | acc_years: 0.624 | acc_level: 0.563\n",
            "\n",
            "🟢[Epoch 44]\n"
          ]
        },
        {
          "name": "stderr",
          "output_type": "stream",
          "text": [
            "100%|██████████| 49/49 [00:00<00:00, 209.95it/s]\n"
          ]
        },
        {
          "name": "stdout",
          "output_type": "stream",
          "text": [
            "Train Loss: 13.2243 | Train Acc - Gender: 0.960, Hand: 0.902, Years: 0.650, Level: 0.571\n",
            "out['gender'] shape: torch.Size([28])\n",
            "y_gender shape: torch.Size([28])\n",
            "y_gender unique values: tensor([0., 1.], device='cuda:0')\n",
            "pred_gender probs: 0.15104621648788452\n",
            "\n",
            "[Validation] Loss: 3.6201 | acc_gender: 0.826 | acc_hand: 0.803 | acc_years: 0.604 | acc_level: 0.575\n",
            "\n",
            "🟢[Epoch 45]\n"
          ]
        },
        {
          "name": "stderr",
          "output_type": "stream",
          "text": [
            "100%|██████████| 49/49 [00:00<00:00, 211.19it/s]\n"
          ]
        },
        {
          "name": "stdout",
          "output_type": "stream",
          "text": [
            "Train Loss: 13.3750 | Train Acc - Gender: 0.956, Hand: 0.907, Years: 0.640, Level: 0.596\n",
            "out['gender'] shape: torch.Size([28])\n",
            "y_gender shape: torch.Size([28])\n",
            "y_gender unique values: tensor([0., 1.], device='cuda:0')\n",
            "pred_gender probs: 0.22904205322265625\n",
            "\n",
            "[Validation] Loss: 3.4458 | acc_gender: 0.877 | acc_hand: 0.795 | acc_years: 0.596 | acc_level: 0.535\n",
            "\n",
            "🟢[Epoch 46]\n"
          ]
        },
        {
          "name": "stderr",
          "output_type": "stream",
          "text": [
            "100%|██████████| 49/49 [00:00<00:00, 178.28it/s]\n"
          ]
        },
        {
          "name": "stdout",
          "output_type": "stream",
          "text": [
            "Train Loss: 13.3216 | Train Acc - Gender: 0.965, Hand: 0.890, Years: 0.637, Level: 0.577\n",
            "out['gender'] shape: torch.Size([28])\n",
            "y_gender shape: torch.Size([28])\n",
            "y_gender unique values: tensor([0., 1.], device='cuda:0')\n",
            "pred_gender probs: 0.14623135328292847\n",
            "\n",
            "[Validation] Loss: 3.5650 | acc_gender: 0.895 | acc_hand: 0.841 | acc_years: 0.606 | acc_level: 0.568\n",
            "\n",
            "🟢[Epoch 47]\n"
          ]
        },
        {
          "name": "stderr",
          "output_type": "stream",
          "text": [
            "100%|██████████| 49/49 [00:00<00:00, 175.18it/s]\n"
          ]
        },
        {
          "name": "stdout",
          "output_type": "stream",
          "text": [
            "Train Loss: 13.0735 | Train Acc - Gender: 0.963, Hand: 0.902, Years: 0.652, Level: 0.604\n",
            "out['gender'] shape: torch.Size([28])\n",
            "y_gender shape: torch.Size([28])\n",
            "y_gender unique values: tensor([0., 1.], device='cuda:0')\n",
            "pred_gender probs: 0.12655684351921082\n",
            "\n",
            "[Validation] Loss: 3.7032 | acc_gender: 0.831 | acc_hand: 0.821 | acc_years: 0.609 | acc_level: 0.565\n",
            "\n",
            "🟢[Epoch 48]\n"
          ]
        },
        {
          "name": "stderr",
          "output_type": "stream",
          "text": [
            "100%|██████████| 49/49 [00:00<00:00, 220.20it/s]\n"
          ]
        },
        {
          "name": "stdout",
          "output_type": "stream",
          "text": [
            "Train Loss: 13.0616 | Train Acc - Gender: 0.965, Hand: 0.916, Years: 0.656, Level: 0.579\n",
            "out['gender'] shape: torch.Size([28])\n",
            "y_gender shape: torch.Size([28])\n",
            "y_gender unique values: tensor([0., 1.], device='cuda:0')\n",
            "pred_gender probs: 0.19357791543006897\n",
            "\n",
            "[Validation] Loss: 3.5908 | acc_gender: 0.844 | acc_hand: 0.826 | acc_years: 0.629 | acc_level: 0.471\n",
            "\n",
            "🟢[Epoch 49]\n"
          ]
        },
        {
          "name": "stderr",
          "output_type": "stream",
          "text": [
            "100%|██████████| 49/49 [00:00<00:00, 216.20it/s]\n"
          ]
        },
        {
          "name": "stdout",
          "output_type": "stream",
          "text": [
            "Train Loss: 13.7570 | Train Acc - Gender: 0.962, Hand: 0.899, Years: 0.640, Level: 0.577\n",
            "out['gender'] shape: torch.Size([28])\n",
            "y_gender shape: torch.Size([28])\n",
            "y_gender unique values: tensor([0., 1.], device='cuda:0')\n",
            "pred_gender probs: 0.20278456807136536\n",
            "\n",
            "[Validation] Loss: 3.6787 | acc_gender: 0.893 | acc_hand: 0.783 | acc_years: 0.596 | acc_level: 0.545\n",
            "\n",
            "🟢[Epoch 50]\n"
          ]
        },
        {
          "name": "stderr",
          "output_type": "stream",
          "text": [
            "100%|██████████| 49/49 [00:00<00:00, 207.22it/s]\n"
          ]
        },
        {
          "name": "stdout",
          "output_type": "stream",
          "text": [
            "Train Loss: 12.4430 | Train Acc - Gender: 0.963, Hand: 0.925, Years: 0.652, Level: 0.576\n",
            "out['gender'] shape: torch.Size([28])\n",
            "y_gender shape: torch.Size([28])\n",
            "y_gender unique values: tensor([0., 1.], device='cuda:0')\n",
            "pred_gender probs: 0.1761738657951355\n",
            "\n",
            "[Validation] Loss: 3.4281 | acc_gender: 0.895 | acc_hand: 0.798 | acc_years: 0.606 | acc_level: 0.581\n",
            "\n",
            "🟢[Epoch 51]\n"
          ]
        },
        {
          "name": "stderr",
          "output_type": "stream",
          "text": [
            "100%|██████████| 49/49 [00:00<00:00, 175.85it/s]\n"
          ]
        },
        {
          "name": "stdout",
          "output_type": "stream",
          "text": [
            "Train Loss: 12.3623 | Train Acc - Gender: 0.967, Hand: 0.925, Years: 0.657, Level: 0.564\n",
            "out['gender'] shape: torch.Size([28])\n",
            "y_gender shape: torch.Size([28])\n",
            "y_gender unique values: tensor([0., 1.], device='cuda:0')\n",
            "pred_gender probs: 0.26034480333328247\n",
            "\n",
            "[Validation] Loss: 3.5816 | acc_gender: 0.859 | acc_hand: 0.821 | acc_years: 0.601 | acc_level: 0.458\n",
            "\n",
            "🟢[Epoch 52]\n"
          ]
        },
        {
          "name": "stderr",
          "output_type": "stream",
          "text": [
            "100%|██████████| 49/49 [00:00<00:00, 212.14it/s]\n"
          ]
        },
        {
          "name": "stdout",
          "output_type": "stream",
          "text": [
            "Train Loss: 12.3101 | Train Acc - Gender: 0.971, Hand: 0.901, Years: 0.668, Level: 0.561\n",
            "out['gender'] shape: torch.Size([28])\n",
            "y_gender shape: torch.Size([28])\n",
            "y_gender unique values: tensor([0., 1.], device='cuda:0')\n",
            "pred_gender probs: 0.14468072354793549\n",
            "\n",
            "[Validation] Loss: 3.4583 | acc_gender: 0.905 | acc_hand: 0.811 | acc_years: 0.634 | acc_level: 0.417\n",
            "\n",
            "🟢[Epoch 53]\n"
          ]
        },
        {
          "name": "stderr",
          "output_type": "stream",
          "text": [
            "100%|██████████| 49/49 [00:00<00:00, 204.31it/s]\n"
          ]
        },
        {
          "name": "stdout",
          "output_type": "stream",
          "text": [
            "Train Loss: 11.5636 | Train Acc - Gender: 0.969, Hand: 0.920, Years: 0.646, Level: 0.505\n",
            "out['gender'] shape: torch.Size([28])\n",
            "y_gender shape: torch.Size([28])\n",
            "y_gender unique values: tensor([0., 1.], device='cuda:0')\n",
            "pred_gender probs: 0.14552073180675507\n",
            "\n",
            "[Validation] Loss: 3.6101 | acc_gender: 0.872 | acc_hand: 0.752 | acc_years: 0.604 | acc_level: 0.394\n",
            "\n",
            "🟢[Epoch 54]\n"
          ]
        },
        {
          "name": "stderr",
          "output_type": "stream",
          "text": [
            "100%|██████████| 49/49 [00:00<00:00, 175.16it/s]\n"
          ]
        },
        {
          "name": "stdout",
          "output_type": "stream",
          "text": [
            "Train Loss: 12.4497 | Train Acc - Gender: 0.965, Hand: 0.904, Years: 0.659, Level: 0.522\n",
            "out['gender'] shape: torch.Size([28])\n",
            "y_gender shape: torch.Size([28])\n",
            "y_gender unique values: tensor([0., 1.], device='cuda:0')\n",
            "pred_gender probs: 0.14260123670101166\n",
            "\n",
            "[Validation] Loss: 3.5251 | acc_gender: 0.875 | acc_hand: 0.831 | acc_years: 0.624 | acc_level: 0.455\n",
            "\n",
            "🟢[Epoch 55]\n"
          ]
        },
        {
          "name": "stderr",
          "output_type": "stream",
          "text": [
            "100%|██████████| 49/49 [00:00<00:00, 214.95it/s]\n"
          ]
        },
        {
          "name": "stdout",
          "output_type": "stream",
          "text": [
            "Train Loss: 11.8519 | Train Acc - Gender: 0.969, Hand: 0.914, Years: 0.658, Level: 0.499\n",
            "out['gender'] shape: torch.Size([28])\n",
            "y_gender shape: torch.Size([28])\n",
            "y_gender unique values: tensor([0., 1.], device='cuda:0')\n",
            "pred_gender probs: 0.14094442129135132\n",
            "\n",
            "[Validation] Loss: 3.8601 | acc_gender: 0.801 | acc_hand: 0.806 | acc_years: 0.609 | acc_level: 0.448\n",
            "\n",
            "🟢[Epoch 56]\n"
          ]
        },
        {
          "name": "stderr",
          "output_type": "stream",
          "text": [
            "100%|██████████| 49/49 [00:00<00:00, 214.27it/s]\n"
          ]
        },
        {
          "name": "stdout",
          "output_type": "stream",
          "text": [
            "Train Loss: 11.4499 | Train Acc - Gender: 0.967, Hand: 0.900, Years: 0.653, Level: 0.530\n",
            "out['gender'] shape: torch.Size([28])\n",
            "y_gender shape: torch.Size([28])\n",
            "y_gender unique values: tensor([0., 1.], device='cuda:0')\n",
            "pred_gender probs: 0.10921456664800644\n",
            "\n",
            "[Validation] Loss: 3.7001 | acc_gender: 0.887 | acc_hand: 0.824 | acc_years: 0.619 | acc_level: 0.450\n",
            "\n",
            "🟢[Epoch 57]\n"
          ]
        },
        {
          "name": "stderr",
          "output_type": "stream",
          "text": [
            "100%|██████████| 49/49 [00:00<00:00, 210.02it/s]\n"
          ]
        },
        {
          "name": "stdout",
          "output_type": "stream",
          "text": [
            "Train Loss: 12.2966 | Train Acc - Gender: 0.969, Hand: 0.890, Years: 0.670, Level: 0.539\n",
            "out['gender'] shape: torch.Size([28])\n",
            "y_gender shape: torch.Size([28])\n",
            "y_gender unique values: tensor([0., 1.], device='cuda:0')\n",
            "pred_gender probs: 0.1824926733970642\n",
            "\n",
            "[Validation] Loss: 3.8474 | acc_gender: 0.887 | acc_hand: 0.852 | acc_years: 0.593 | acc_level: 0.614\n",
            "\n",
            "🟢[Epoch 58]\n"
          ]
        },
        {
          "name": "stderr",
          "output_type": "stream",
          "text": [
            "100%|██████████| 49/49 [00:00<00:00, 196.51it/s]\n"
          ]
        },
        {
          "name": "stdout",
          "output_type": "stream",
          "text": [
            "Train Loss: 13.1261 | Train Acc - Gender: 0.960, Hand: 0.905, Years: 0.660, Level: 0.562\n",
            "out['gender'] shape: torch.Size([28])\n",
            "y_gender shape: torch.Size([28])\n",
            "y_gender unique values: tensor([0., 1.], device='cuda:0')\n",
            "pred_gender probs: 0.18722157180309296\n",
            "\n",
            "[Validation] Loss: 3.6627 | acc_gender: 0.887 | acc_hand: 0.852 | acc_years: 0.611 | acc_level: 0.614\n",
            "\n",
            "🟢[Epoch 59]\n"
          ]
        },
        {
          "name": "stderr",
          "output_type": "stream",
          "text": [
            "100%|██████████| 49/49 [00:00<00:00, 212.17it/s]\n"
          ]
        },
        {
          "name": "stdout",
          "output_type": "stream",
          "text": [
            "Train Loss: 12.3002 | Train Acc - Gender: 0.962, Hand: 0.915, Years: 0.645, Level: 0.498\n",
            "out['gender'] shape: torch.Size([28])\n",
            "y_gender shape: torch.Size([28])\n",
            "y_gender unique values: tensor([0., 1.], device='cuda:0')\n",
            "pred_gender probs: 0.22743214666843414\n",
            "\n",
            "[Validation] Loss: 3.7802 | acc_gender: 0.895 | acc_hand: 0.864 | acc_years: 0.598 | acc_level: 0.442\n",
            "\n",
            "🟢[Epoch 60]\n"
          ]
        },
        {
          "name": "stderr",
          "output_type": "stream",
          "text": [
            "100%|██████████| 49/49 [00:00<00:00, 133.96it/s]\n"
          ]
        },
        {
          "name": "stdout",
          "output_type": "stream",
          "text": [
            "Train Loss: 12.3368 | Train Acc - Gender: 0.962, Hand: 0.916, Years: 0.657, Level: 0.538\n",
            "out['gender'] shape: torch.Size([28])\n",
            "y_gender shape: torch.Size([28])\n",
            "y_gender unique values: tensor([0., 1.], device='cuda:0')\n",
            "pred_gender probs: 0.19183748960494995\n",
            "\n",
            "[Validation] Loss: 3.9573 | acc_gender: 0.834 | acc_hand: 0.849 | acc_years: 0.609 | acc_level: 0.583\n",
            "\n",
            "🟢[Epoch 61]\n"
          ]
        },
        {
          "name": "stderr",
          "output_type": "stream",
          "text": [
            "100%|██████████| 49/49 [00:00<00:00, 129.14it/s]\n"
          ]
        },
        {
          "name": "stdout",
          "output_type": "stream",
          "text": [
            "Train Loss: 10.6988 | Train Acc - Gender: 0.971, Hand: 0.914, Years: 0.653, Level: 0.582\n",
            "out['gender'] shape: torch.Size([28])\n",
            "y_gender shape: torch.Size([28])\n",
            "y_gender unique values: tensor([0., 1.], device='cuda:0')\n",
            "pred_gender probs: 0.18238840997219086\n",
            "\n",
            "[Validation] Loss: 3.7105 | acc_gender: 0.893 | acc_hand: 0.852 | acc_years: 0.619 | acc_level: 0.583\n",
            "\n",
            "🟢[Epoch 62]\n"
          ]
        },
        {
          "name": "stderr",
          "output_type": "stream",
          "text": [
            "100%|██████████| 49/49 [00:00<00:00, 167.95it/s]\n"
          ]
        },
        {
          "name": "stdout",
          "output_type": "stream",
          "text": [
            "Train Loss: 11.8313 | Train Acc - Gender: 0.967, Hand: 0.909, Years: 0.650, Level: 0.561\n",
            "out['gender'] shape: torch.Size([28])\n",
            "y_gender shape: torch.Size([28])\n",
            "y_gender unique values: tensor([0., 1.], device='cuda:0')\n",
            "pred_gender probs: 0.1401498019695282\n",
            "\n",
            "[Validation] Loss: 3.7629 | acc_gender: 0.864 | acc_hand: 0.841 | acc_years: 0.606 | acc_level: 0.624\n",
            "\n",
            "🟢[Epoch 63]\n"
          ]
        },
        {
          "name": "stderr",
          "output_type": "stream",
          "text": [
            "100%|██████████| 49/49 [00:00<00:00, 173.55it/s]\n"
          ]
        },
        {
          "name": "stdout",
          "output_type": "stream",
          "text": [
            "Train Loss: 10.6019 | Train Acc - Gender: 0.974, Hand: 0.916, Years: 0.650, Level: 0.556\n",
            "out['gender'] shape: torch.Size([28])\n",
            "y_gender shape: torch.Size([28])\n",
            "y_gender unique values: tensor([0., 1.], device='cuda:0')\n",
            "pred_gender probs: 0.23845833539962769\n",
            "\n",
            "[Validation] Loss: 3.7219 | acc_gender: 0.893 | acc_hand: 0.826 | acc_years: 0.604 | acc_level: 0.417\n",
            "\n",
            "🟢[Epoch 64]\n"
          ]
        },
        {
          "name": "stderr",
          "output_type": "stream",
          "text": [
            "100%|██████████| 49/49 [00:00<00:00, 151.54it/s]\n"
          ]
        },
        {
          "name": "stdout",
          "output_type": "stream",
          "text": [
            "Train Loss: 11.3768 | Train Acc - Gender: 0.962, Hand: 0.922, Years: 0.652, Level: 0.521\n",
            "out['gender'] shape: torch.Size([28])\n",
            "y_gender shape: torch.Size([28])\n",
            "y_gender unique values: tensor([0., 1.], device='cuda:0')\n",
            "pred_gender probs: 0.25590038299560547\n",
            "\n",
            "[Validation] Loss: 3.6593 | acc_gender: 0.872 | acc_hand: 0.852 | acc_years: 0.598 | acc_level: 0.504\n",
            "\n",
            "🟢[Epoch 65]\n"
          ]
        },
        {
          "name": "stderr",
          "output_type": "stream",
          "text": [
            "100%|██████████| 49/49 [00:00<00:00, 126.11it/s]\n"
          ]
        },
        {
          "name": "stdout",
          "output_type": "stream",
          "text": [
            "Train Loss: 10.7535 | Train Acc - Gender: 0.971, Hand: 0.925, Years: 0.662, Level: 0.596\n",
            "out['gender'] shape: torch.Size([28])\n",
            "y_gender shape: torch.Size([28])\n",
            "y_gender unique values: tensor([0., 1.], device='cuda:0')\n",
            "pred_gender probs: 0.16976779699325562\n",
            "\n",
            "[Validation] Loss: 3.8701 | acc_gender: 0.900 | acc_hand: 0.857 | acc_years: 0.593 | acc_level: 0.550\n",
            "\n",
            "🟢[Epoch 66]\n"
          ]
        },
        {
          "name": "stderr",
          "output_type": "stream",
          "text": [
            "100%|██████████| 49/49 [00:00<00:00, 212.17it/s]\n"
          ]
        },
        {
          "name": "stdout",
          "output_type": "stream",
          "text": [
            "Train Loss: 10.8061 | Train Acc - Gender: 0.972, Hand: 0.923, Years: 0.671, Level: 0.568\n",
            "out['gender'] shape: torch.Size([28])\n",
            "y_gender shape: torch.Size([28])\n",
            "y_gender unique values: tensor([0., 1.], device='cuda:0')\n",
            "pred_gender probs: 0.1487990915775299\n",
            "\n",
            "[Validation] Loss: 3.7744 | acc_gender: 0.895 | acc_hand: 0.844 | acc_years: 0.614 | acc_level: 0.478\n",
            "\n",
            "🟢[Epoch 67]\n"
          ]
        },
        {
          "name": "stderr",
          "output_type": "stream",
          "text": [
            "100%|██████████| 49/49 [00:00<00:00, 203.12it/s]\n"
          ]
        },
        {
          "name": "stdout",
          "output_type": "stream",
          "text": [
            "Train Loss: 11.6898 | Train Acc - Gender: 0.973, Hand: 0.921, Years: 0.659, Level: 0.547\n",
            "out['gender'] shape: torch.Size([28])\n",
            "y_gender shape: torch.Size([28])\n",
            "y_gender unique values: tensor([0., 1.], device='cuda:0')\n",
            "pred_gender probs: 0.1660253405570984\n",
            "\n",
            "[Validation] Loss: 3.7773 | acc_gender: 0.898 | acc_hand: 0.839 | acc_years: 0.614 | acc_level: 0.460\n",
            "\n",
            "🟢[Epoch 68]\n"
          ]
        },
        {
          "name": "stderr",
          "output_type": "stream",
          "text": [
            "100%|██████████| 49/49 [00:00<00:00, 211.76it/s]\n"
          ]
        },
        {
          "name": "stdout",
          "output_type": "stream",
          "text": [
            "Train Loss: 11.1633 | Train Acc - Gender: 0.967, Hand: 0.928, Years: 0.665, Level: 0.566\n",
            "out['gender'] shape: torch.Size([28])\n",
            "y_gender shape: torch.Size([28])\n",
            "y_gender unique values: tensor([0., 1.], device='cuda:0')\n",
            "pred_gender probs: 0.24318164587020874\n",
            "\n",
            "[Validation] Loss: 3.7512 | acc_gender: 0.895 | acc_hand: 0.839 | acc_years: 0.611 | acc_level: 0.555\n",
            "\n",
            "🟢[Epoch 69]\n"
          ]
        },
        {
          "name": "stderr",
          "output_type": "stream",
          "text": [
            "100%|██████████| 49/49 [00:00<00:00, 178.94it/s]\n"
          ]
        },
        {
          "name": "stdout",
          "output_type": "stream",
          "text": [
            "Train Loss: 10.9062 | Train Acc - Gender: 0.971, Hand: 0.925, Years: 0.661, Level: 0.607\n",
            "out['gender'] shape: torch.Size([28])\n",
            "y_gender shape: torch.Size([28])\n",
            "y_gender unique values: tensor([0., 1.], device='cuda:0')\n",
            "pred_gender probs: 0.16443192958831787\n",
            "\n",
            "[Validation] Loss: 3.7105 | acc_gender: 0.890 | acc_hand: 0.836 | acc_years: 0.611 | acc_level: 0.578\n",
            "\n",
            "🟢[Epoch 70]\n"
          ]
        },
        {
          "name": "stderr",
          "output_type": "stream",
          "text": [
            "100%|██████████| 49/49 [00:00<00:00, 182.07it/s]\n"
          ]
        },
        {
          "name": "stdout",
          "output_type": "stream",
          "text": [
            "Train Loss: 10.3955 | Train Acc - Gender: 0.966, Hand: 0.910, Years: 0.666, Level: 0.614\n",
            "out['gender'] shape: torch.Size([28])\n",
            "y_gender shape: torch.Size([28])\n",
            "y_gender unique values: tensor([0., 1.], device='cuda:0')\n",
            "pred_gender probs: 0.19105738401412964\n",
            "\n",
            "[Validation] Loss: 3.6105 | acc_gender: 0.890 | acc_hand: 0.831 | acc_years: 0.611 | acc_level: 0.568\n",
            "\n",
            "🟢[Epoch 71]\n"
          ]
        },
        {
          "name": "stderr",
          "output_type": "stream",
          "text": [
            "100%|██████████| 49/49 [00:00<00:00, 204.73it/s]\n"
          ]
        },
        {
          "name": "stdout",
          "output_type": "stream",
          "text": [
            "Train Loss: 10.3794 | Train Acc - Gender: 0.972, Hand: 0.925, Years: 0.666, Level: 0.574\n",
            "out['gender'] shape: torch.Size([28])\n",
            "y_gender shape: torch.Size([28])\n",
            "y_gender unique values: tensor([0., 1.], device='cuda:0')\n",
            "pred_gender probs: 0.2666774392127991\n",
            "\n",
            "[Validation] Loss: 3.8123 | acc_gender: 0.885 | acc_hand: 0.808 | acc_years: 0.621 | acc_level: 0.604\n",
            "\n",
            "🟢[Epoch 72]\n"
          ]
        },
        {
          "name": "stderr",
          "output_type": "stream",
          "text": [
            "100%|██████████| 49/49 [00:00<00:00, 211.05it/s]\n"
          ]
        },
        {
          "name": "stdout",
          "output_type": "stream",
          "text": [
            "Train Loss: 10.5307 | Train Acc - Gender: 0.971, Hand: 0.922, Years: 0.660, Level: 0.563\n",
            "out['gender'] shape: torch.Size([28])\n",
            "y_gender shape: torch.Size([28])\n",
            "y_gender unique values: tensor([0., 1.], device='cuda:0')\n",
            "pred_gender probs: 0.3361719250679016\n",
            "\n",
            "[Validation] Loss: 3.5924 | acc_gender: 0.880 | acc_hand: 0.847 | acc_years: 0.601 | acc_level: 0.601\n",
            "\n",
            "🟢[Epoch 73]\n"
          ]
        },
        {
          "name": "stderr",
          "output_type": "stream",
          "text": [
            "100%|██████████| 49/49 [00:00<00:00, 211.28it/s]\n"
          ]
        },
        {
          "name": "stdout",
          "output_type": "stream",
          "text": [
            "Train Loss: 10.3253 | Train Acc - Gender: 0.970, Hand: 0.934, Years: 0.669, Level: 0.561\n",
            "out['gender'] shape: torch.Size([28])\n",
            "y_gender shape: torch.Size([28])\n",
            "y_gender unique values: tensor([0., 1.], device='cuda:0')\n",
            "pred_gender probs: 0.21851135790348053\n",
            "\n",
            "[Validation] Loss: 3.9407 | acc_gender: 0.908 | acc_hand: 0.849 | acc_years: 0.596 | acc_level: 0.417\n",
            "\n",
            "🟢[Epoch 74]\n"
          ]
        },
        {
          "name": "stderr",
          "output_type": "stream",
          "text": [
            "100%|██████████| 49/49 [00:00<00:00, 209.16it/s]\n"
          ]
        },
        {
          "name": "stdout",
          "output_type": "stream",
          "text": [
            "Train Loss: 10.0432 | Train Acc - Gender: 0.974, Hand: 0.927, Years: 0.659, Level: 0.500\n",
            "out['gender'] shape: torch.Size([28])\n",
            "y_gender shape: torch.Size([28])\n",
            "y_gender unique values: tensor([0., 1.], device='cuda:0')\n",
            "pred_gender probs: 0.11347697675228119\n",
            "\n",
            "[Validation] Loss: 3.6631 | acc_gender: 0.893 | acc_hand: 0.821 | acc_years: 0.611 | acc_level: 0.440\n",
            "\n",
            "🟢[Epoch 75]\n"
          ]
        },
        {
          "name": "stderr",
          "output_type": "stream",
          "text": [
            "100%|██████████| 49/49 [00:00<00:00, 198.40it/s]\n"
          ]
        },
        {
          "name": "stdout",
          "output_type": "stream",
          "text": [
            "Train Loss: 10.6040 | Train Acc - Gender: 0.971, Hand: 0.926, Years: 0.658, Level: 0.501\n",
            "out['gender'] shape: torch.Size([28])\n",
            "y_gender shape: torch.Size([28])\n",
            "y_gender unique values: tensor([0., 1.], device='cuda:0')\n",
            "pred_gender probs: 0.21740584075450897\n",
            "\n",
            "[Validation] Loss: 3.6984 | acc_gender: 0.887 | acc_hand: 0.821 | acc_years: 0.606 | acc_level: 0.427\n",
            "\n",
            "🟢[Epoch 76]\n"
          ]
        },
        {
          "name": "stderr",
          "output_type": "stream",
          "text": [
            "100%|██████████| 49/49 [00:00<00:00, 182.72it/s]\n"
          ]
        },
        {
          "name": "stdout",
          "output_type": "stream",
          "text": [
            "Train Loss: 10.1987 | Train Acc - Gender: 0.973, Hand: 0.935, Years: 0.664, Level: 0.545\n",
            "out['gender'] shape: torch.Size([28])\n",
            "y_gender shape: torch.Size([28])\n",
            "y_gender unique values: tensor([0., 1.], device='cuda:0')\n",
            "pred_gender probs: 0.1311250776052475\n",
            "\n",
            "[Validation] Loss: 3.8686 | acc_gender: 0.872 | acc_hand: 0.831 | acc_years: 0.596 | acc_level: 0.591\n",
            "\n",
            "🟢[Epoch 77]\n"
          ]
        },
        {
          "name": "stderr",
          "output_type": "stream",
          "text": [
            "100%|██████████| 49/49 [00:00<00:00, 181.26it/s]\n"
          ]
        },
        {
          "name": "stdout",
          "output_type": "stream",
          "text": [
            "Train Loss: 9.9264 | Train Acc - Gender: 0.973, Hand: 0.919, Years: 0.660, Level: 0.567\n",
            "out['gender'] shape: torch.Size([28])\n",
            "y_gender shape: torch.Size([28])\n",
            "y_gender unique values: tensor([0., 1.], device='cuda:0')\n",
            "pred_gender probs: 0.23096640408039093\n",
            "\n",
            "[Validation] Loss: 3.5184 | acc_gender: 0.900 | acc_hand: 0.777 | acc_years: 0.642 | acc_level: 0.430\n",
            "\n",
            "🟢[Epoch 78]\n"
          ]
        },
        {
          "name": "stderr",
          "output_type": "stream",
          "text": [
            "100%|██████████| 49/49 [00:00<00:00, 205.84it/s]\n"
          ]
        },
        {
          "name": "stdout",
          "output_type": "stream",
          "text": [
            "Train Loss: 11.0932 | Train Acc - Gender: 0.966, Hand: 0.925, Years: 0.670, Level: 0.584\n",
            "out['gender'] shape: torch.Size([28])\n",
            "y_gender shape: torch.Size([28])\n",
            "y_gender unique values: tensor([0., 1.], device='cuda:0')\n",
            "pred_gender probs: 0.17872317135334015\n",
            "\n",
            "[Validation] Loss: 3.7248 | acc_gender: 0.880 | acc_hand: 0.816 | acc_years: 0.614 | acc_level: 0.611\n",
            "\n",
            "🟢[Epoch 79]\n"
          ]
        },
        {
          "name": "stderr",
          "output_type": "stream",
          "text": [
            "100%|██████████| 49/49 [00:00<00:00, 198.37it/s]\n"
          ]
        },
        {
          "name": "stdout",
          "output_type": "stream",
          "text": [
            "Train Loss: 9.9123 | Train Acc - Gender: 0.971, Hand: 0.926, Years: 0.658, Level: 0.575\n",
            "out['gender'] shape: torch.Size([28])\n",
            "y_gender shape: torch.Size([28])\n",
            "y_gender unique values: tensor([0., 1.], device='cuda:0')\n",
            "pred_gender probs: 0.11805367469787598\n",
            "\n",
            "[Validation] Loss: 3.8505 | acc_gender: 0.900 | acc_hand: 0.775 | acc_years: 0.645 | acc_level: 0.442\n",
            "\n",
            "🟢[Epoch 80]\n"
          ]
        },
        {
          "name": "stderr",
          "output_type": "stream",
          "text": [
            "100%|██████████| 49/49 [00:00<00:00, 181.63it/s]\n"
          ]
        },
        {
          "name": "stdout",
          "output_type": "stream",
          "text": [
            "Train Loss: 9.3452 | Train Acc - Gender: 0.977, Hand: 0.923, Years: 0.653, Level: 0.552\n",
            "out['gender'] shape: torch.Size([28])\n",
            "y_gender shape: torch.Size([28])\n",
            "y_gender unique values: tensor([0., 1.], device='cuda:0')\n",
            "pred_gender probs: 0.3212810754776001\n",
            "\n",
            "[Validation] Loss: 3.6263 | acc_gender: 0.882 | acc_hand: 0.798 | acc_years: 0.639 | acc_level: 0.414\n",
            "\n",
            "🟢[Epoch 81]\n"
          ]
        },
        {
          "name": "stderr",
          "output_type": "stream",
          "text": [
            "100%|██████████| 49/49 [00:00<00:00, 209.29it/s]\n"
          ]
        },
        {
          "name": "stdout",
          "output_type": "stream",
          "text": [
            "Train Loss: 10.1202 | Train Acc - Gender: 0.974, Hand: 0.934, Years: 0.673, Level: 0.544\n",
            "out['gender'] shape: torch.Size([28])\n",
            "y_gender shape: torch.Size([28])\n",
            "y_gender unique values: tensor([0., 1.], device='cuda:0')\n",
            "pred_gender probs: 0.16990059614181519\n",
            "\n",
            "[Validation] Loss: 3.9029 | acc_gender: 0.826 | acc_hand: 0.818 | acc_years: 0.614 | acc_level: 0.442\n",
            "\n",
            "🟢[Epoch 82]\n"
          ]
        },
        {
          "name": "stderr",
          "output_type": "stream",
          "text": [
            "100%|██████████| 49/49 [00:00<00:00, 200.96it/s]\n"
          ]
        },
        {
          "name": "stdout",
          "output_type": "stream",
          "text": [
            "Train Loss: 9.8754 | Train Acc - Gender: 0.975, Hand: 0.921, Years: 0.664, Level: 0.549\n",
            "out['gender'] shape: torch.Size([28])\n",
            "y_gender shape: torch.Size([28])\n",
            "y_gender unique values: tensor([0., 1.], device='cuda:0')\n",
            "pred_gender probs: 0.09162836521863937\n",
            "\n",
            "[Validation] Loss: 3.7626 | acc_gender: 0.880 | acc_hand: 0.839 | acc_years: 0.596 | acc_level: 0.445\n",
            "\n",
            "🟢[Epoch 83]\n"
          ]
        },
        {
          "name": "stderr",
          "output_type": "stream",
          "text": [
            "100%|██████████| 49/49 [00:00<00:00, 210.27it/s]\n"
          ]
        },
        {
          "name": "stdout",
          "output_type": "stream",
          "text": [
            "Train Loss: 9.4423 | Train Acc - Gender: 0.974, Hand: 0.916, Years: 0.668, Level: 0.554\n",
            "out['gender'] shape: torch.Size([28])\n",
            "y_gender shape: torch.Size([28])\n",
            "y_gender unique values: tensor([0., 1.], device='cuda:0')\n",
            "pred_gender probs: 0.13542817533016205\n",
            "\n",
            "[Validation] Loss: 3.6487 | acc_gender: 0.882 | acc_hand: 0.777 | acc_years: 0.619 | acc_level: 0.445\n",
            "\n",
            "🟢[Epoch 84]\n"
          ]
        },
        {
          "name": "stderr",
          "output_type": "stream",
          "text": [
            "100%|██████████| 49/49 [00:00<00:00, 206.87it/s]\n"
          ]
        },
        {
          "name": "stdout",
          "output_type": "stream",
          "text": [
            "Train Loss: 9.8202 | Train Acc - Gender: 0.974, Hand: 0.932, Years: 0.669, Level: 0.549\n",
            "out['gender'] shape: torch.Size([28])\n",
            "y_gender shape: torch.Size([28])\n",
            "y_gender unique values: tensor([0., 1.], device='cuda:0')\n",
            "pred_gender probs: 0.15978941321372986\n",
            "\n",
            "[Validation] Loss: 3.9353 | acc_gender: 0.887 | acc_hand: 0.813 | acc_years: 0.621 | acc_level: 0.458\n",
            "\n",
            "🟢[Epoch 85]\n"
          ]
        },
        {
          "name": "stderr",
          "output_type": "stream",
          "text": [
            "100%|██████████| 49/49 [00:00<00:00, 210.79it/s]\n"
          ]
        },
        {
          "name": "stdout",
          "output_type": "stream",
          "text": [
            "Train Loss: 10.5579 | Train Acc - Gender: 0.973, Hand: 0.926, Years: 0.665, Level: 0.574\n",
            "out['gender'] shape: torch.Size([28])\n",
            "y_gender shape: torch.Size([28])\n",
            "y_gender unique values: tensor([0., 1.], device='cuda:0')\n",
            "pred_gender probs: 0.1555711328983307\n",
            "\n",
            "[Validation] Loss: 3.7734 | acc_gender: 0.900 | acc_hand: 0.836 | acc_years: 0.621 | acc_level: 0.606\n",
            "\n",
            "🟢[Epoch 86]\n"
          ]
        },
        {
          "name": "stderr",
          "output_type": "stream",
          "text": [
            "100%|██████████| 49/49 [00:00<00:00, 173.57it/s]\n"
          ]
        },
        {
          "name": "stdout",
          "output_type": "stream",
          "text": [
            "Train Loss: 9.3828 | Train Acc - Gender: 0.976, Hand: 0.935, Years: 0.673, Level: 0.595\n",
            "out['gender'] shape: torch.Size([28])\n",
            "y_gender shape: torch.Size([28])\n",
            "y_gender unique values: tensor([0., 1.], device='cuda:0')\n",
            "pred_gender probs: 0.18276844918727875\n",
            "\n",
            "[Validation] Loss: 3.8514 | acc_gender: 0.880 | acc_hand: 0.852 | acc_years: 0.609 | acc_level: 0.583\n",
            "\n",
            "🟢[Epoch 87]\n"
          ]
        },
        {
          "name": "stderr",
          "output_type": "stream",
          "text": [
            "100%|██████████| 49/49 [00:00<00:00, 208.73it/s]\n"
          ]
        },
        {
          "name": "stdout",
          "output_type": "stream",
          "text": [
            "Train Loss: 9.5216 | Train Acc - Gender: 0.973, Hand: 0.926, Years: 0.670, Level: 0.579\n",
            "out['gender'] shape: torch.Size([28])\n",
            "y_gender shape: torch.Size([28])\n",
            "y_gender unique values: tensor([0., 1.], device='cuda:0')\n",
            "pred_gender probs: 0.24599909782409668\n",
            "\n",
            "[Validation] Loss: 4.1618 | acc_gender: 0.887 | acc_hand: 0.847 | acc_years: 0.601 | acc_level: 0.619\n",
            "\n",
            "🟢[Epoch 88]\n"
          ]
        },
        {
          "name": "stderr",
          "output_type": "stream",
          "text": [
            "100%|██████████| 49/49 [00:00<00:00, 182.05it/s]\n"
          ]
        },
        {
          "name": "stdout",
          "output_type": "stream",
          "text": [
            "Train Loss: 9.6675 | Train Acc - Gender: 0.974, Hand: 0.930, Years: 0.674, Level: 0.595\n",
            "out['gender'] shape: torch.Size([28])\n",
            "y_gender shape: torch.Size([28])\n",
            "y_gender unique values: tensor([0., 1.], device='cuda:0')\n",
            "pred_gender probs: 0.157565638422966\n",
            "\n",
            "[Validation] Loss: 3.6977 | acc_gender: 0.887 | acc_hand: 0.803 | acc_years: 0.601 | acc_level: 0.586\n",
            "\n",
            "🟢[Epoch 89]\n"
          ]
        },
        {
          "name": "stderr",
          "output_type": "stream",
          "text": [
            "100%|██████████| 49/49 [00:00<00:00, 201.19it/s]\n"
          ]
        },
        {
          "name": "stdout",
          "output_type": "stream",
          "text": [
            "Train Loss: 10.2912 | Train Acc - Gender: 0.975, Hand: 0.923, Years: 0.662, Level: 0.581\n",
            "out['gender'] shape: torch.Size([28])\n",
            "y_gender shape: torch.Size([28])\n",
            "y_gender unique values: tensor([0., 1.], device='cuda:0')\n",
            "pred_gender probs: 0.2161477506160736\n",
            "\n",
            "[Validation] Loss: 3.6238 | acc_gender: 0.893 | acc_hand: 0.844 | acc_years: 0.627 | acc_level: 0.448\n",
            "\n",
            "🟢[Epoch 90]\n"
          ]
        },
        {
          "name": "stderr",
          "output_type": "stream",
          "text": [
            "100%|██████████| 49/49 [00:00<00:00, 201.74it/s]\n"
          ]
        },
        {
          "name": "stdout",
          "output_type": "stream",
          "text": [
            "Train Loss: 8.8332 | Train Acc - Gender: 0.974, Hand: 0.937, Years: 0.655, Level: 0.561\n",
            "out['gender'] shape: torch.Size([28])\n",
            "y_gender shape: torch.Size([28])\n",
            "y_gender unique values: tensor([0., 1.], device='cuda:0')\n",
            "pred_gender probs: 0.1876010298728943\n",
            "\n",
            "[Validation] Loss: 3.8435 | acc_gender: 0.887 | acc_hand: 0.813 | acc_years: 0.619 | acc_level: 0.455\n",
            "\n",
            "🟢[Epoch 91]\n"
          ]
        },
        {
          "name": "stderr",
          "output_type": "stream",
          "text": [
            "100%|██████████| 49/49 [00:00<00:00, 203.16it/s]\n"
          ]
        },
        {
          "name": "stdout",
          "output_type": "stream",
          "text": [
            "Train Loss: 10.3544 | Train Acc - Gender: 0.976, Hand: 0.932, Years: 0.664, Level: 0.588\n",
            "out['gender'] shape: torch.Size([28])\n",
            "y_gender shape: torch.Size([28])\n",
            "y_gender unique values: tensor([0., 1.], device='cuda:0')\n",
            "pred_gender probs: 0.1271044909954071\n",
            "\n",
            "[Validation] Loss: 3.5741 | acc_gender: 0.903 | acc_hand: 0.829 | acc_years: 0.616 | acc_level: 0.593\n",
            "\n",
            "🟢[Epoch 92]\n"
          ]
        },
        {
          "name": "stderr",
          "output_type": "stream",
          "text": [
            "100%|██████████| 49/49 [00:00<00:00, 208.10it/s]\n"
          ]
        },
        {
          "name": "stdout",
          "output_type": "stream",
          "text": [
            "Train Loss: 8.2810 | Train Acc - Gender: 0.980, Hand: 0.933, Years: 0.676, Level: 0.572\n",
            "out['gender'] shape: torch.Size([28])\n",
            "y_gender shape: torch.Size([28])\n",
            "y_gender unique values: tensor([0., 1.], device='cuda:0')\n",
            "pred_gender probs: 0.16008813679218292\n",
            "\n",
            "[Validation] Loss: 3.9116 | acc_gender: 0.854 | acc_hand: 0.857 | acc_years: 0.616 | acc_level: 0.465\n",
            "\n",
            "🟢[Epoch 93]\n"
          ]
        },
        {
          "name": "stderr",
          "output_type": "stream",
          "text": [
            "100%|██████████| 49/49 [00:00<00:00, 172.14it/s]\n"
          ]
        },
        {
          "name": "stdout",
          "output_type": "stream",
          "text": [
            "Train Loss: 9.5455 | Train Acc - Gender: 0.974, Hand: 0.929, Years: 0.661, Level: 0.563\n",
            "out['gender'] shape: torch.Size([28])\n",
            "y_gender shape: torch.Size([28])\n",
            "y_gender unique values: tensor([0., 1.], device='cuda:0')\n",
            "pred_gender probs: 0.23307456076145172\n",
            "\n",
            "[Validation] Loss: 3.7028 | acc_gender: 0.900 | acc_hand: 0.806 | acc_years: 0.591 | acc_level: 0.527\n",
            "\n",
            "🟢[Epoch 94]\n"
          ]
        },
        {
          "name": "stderr",
          "output_type": "stream",
          "text": [
            "100%|██████████| 49/49 [00:00<00:00, 210.69it/s]\n"
          ]
        },
        {
          "name": "stdout",
          "output_type": "stream",
          "text": [
            "Train Loss: 9.2057 | Train Acc - Gender: 0.975, Hand: 0.934, Years: 0.653, Level: 0.562\n",
            "out['gender'] shape: torch.Size([28])\n",
            "y_gender shape: torch.Size([28])\n",
            "y_gender unique values: tensor([0., 1.], device='cuda:0')\n",
            "pred_gender probs: 0.12318727374076843\n",
            "\n",
            "[Validation] Loss: 4.6532 | acc_gender: 0.880 | acc_hand: 0.826 | acc_years: 0.583 | acc_level: 0.547\n",
            "\n",
            "🟢[Epoch 95]\n"
          ]
        },
        {
          "name": "stderr",
          "output_type": "stream",
          "text": [
            "100%|██████████| 49/49 [00:00<00:00, 212.80it/s]\n"
          ]
        },
        {
          "name": "stdout",
          "output_type": "stream",
          "text": [
            "Train Loss: 10.1578 | Train Acc - Gender: 0.976, Hand: 0.935, Years: 0.674, Level: 0.602\n",
            "out['gender'] shape: torch.Size([28])\n",
            "y_gender shape: torch.Size([28])\n",
            "y_gender unique values: tensor([0., 1.], device='cuda:0')\n",
            "pred_gender probs: 0.22216208279132843\n",
            "\n",
            "[Validation] Loss: 3.7256 | acc_gender: 0.857 | acc_hand: 0.798 | acc_years: 0.609 | acc_level: 0.619\n",
            "\n",
            "🟢[Epoch 96]\n"
          ]
        },
        {
          "name": "stderr",
          "output_type": "stream",
          "text": [
            "100%|██████████| 49/49 [00:00<00:00, 215.64it/s]\n"
          ]
        },
        {
          "name": "stdout",
          "output_type": "stream",
          "text": [
            "Train Loss: 8.9233 | Train Acc - Gender: 0.976, Hand: 0.939, Years: 0.675, Level: 0.609\n",
            "out['gender'] shape: torch.Size([28])\n",
            "y_gender shape: torch.Size([28])\n",
            "y_gender unique values: tensor([0., 1.], device='cuda:0')\n",
            "pred_gender probs: 0.12728609144687653\n",
            "\n",
            "[Validation] Loss: 3.6900 | acc_gender: 0.898 | acc_hand: 0.844 | acc_years: 0.619 | acc_level: 0.588\n",
            "\n",
            "🟢[Epoch 97]\n"
          ]
        },
        {
          "name": "stderr",
          "output_type": "stream",
          "text": [
            "100%|██████████| 49/49 [00:00<00:00, 181.53it/s]\n"
          ]
        },
        {
          "name": "stdout",
          "output_type": "stream",
          "text": [
            "Train Loss: 9.4825 | Train Acc - Gender: 0.978, Hand: 0.932, Years: 0.663, Level: 0.570\n",
            "out['gender'] shape: torch.Size([28])\n",
            "y_gender shape: torch.Size([28])\n",
            "y_gender unique values: tensor([0., 1.], device='cuda:0')\n",
            "pred_gender probs: 0.19110268354415894\n",
            "\n",
            "[Validation] Loss: 3.7135 | acc_gender: 0.903 | acc_hand: 0.831 | acc_years: 0.639 | acc_level: 0.601\n",
            "\n",
            "🟢[Epoch 98]\n"
          ]
        },
        {
          "name": "stderr",
          "output_type": "stream",
          "text": [
            "100%|██████████| 49/49 [00:00<00:00, 211.74it/s]\n"
          ]
        },
        {
          "name": "stdout",
          "output_type": "stream",
          "text": [
            "Train Loss: 9.3216 | Train Acc - Gender: 0.971, Hand: 0.918, Years: 0.685, Level: 0.550\n",
            "out['gender'] shape: torch.Size([28])\n",
            "y_gender shape: torch.Size([28])\n",
            "y_gender unique values: tensor([0., 1.], device='cuda:0')\n",
            "pred_gender probs: 0.23266854882240295\n",
            "\n",
            "[Validation] Loss: 3.7866 | acc_gender: 0.875 | acc_hand: 0.806 | acc_years: 0.637 | acc_level: 0.409\n",
            "\n",
            "🟢[Epoch 99]\n"
          ]
        },
        {
          "name": "stderr",
          "output_type": "stream",
          "text": [
            "100%|██████████| 49/49 [00:00<00:00, 211.30it/s]\n"
          ]
        },
        {
          "name": "stdout",
          "output_type": "stream",
          "text": [
            "Train Loss: 9.2319 | Train Acc - Gender: 0.976, Hand: 0.943, Years: 0.663, Level: 0.551\n",
            "out['gender'] shape: torch.Size([28])\n",
            "y_gender shape: torch.Size([28])\n",
            "y_gender unique values: tensor([0., 1.], device='cuda:0')\n",
            "pred_gender probs: 0.09351038187742233\n",
            "\n",
            "[Validation] Loss: 3.6246 | acc_gender: 0.890 | acc_hand: 0.816 | acc_years: 0.614 | acc_level: 0.412\n",
            "\n",
            "🟢[Epoch 100]\n"
          ]
        },
        {
          "name": "stderr",
          "output_type": "stream",
          "text": [
            "100%|██████████| 49/49 [00:00<00:00, 175.57it/s]\n"
          ]
        },
        {
          "name": "stdout",
          "output_type": "stream",
          "text": [
            "Train Loss: 9.1050 | Train Acc - Gender: 0.980, Hand: 0.935, Years: 0.665, Level: 0.571\n",
            "out['gender'] shape: torch.Size([28])\n",
            "y_gender shape: torch.Size([28])\n",
            "y_gender unique values: tensor([0., 1.], device='cuda:0')\n",
            "pred_gender probs: 0.22650852799415588\n",
            "\n",
            "[Validation] Loss: 3.7276 | acc_gender: 0.895 | acc_hand: 0.783 | acc_years: 0.629 | acc_level: 0.407\n"
          ]
        }
      ],
      "source": [
        "# 使用 GPU 優先\n",
        "device = torch.device(\"cuda\" if torch.cuda.is_available() else \"cpu\")\n",
        "# 載入模型\n",
        "model = TableTennisMLP().to(device)\n",
        "# 優化器\n",
        "optimizer = optim.Adam(model.parameters(), lr=1e-4)\n",
        "\n",
        "loss_gender.to(device)\n",
        "loss_hand.to(device)\n",
        "loss_years.to(device)\n",
        "loss_level.to(device)\n",
        "# 準備資料集與 DataLoader\n",
        "train_dataset = TableTennisDataset(X_train, y_gender_train, y_hand_train, y_years_train, y_level_train)\n",
        "val_dataset = TableTennisDataset(X_val, y_gender_val, y_hand_val, y_years_val, y_level_val)\n",
        "\n",
        "train_loader = DataLoader(train_dataset, batch_size=32, shuffle=True)\n",
        "val_loader = DataLoader(val_dataset, batch_size=32, shuffle=False)\n",
        "\n",
        "EPOCH = 100\n",
        "for epoch in range(EPOCH + 1):\n",
        "    print(f\"\\n🟢[Epoch {epoch}]\")\n",
        "    train_loss = train(model, train_loader, optimizer, device)\n",
        "    val_loss = evaluate(model, val_loader, device)"
      ]
    },
    {
      "cell_type": "markdown",
      "id": "ca24d696",
      "metadata": {
        "id": "ca24d696"
      },
      "source": [
        "## 儲存模型"
      ]
    },
    {
      "cell_type": "code",
      "execution_count": 78,
      "id": "4f648120",
      "metadata": {
        "id": "4f648120"
      },
      "outputs": [],
      "source": [
        "torch.save(model.state_dict(), 'modelWeight042400.pth')"
      ]
    },
    {
      "cell_type": "markdown",
      "id": "9b03d23f",
      "metadata": {
        "id": "9b03d23f"
      },
      "source": [
        "## 測資"
      ]
    },
    {
      "cell_type": "code",
      "execution_count": 79,
      "id": "070a177f",
      "metadata": {
        "id": "070a177f"
      },
      "outputs": [],
      "source": [
        "# 1. 讀取前處理後的測試特徵資料\n",
        "def load_test_features(test_csv_path=\"test_features.csv\"):\n",
        "    df = pd.read_csv(test_csv_path)\n",
        "    uids = df[\"unique_id\"].tolist()\n",
        "    X = df.drop(columns=[\"unique_id\"]).values\n",
        "    return uids, torch.tensor(X, dtype=torch.float32)"
      ]
    },
    {
      "cell_type": "code",
      "execution_count": 80,
      "id": "b5540113",
      "metadata": {
        "id": "b5540113"
      },
      "outputs": [],
      "source": [
        "# 2. 預測函式（針對特徵輸入設計）\n",
        "def predict_from_features(model, X_test_tensor, device):\n",
        "    model.eval()\n",
        "    preds = []\n",
        "\n",
        "    with torch.no_grad():\n",
        "        for x in tqdm(X_test_tensor):\n",
        "            x = x.unsqueeze(0).to(device)  # 加 batch 維度\n",
        "            out = model(x)\n",
        "\n",
        "            gender_logit = out['gender']\n",
        "            hand_logit = out['hand']\n",
        "            years_logits = out['years']\n",
        "            level_logits = out['level']\n",
        "\n",
        "            gender = torch.sigmoid(gender_logit).item()\n",
        "            hand = torch.sigmoid(hand_logit).item()\n",
        "\n",
        "            years = torch.softmax(years_logits, dim=1).squeeze(0).cpu().numpy()\n",
        "            level = torch.softmax(level_logits, dim=1).squeeze(0).cpu().numpy()\n",
        "\n",
        "            preds.append([gender, hand] + years.tolist() + level.tolist())\n",
        "\n",
        "    return preds"
      ]
    },
    {
      "cell_type": "code",
      "execution_count": 81,
      "id": "9059a52a",
      "metadata": {
        "id": "9059a52a"
      },
      "outputs": [],
      "source": [
        "# 3. 建立提交檔案\n",
        "from decimal import Decimal, ROUND_HALF_UP\n",
        "def create_submission(uids, preds, save_path='submission.csv'):\n",
        "    def format_float(val):\n",
        "        return str(Decimal(val).quantize(Decimal('0.000001'), rounding=ROUND_HALF_UP))\n",
        "\n",
        "    df = pd.DataFrame(preds, columns=[\n",
        "        'gender', 'hold racket handed',\n",
        "        'play years_0', 'play years_1', 'play years_2',\n",
        "        'level_2', 'level_3', 'level_4', 'level_5'\n",
        "    ])\n",
        "    df.insert(0, 'unique_id', uids)\n",
        "\n",
        "    # ✅ 在這裡加入 NaN 補值：用每欄平均值填補\n",
        "    df.fillna(df.mean(numeric_only=True), inplace=True)\n",
        "\n",
        "    # 格式化小數位\n",
        "    for col in df.columns[1:]:\n",
        "        df[col] = df[col].apply(format_float)\n",
        "\n",
        "    # 儲存 CSV\n",
        "    with open(save_path, \"w\", encoding=\"utf-8\", newline='\\n') as f:\n",
        "        df.to_csv(f, index=False)\n",
        "    print(f\"✔️ Submission saved to {save_path}\")\n"
      ]
    },
    {
      "cell_type": "code",
      "execution_count": 82,
      "id": "e78720ec",
      "metadata": {
        "colab": {
          "base_uri": "https://localhost:8080/"
        },
        "id": "e78720ec",
        "outputId": "806e42d1-c27a-4d7e-b0e7-2d86852b80df"
      },
      "outputs": [
        {
          "name": "stderr",
          "output_type": "stream",
          "text": [
            "100%|██████████| 1430/1430 [00:01<00:00, 1071.67it/s]"
          ]
        },
        {
          "name": "stdout",
          "output_type": "stream",
          "text": [
            "✔️ Submission saved to submission2.csv\n"
          ]
        },
        {
          "name": "stderr",
          "output_type": "stream",
          "text": [
            "\n"
          ]
        }
      ],
      "source": [
        "# 1. 載入 test data\n",
        "TEST_FEATURES = \"/content/test_features.csv\"\n",
        "\n",
        "uids, X_test_tensor = load_test_features(TEST_FEATURES)\n",
        "model = TableTennisMLP().to(device)\n",
        "model.load_state_dict(torch.load(\"/content/modelWeight042400.pth\"))\n",
        "model.eval()\n",
        "\n",
        "# 2. 預測\n",
        "preds = predict_from_features(model, X_test_tensor, device)\n",
        "\n",
        "# 3. 產出 CSV\n",
        "submissionCSV = \"submission2.csv\" # 記得改\n",
        "create_submission(uids, preds, save_path=submissionCSV)\n"
      ]
    },
    {
      "cell_type": "code",
      "execution_count": 36,
      "id": "0032a1d3",
      "metadata": {
        "colab": {
          "base_uri": "https://localhost:8080/"
        },
        "id": "0032a1d3",
        "outputId": "399cf311-8dfa-4bef-e561-cc2b6fc7b7bb"
      },
      "outputs": [
        {
          "name": "stdout",
          "output_type": "stream",
          "text": [
            "✅ ground_truth.csv 已成功生成，共 1430 筆資料。\n"
          ]
        }
      ],
      "source": [
        "def generate_ground_truth_csv(filename='ground_truth.csv', num_samples=1430, seed=42):\n",
        "    np.random.seed(seed)\n",
        "\n",
        "    data = {\n",
        "        'unique_id': [1000 + i for i in range(1, num_samples + 1)],\n",
        "        'gender': np.random.randint(0, 2, size=num_samples),  # 0 or 1\n",
        "        'hold racket handed': np.random.randint(0, 2, size=num_samples),  # 0 or 1\n",
        "        'play years': np.random.randint(0, 3, size=num_samples),  # 0, 1, 2\n",
        "        'level': np.random.randint(2, 6, size=num_samples),  # 2, 3, 4, 5\n",
        "    }\n",
        "\n",
        "    df = pd.DataFrame(data)\n",
        "    df.to_csv(filename, index=False)\n",
        "    print(f\"✅ ground_truth.csv 已成功生成，共 {num_samples} 筆資料。\")\n",
        "\n",
        "# 執行生成測資\n",
        "generate_ground_truth_csv()"
      ]
    },
    {
      "cell_type": "code",
      "execution_count": 37,
      "id": "ce6c1a20",
      "metadata": {
        "colab": {
          "base_uri": "https://localhost:8080/"
        },
        "id": "ce6c1a20",
        "outputId": "6c132673-8feb-4a90-b56e-2d0fbfbcc2c1"
      },
      "outputs": [
        {
          "name": "stdout",
          "output_type": "stream",
          "text": [
            " ROC AUC - Gender: 0.4983\n",
            " ROC AUC - Hand:   0.4905\n",
            " ROC AUC - Years:  0.5038\n",
            " ROC AUC - Level:  0.5016\n",
            "\n",
            " Final Score:     0.4985\n"
          ]
        },
        {
          "data": {
            "text/plain": [
              "np.float64(0.49854402452278707)"
            ]
          },
          "execution_count": 37,
          "metadata": {},
          "output_type": "execute_result"
        }
      ],
      "source": [
        "from sklearn.metrics import roc_auc_score\n",
        "\n",
        "\n",
        "def evaluate_submission(submission_path, ground_truth_path):\n",
        "    # 讀取資料\n",
        "    pred = pd.read_csv(submission_path)\n",
        "    true = pd.read_csv(ground_truth_path)\n",
        "\n",
        "    # ⭐ 補上這行：將所有數值欄位中的 NaN 填補為該欄位平均\n",
        "    pred.fillna(pred.mean(numeric_only=True), inplace=True)\n",
        "\n",
        "    # 二元類別\n",
        "    gender_auc = roc_auc_score(true['gender'], pred['gender'])\n",
        "    hand_auc = roc_auc_score(true['hold racket handed'], pred['hold racket handed'])\n",
        "\n",
        "    # 多類別 - One-vs-Rest (Macro-average)\n",
        "    years_true = true['play years']\n",
        "    years_pred = pred[['play years_0', 'play years_1', 'play years_2']]\n",
        "    years_auc = roc_auc_score(years_true, years_pred, multi_class='ovr', average='macro')\n",
        "\n",
        "    level_true = true['level']\n",
        "    level_pred = pred[['level_2', 'level_3', 'level_4', 'level_5']]\n",
        "    level_auc = roc_auc_score(level_true, level_pred, multi_class='ovr', average='macro')\n",
        "\n",
        "    # 最終分數\n",
        "    final_score = (gender_auc + hand_auc + years_auc + level_auc) / 4\n",
        "\n",
        "    print(f\" ROC AUC - Gender: {gender_auc:.4f}\")\n",
        "    print(f\" ROC AUC - Hand:   {hand_auc:.4f}\")\n",
        "    print(f\" ROC AUC - Years:  {years_auc:.4f}\")\n",
        "    print(f\" ROC AUC - Level:  {level_auc:.4f}\")\n",
        "    print(f\"\\n Final Score:     {final_score:.4f}\")\n",
        "\n",
        "    return final_score\n",
        "\n",
        "evaluate_submission(\"submission2.csv\", \"ground_truth.csv\")\n"
      ]
    }
  ],
  "metadata": {
    "accelerator": "GPU",
    "colab": {
      "gpuType": "T4",
      "provenance": []
    },
    "kernelspec": {
      "display_name": "Python 3",
      "name": "python3"
    },
    "language_info": {
      "codemirror_mode": {
        "name": "ipython",
        "version": 3
      },
      "file_extension": ".py",
      "mimetype": "text/x-python",
      "name": "python",
      "nbconvert_exporter": "python",
      "pygments_lexer": "ipython3",
      "version": "3.8.20"
    }
  },
  "nbformat": 4,
  "nbformat_minor": 5
}
